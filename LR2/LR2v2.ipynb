{
 "metadata": {
  "language_info": {
   "codemirror_mode": {
    "name": "ipython",
    "version": 3
   },
   "file_extension": ".py",
   "mimetype": "text/x-python",
   "name": "python",
   "nbconvert_exporter": "python",
   "pygments_lexer": "ipython3",
   "version": "3.8.5"
  },
  "orig_nbformat": 2,
  "kernelspec": {
   "name": "python385jvsc74a57bd05280bffa9204288fdd19503a12617ac8da41657091370220e5806825b0a676d3",
   "display_name": "Python 3.8.5 64-bit"
  },
  "metadata": {
   "interpreter": {
    "hash": "5280bffa9204288fdd19503a12617ac8da41657091370220e5806825b0a676d3"
   }
  }
 },
 "nbformat": 4,
 "nbformat_minor": 2,
 "cells": [
  {
   "cell_type": "code",
   "execution_count": 1,
   "metadata": {},
   "outputs": [],
   "source": [
    "import numpy as np\n",
    "import pandas as pd\n",
    "import seaborn as sns\n",
    "import matplotlib.pyplot as plt"
   ]
  },
  {
   "cell_type": "code",
   "execution_count": 2,
   "metadata": {},
   "outputs": [],
   "source": [
    "data = pd.read_csv('HRDataset_v14.csv', sep=\",\")"
   ]
  },
  {
   "cell_type": "code",
   "execution_count": 3,
   "metadata": {},
   "outputs": [
    {
     "output_type": "stream",
     "name": "stdout",
     "text": [
      "Размер таблицы:  (311, 36)\n"
     ]
    }
   ],
   "source": [
    "print(\"Размер таблицы: \", data.shape)"
   ]
  },
  {
   "cell_type": "code",
   "execution_count": 4,
   "metadata": {},
   "outputs": [
    {
     "output_type": "execute_result",
     "data": {
      "text/plain": [
       "              Employee_Name  EmpID  MarriedID  MaritalStatusID  GenderID  \\\n",
       "0       Adinolfi, Wilson  K  10026        0.0                0         1   \n",
       "1  Ait Sidi, Karthikeyan     10084        NaN                1         1   \n",
       "2         Akinkuolie, Sarah  10196        NaN                1         0   \n",
       "3              Alagbe,Trina  10088        1.0                1         0   \n",
       "4          Anderson, Carol   10069        0.0                2         0   \n",
       "\n",
       "   EmpStatusID  DeptID  PerfScoreID  FromDiversityJobFairID  Salary  ...  \\\n",
       "0            1       5            4                       0   62506  ...   \n",
       "1            5       3            3                       0  104437  ...   \n",
       "2            5       5            3                       0   64955  ...   \n",
       "3            1       5            3                       0   64991  ...   \n",
       "4            5       5            3                       0   50825  ...   \n",
       "\n",
       "      ManagerName  ManagerID RecruitmentSource PerformanceScore  \\\n",
       "0  Michael Albert       22.0          LinkedIn          Exceeds   \n",
       "1      Simon Roup        4.0            Indeed      Fully Meets   \n",
       "2  Kissy Sullivan       20.0          LinkedIn      Fully Meets   \n",
       "3    Elijiah Gray       16.0            Indeed      Fully Meets   \n",
       "4  Webster Butler       39.0     Google Search      Fully Meets   \n",
       "\n",
       "   EngagementSurvey EmpSatisfaction SpecialProjectsCount  \\\n",
       "0              4.60               5                    0   \n",
       "1              4.96               3                    6   \n",
       "2              3.02               3                    0   \n",
       "3              4.84               5                    0   \n",
       "4              5.00               4                    0   \n",
       "\n",
       "  LastPerformanceReview_Date DaysLateLast30 Absences  \n",
       "0                  1/17/2019              0        1  \n",
       "1                  2/24/2016              0       17  \n",
       "2                  5/15/2012              0        3  \n",
       "3                   1/3/2019              0       15  \n",
       "4                   2/1/2016              0        2  \n",
       "\n",
       "[5 rows x 36 columns]"
      ],
      "text/html": "<div>\n<style scoped>\n    .dataframe tbody tr th:only-of-type {\n        vertical-align: middle;\n    }\n\n    .dataframe tbody tr th {\n        vertical-align: top;\n    }\n\n    .dataframe thead th {\n        text-align: right;\n    }\n</style>\n<table border=\"1\" class=\"dataframe\">\n  <thead>\n    <tr style=\"text-align: right;\">\n      <th></th>\n      <th>Employee_Name</th>\n      <th>EmpID</th>\n      <th>MarriedID</th>\n      <th>MaritalStatusID</th>\n      <th>GenderID</th>\n      <th>EmpStatusID</th>\n      <th>DeptID</th>\n      <th>PerfScoreID</th>\n      <th>FromDiversityJobFairID</th>\n      <th>Salary</th>\n      <th>...</th>\n      <th>ManagerName</th>\n      <th>ManagerID</th>\n      <th>RecruitmentSource</th>\n      <th>PerformanceScore</th>\n      <th>EngagementSurvey</th>\n      <th>EmpSatisfaction</th>\n      <th>SpecialProjectsCount</th>\n      <th>LastPerformanceReview_Date</th>\n      <th>DaysLateLast30</th>\n      <th>Absences</th>\n    </tr>\n  </thead>\n  <tbody>\n    <tr>\n      <th>0</th>\n      <td>Adinolfi, Wilson  K</td>\n      <td>10026</td>\n      <td>0.0</td>\n      <td>0</td>\n      <td>1</td>\n      <td>1</td>\n      <td>5</td>\n      <td>4</td>\n      <td>0</td>\n      <td>62506</td>\n      <td>...</td>\n      <td>Michael Albert</td>\n      <td>22.0</td>\n      <td>LinkedIn</td>\n      <td>Exceeds</td>\n      <td>4.60</td>\n      <td>5</td>\n      <td>0</td>\n      <td>1/17/2019</td>\n      <td>0</td>\n      <td>1</td>\n    </tr>\n    <tr>\n      <th>1</th>\n      <td>Ait Sidi, Karthikeyan</td>\n      <td>10084</td>\n      <td>NaN</td>\n      <td>1</td>\n      <td>1</td>\n      <td>5</td>\n      <td>3</td>\n      <td>3</td>\n      <td>0</td>\n      <td>104437</td>\n      <td>...</td>\n      <td>Simon Roup</td>\n      <td>4.0</td>\n      <td>Indeed</td>\n      <td>Fully Meets</td>\n      <td>4.96</td>\n      <td>3</td>\n      <td>6</td>\n      <td>2/24/2016</td>\n      <td>0</td>\n      <td>17</td>\n    </tr>\n    <tr>\n      <th>2</th>\n      <td>Akinkuolie, Sarah</td>\n      <td>10196</td>\n      <td>NaN</td>\n      <td>1</td>\n      <td>0</td>\n      <td>5</td>\n      <td>5</td>\n      <td>3</td>\n      <td>0</td>\n      <td>64955</td>\n      <td>...</td>\n      <td>Kissy Sullivan</td>\n      <td>20.0</td>\n      <td>LinkedIn</td>\n      <td>Fully Meets</td>\n      <td>3.02</td>\n      <td>3</td>\n      <td>0</td>\n      <td>5/15/2012</td>\n      <td>0</td>\n      <td>3</td>\n    </tr>\n    <tr>\n      <th>3</th>\n      <td>Alagbe,Trina</td>\n      <td>10088</td>\n      <td>1.0</td>\n      <td>1</td>\n      <td>0</td>\n      <td>1</td>\n      <td>5</td>\n      <td>3</td>\n      <td>0</td>\n      <td>64991</td>\n      <td>...</td>\n      <td>Elijiah Gray</td>\n      <td>16.0</td>\n      <td>Indeed</td>\n      <td>Fully Meets</td>\n      <td>4.84</td>\n      <td>5</td>\n      <td>0</td>\n      <td>1/3/2019</td>\n      <td>0</td>\n      <td>15</td>\n    </tr>\n    <tr>\n      <th>4</th>\n      <td>Anderson, Carol</td>\n      <td>10069</td>\n      <td>0.0</td>\n      <td>2</td>\n      <td>0</td>\n      <td>5</td>\n      <td>5</td>\n      <td>3</td>\n      <td>0</td>\n      <td>50825</td>\n      <td>...</td>\n      <td>Webster Butler</td>\n      <td>39.0</td>\n      <td>Google Search</td>\n      <td>Fully Meets</td>\n      <td>5.00</td>\n      <td>4</td>\n      <td>0</td>\n      <td>2/1/2016</td>\n      <td>0</td>\n      <td>2</td>\n    </tr>\n  </tbody>\n</table>\n<p>5 rows × 36 columns</p>\n</div>"
     },
     "metadata": {},
     "execution_count": 4
    }
   ],
   "source": [
    "data.head()"
   ]
  },
  {
   "cell_type": "code",
   "execution_count": 5,
   "metadata": {},
   "outputs": [
    {
     "output_type": "execute_result",
     "data": {
      "text/plain": [
       "Employee_Name                  object\n",
       "EmpID                           int64\n",
       "MarriedID                     float64\n",
       "MaritalStatusID                 int64\n",
       "GenderID                        int64\n",
       "EmpStatusID                     int64\n",
       "DeptID                          int64\n",
       "PerfScoreID                     int64\n",
       "FromDiversityJobFairID          int64\n",
       "Salary                          int64\n",
       "Termd                           int64\n",
       "PositionID                      int64\n",
       "Position                       object\n",
       "State                          object\n",
       "Zip                             int64\n",
       "DOB                            object\n",
       "Sex                            object\n",
       "MaritalDesc                    object\n",
       "CitizenDesc                    object\n",
       "HispanicLatino                 object\n",
       "RaceDesc                       object\n",
       "DateofHire                     object\n",
       "DateofTermination              object\n",
       "TermReason                     object\n",
       "EmploymentStatus               object\n",
       "Department                     object\n",
       "ManagerName                    object\n",
       "ManagerID                     float64\n",
       "RecruitmentSource              object\n",
       "PerformanceScore               object\n",
       "EngagementSurvey              float64\n",
       "EmpSatisfaction                 int64\n",
       "SpecialProjectsCount            int64\n",
       "LastPerformanceReview_Date     object\n",
       "DaysLateLast30                  int64\n",
       "Absences                        int64\n",
       "dtype: object"
      ]
     },
     "metadata": {},
     "execution_count": 5
    }
   ],
   "source": [
    "data.dtypes"
   ]
  },
  {
   "cell_type": "code",
   "execution_count": 6,
   "metadata": {},
   "outputs": [
    {
     "output_type": "stream",
     "name": "stdout",
     "text": [
      "Employee_Name                   0\nEmpID                           0\nMarriedID                      20\nMaritalStatusID                 0\nGenderID                        0\nEmpStatusID                     0\nDeptID                          0\nPerfScoreID                     0\nFromDiversityJobFairID          0\nSalary                          0\nTermd                           0\nPositionID                      0\nPosition                        0\nState                           0\nZip                             0\nDOB                             0\nSex                             0\nMaritalDesc                     0\nCitizenDesc                     0\nHispanicLatino                  0\nRaceDesc                       20\nDateofHire                      0\nDateofTermination             207\nTermReason                    207\nEmploymentStatus                0\nDepartment                      0\nManagerName                     0\nManagerID                       8\nRecruitmentSource               0\nPerformanceScore                0\nEngagementSurvey                0\nEmpSatisfaction                 0\nSpecialProjectsCount            0\nLastPerformanceReview_Date      0\nDaysLateLast30                  0\nAbsences                        0\ndtype: int64\n"
     ]
    }
   ],
   "source": [
    "# Сумма пропущенных значений\n",
    "isnull = data.isnull().sum()\n",
    "print(isnull)"
   ]
  },
  {
   "source": [
    "# 2. Обработка данных\n",
    "## 2.1. Удаление значений"
   ],
   "cell_type": "markdown",
   "metadata": {}
  },
  {
   "cell_type": "code",
   "execution_count": 8,
   "metadata": {},
   "outputs": [
    {
     "output_type": "execute_result",
     "data": {
      "text/plain": [
       "(311, 31)"
      ]
     },
     "metadata": {},
     "execution_count": 8
    }
   ],
   "source": [
    "# Удаление столбцов\n",
    "newdata1 = data.dropna(axis=1)\n",
    "newdata1.shape"
   ]
  },
  {
   "cell_type": "code",
   "execution_count": 9,
   "metadata": {},
   "outputs": [
    {
     "output_type": "execute_result",
     "data": {
      "text/plain": [
       "Employee_Name                  object\n",
       "EmpID                           int64\n",
       "MaritalStatusID                 int64\n",
       "GenderID                        int64\n",
       "EmpStatusID                     int64\n",
       "DeptID                          int64\n",
       "PerfScoreID                     int64\n",
       "FromDiversityJobFairID          int64\n",
       "Salary                          int64\n",
       "Termd                           int64\n",
       "PositionID                      int64\n",
       "Position                       object\n",
       "State                          object\n",
       "Zip                             int64\n",
       "DOB                            object\n",
       "Sex                            object\n",
       "MaritalDesc                    object\n",
       "CitizenDesc                    object\n",
       "HispanicLatino                 object\n",
       "DateofHire                     object\n",
       "EmploymentStatus               object\n",
       "Department                     object\n",
       "ManagerName                    object\n",
       "RecruitmentSource              object\n",
       "PerformanceScore               object\n",
       "EngagementSurvey              float64\n",
       "EmpSatisfaction                 int64\n",
       "SpecialProjectsCount            int64\n",
       "LastPerformanceReview_Date     object\n",
       "DaysLateLast30                  int64\n",
       "Absences                        int64\n",
       "dtype: object"
      ]
     },
     "metadata": {},
     "execution_count": 9
    }
   ],
   "source": [
    "newdata1.dtypes"
   ]
  },
  {
   "cell_type": "code",
   "execution_count": 10,
   "metadata": {},
   "outputs": [
    {
     "output_type": "execute_result",
     "data": {
      "text/plain": [
       "(88, 36)"
      ]
     },
     "metadata": {},
     "execution_count": 10
    }
   ],
   "source": [
    "# Удаление строк\n",
    "newdata2 = data.dropna(axis=0)\n",
    "newdata2.shape"
   ]
  },
  {
   "cell_type": "code",
   "execution_count": 11,
   "metadata": {},
   "outputs": [
    {
     "output_type": "stream",
     "name": "stdout",
     "text": [
      "MarriedID - float64 - (20) 6.43087%\nRaceDesc - object - (20) 6.43087%\nDateofTermination - object - (207) 66.55949%\nTermReason - object - (207) 66.55949%\nManagerID - float64 - (8) 2.57235%\n"
     ]
    }
   ],
   "source": [
    "mass1 = []\n",
    "mass2 = []\n",
    "mass3 = []\n",
    "for key in isnull.keys():\n",
    "    elem = []\n",
    "    if isnull[key] != 0:\n",
    "        elem.append(key)\n",
    "        elem.append(data[key].dtype)\n",
    "        elem.append(isnull[key])\n",
    "        elem.append(round(isnull[key] / data.shape[0] * 100, 5))\n",
    "        mass1.append(elem)\n",
    "    if isnull[key] != 0 and (str(data[key].dtype) == 'float64' or str(data[key].dtype) == 'int64'):\n",
    "        mass2.append(elem)\n",
    "    if isnull[key] != 0 and str(data[key].dtype) == 'object':\n",
    "        mass3.append(elem)\n",
    "data_num_obj = []\n",
    "for key in mass1:\n",
    "    data_num_obj.append(key[0])\n",
    "    print(\"{} - {} - ({}) {}%\".format(key[0], key[1], key[2], key[3]))"
   ]
  },
  {
   "cell_type": "code",
   "execution_count": 12,
   "metadata": {},
   "outputs": [
    {
     "output_type": "stream",
     "name": "stdout",
     "text": [
      "MarriedID - float64 - (20) 6.43087%\nManagerID - float64 - (8) 2.57235%\n"
     ]
    }
   ],
   "source": [
    "data_num = []\n",
    "for key in mass2:\n",
    "    data_num.append(key[0])\n",
    "    print(\"{} - {} - ({}) {}%\".format(key[0], key[1], key[2], key[3]))"
   ]
  },
  {
   "cell_type": "code",
   "execution_count": 13,
   "metadata": {},
   "outputs": [
    {
     "output_type": "display_data",
     "data": {
      "text/plain": "<Figure size 432x288 with 1 Axes>",
      "image/svg+xml": "<?xml version=\"1.0\" encoding=\"utf-8\" standalone=\"no\"?>\r\n<!DOCTYPE svg PUBLIC \"-//W3C//DTD SVG 1.1//EN\"\r\n  \"http://www.w3.org/Graphics/SVG/1.1/DTD/svg11.dtd\">\r\n<svg height=\"262.19625pt\" version=\"1.1\" viewBox=\"0 0 375.2875 262.19625\" width=\"375.2875pt\" xmlns=\"http://www.w3.org/2000/svg\" xmlns:xlink=\"http://www.w3.org/1999/xlink\">\r\n <metadata>\r\n  <rdf:RDF xmlns:cc=\"http://creativecommons.org/ns#\" xmlns:dc=\"http://purl.org/dc/elements/1.1/\" xmlns:rdf=\"http://www.w3.org/1999/02/22-rdf-syntax-ns#\">\r\n   <cc:Work>\r\n    <dc:type rdf:resource=\"http://purl.org/dc/dcmitype/StillImage\"/>\r\n    <dc:date>2021-04-21T14:40:26.905288</dc:date>\r\n    <dc:format>image/svg+xml</dc:format>\r\n    <dc:creator>\r\n     <cc:Agent>\r\n      <dc:title>Matplotlib v3.4.0, https://matplotlib.org/</dc:title>\r\n     </cc:Agent>\r\n    </dc:creator>\r\n   </cc:Work>\r\n  </rdf:RDF>\r\n </metadata>\r\n <defs>\r\n  <style type=\"text/css\">*{stroke-linecap:butt;stroke-linejoin:round;}</style>\r\n </defs>\r\n <g id=\"figure_1\">\r\n  <g id=\"patch_1\">\r\n   <path d=\"M 0 262.19625 \r\nL 375.2875 262.19625 \r\nL 375.2875 0 \r\nL 0 0 \r\nz\r\n\" style=\"fill:none;\"/>\r\n  </g>\r\n  <g id=\"axes_1\">\r\n   <g id=\"patch_2\">\r\n    <path d=\"M 33.2875 224.64 \r\nL 368.0875 224.64 \r\nL 368.0875 7.2 \r\nL 33.2875 7.2 \r\nz\r\n\" style=\"fill:#ffffff;\"/>\r\n   </g>\r\n   <g id=\"patch_3\">\r\n    <path clip-path=\"url(#p4b0fc7b0f0)\" d=\"M 48.505682 224.64 \r\nL 51.549318 224.64 \r\nL 51.549318 17.554286 \r\nL 48.505682 17.554286 \r\nz\r\n\" style=\"fill:#1f77b4;\"/>\r\n   </g>\r\n   <g id=\"patch_4\">\r\n    <path clip-path=\"url(#p4b0fc7b0f0)\" d=\"M 51.549318 224.64 \r\nL 54.592955 224.64 \r\nL 54.592955 224.64 \r\nL 51.549318 224.64 \r\nz\r\n\" style=\"fill:#1f77b4;\"/>\r\n   </g>\r\n   <g id=\"patch_5\">\r\n    <path clip-path=\"url(#p4b0fc7b0f0)\" d=\"M 54.592955 224.64 \r\nL 57.636591 224.64 \r\nL 57.636591 224.64 \r\nL 54.592955 224.64 \r\nz\r\n\" style=\"fill:#1f77b4;\"/>\r\n   </g>\r\n   <g id=\"patch_6\">\r\n    <path clip-path=\"url(#p4b0fc7b0f0)\" d=\"M 57.636591 224.64 \r\nL 60.680227 224.64 \r\nL 60.680227 224.64 \r\nL 57.636591 224.64 \r\nz\r\n\" style=\"fill:#1f77b4;\"/>\r\n   </g>\r\n   <g id=\"patch_7\">\r\n    <path clip-path=\"url(#p4b0fc7b0f0)\" d=\"M 60.680227 224.64 \r\nL 63.723864 224.64 \r\nL 63.723864 224.64 \r\nL 60.680227 224.64 \r\nz\r\n\" style=\"fill:#1f77b4;\"/>\r\n   </g>\r\n   <g id=\"patch_8\">\r\n    <path clip-path=\"url(#p4b0fc7b0f0)\" d=\"M 63.723864 224.64 \r\nL 66.7675 224.64 \r\nL 66.7675 224.64 \r\nL 63.723864 224.64 \r\nz\r\n\" style=\"fill:#1f77b4;\"/>\r\n   </g>\r\n   <g id=\"patch_9\">\r\n    <path clip-path=\"url(#p4b0fc7b0f0)\" d=\"M 66.7675 224.64 \r\nL 69.811136 224.64 \r\nL 69.811136 224.64 \r\nL 66.7675 224.64 \r\nz\r\n\" style=\"fill:#1f77b4;\"/>\r\n   </g>\r\n   <g id=\"patch_10\">\r\n    <path clip-path=\"url(#p4b0fc7b0f0)\" d=\"M 69.811136 224.64 \r\nL 72.854773 224.64 \r\nL 72.854773 224.64 \r\nL 69.811136 224.64 \r\nz\r\n\" style=\"fill:#1f77b4;\"/>\r\n   </g>\r\n   <g id=\"patch_11\">\r\n    <path clip-path=\"url(#p4b0fc7b0f0)\" d=\"M 72.854773 224.64 \r\nL 75.898409 224.64 \r\nL 75.898409 224.64 \r\nL 72.854773 224.64 \r\nz\r\n\" style=\"fill:#1f77b4;\"/>\r\n   </g>\r\n   <g id=\"patch_12\">\r\n    <path clip-path=\"url(#p4b0fc7b0f0)\" d=\"M 75.898409 224.64 \r\nL 78.942045 224.64 \r\nL 78.942045 224.64 \r\nL 75.898409 224.64 \r\nz\r\n\" style=\"fill:#1f77b4;\"/>\r\n   </g>\r\n   <g id=\"patch_13\">\r\n    <path clip-path=\"url(#p4b0fc7b0f0)\" d=\"M 78.942045 224.64 \r\nL 81.985682 224.64 \r\nL 81.985682 224.64 \r\nL 78.942045 224.64 \r\nz\r\n\" style=\"fill:#1f77b4;\"/>\r\n   </g>\r\n   <g id=\"patch_14\">\r\n    <path clip-path=\"url(#p4b0fc7b0f0)\" d=\"M 81.985682 224.64 \r\nL 85.029318 224.64 \r\nL 85.029318 224.64 \r\nL 81.985682 224.64 \r\nz\r\n\" style=\"fill:#1f77b4;\"/>\r\n   </g>\r\n   <g id=\"patch_15\">\r\n    <path clip-path=\"url(#p4b0fc7b0f0)\" d=\"M 85.029318 224.64 \r\nL 88.072955 224.64 \r\nL 88.072955 224.64 \r\nL 85.029318 224.64 \r\nz\r\n\" style=\"fill:#1f77b4;\"/>\r\n   </g>\r\n   <g id=\"patch_16\">\r\n    <path clip-path=\"url(#p4b0fc7b0f0)\" d=\"M 88.072955 224.64 \r\nL 91.116591 224.64 \r\nL 91.116591 224.64 \r\nL 88.072955 224.64 \r\nz\r\n\" style=\"fill:#1f77b4;\"/>\r\n   </g>\r\n   <g id=\"patch_17\">\r\n    <path clip-path=\"url(#p4b0fc7b0f0)\" d=\"M 91.116591 224.64 \r\nL 94.160227 224.64 \r\nL 94.160227 224.64 \r\nL 91.116591 224.64 \r\nz\r\n\" style=\"fill:#1f77b4;\"/>\r\n   </g>\r\n   <g id=\"patch_18\">\r\n    <path clip-path=\"url(#p4b0fc7b0f0)\" d=\"M 94.160227 224.64 \r\nL 97.203864 224.64 \r\nL 97.203864 224.64 \r\nL 94.160227 224.64 \r\nz\r\n\" style=\"fill:#1f77b4;\"/>\r\n   </g>\r\n   <g id=\"patch_19\">\r\n    <path clip-path=\"url(#p4b0fc7b0f0)\" d=\"M 97.203864 224.64 \r\nL 100.2475 224.64 \r\nL 100.2475 224.64 \r\nL 97.203864 224.64 \r\nz\r\n\" style=\"fill:#1f77b4;\"/>\r\n   </g>\r\n   <g id=\"patch_20\">\r\n    <path clip-path=\"url(#p4b0fc7b0f0)\" d=\"M 100.2475 224.64 \r\nL 103.291136 224.64 \r\nL 103.291136 224.64 \r\nL 100.2475 224.64 \r\nz\r\n\" style=\"fill:#1f77b4;\"/>\r\n   </g>\r\n   <g id=\"patch_21\">\r\n    <path clip-path=\"url(#p4b0fc7b0f0)\" d=\"M 103.291136 224.64 \r\nL 106.334773 224.64 \r\nL 106.334773 224.64 \r\nL 103.291136 224.64 \r\nz\r\n\" style=\"fill:#1f77b4;\"/>\r\n   </g>\r\n   <g id=\"patch_22\">\r\n    <path clip-path=\"url(#p4b0fc7b0f0)\" d=\"M 106.334773 224.64 \r\nL 109.378409 224.64 \r\nL 109.378409 224.64 \r\nL 106.334773 224.64 \r\nz\r\n\" style=\"fill:#1f77b4;\"/>\r\n   </g>\r\n   <g id=\"patch_23\">\r\n    <path clip-path=\"url(#p4b0fc7b0f0)\" d=\"M 109.378409 224.64 \r\nL 112.422045 224.64 \r\nL 112.422045 224.64 \r\nL 109.378409 224.64 \r\nz\r\n\" style=\"fill:#1f77b4;\"/>\r\n   </g>\r\n   <g id=\"patch_24\">\r\n    <path clip-path=\"url(#p4b0fc7b0f0)\" d=\"M 112.422045 224.64 \r\nL 115.465682 224.64 \r\nL 115.465682 224.64 \r\nL 112.422045 224.64 \r\nz\r\n\" style=\"fill:#1f77b4;\"/>\r\n   </g>\r\n   <g id=\"patch_25\">\r\n    <path clip-path=\"url(#p4b0fc7b0f0)\" d=\"M 115.465682 224.64 \r\nL 118.509318 224.64 \r\nL 118.509318 224.64 \r\nL 115.465682 224.64 \r\nz\r\n\" style=\"fill:#1f77b4;\"/>\r\n   </g>\r\n   <g id=\"patch_26\">\r\n    <path clip-path=\"url(#p4b0fc7b0f0)\" d=\"M 118.509318 224.64 \r\nL 121.552955 224.64 \r\nL 121.552955 224.64 \r\nL 118.509318 224.64 \r\nz\r\n\" style=\"fill:#1f77b4;\"/>\r\n   </g>\r\n   <g id=\"patch_27\">\r\n    <path clip-path=\"url(#p4b0fc7b0f0)\" d=\"M 121.552955 224.64 \r\nL 124.596591 224.64 \r\nL 124.596591 224.64 \r\nL 121.552955 224.64 \r\nz\r\n\" style=\"fill:#1f77b4;\"/>\r\n   </g>\r\n   <g id=\"patch_28\">\r\n    <path clip-path=\"url(#p4b0fc7b0f0)\" d=\"M 124.596591 224.64 \r\nL 127.640227 224.64 \r\nL 127.640227 224.64 \r\nL 124.596591 224.64 \r\nz\r\n\" style=\"fill:#1f77b4;\"/>\r\n   </g>\r\n   <g id=\"patch_29\">\r\n    <path clip-path=\"url(#p4b0fc7b0f0)\" d=\"M 127.640227 224.64 \r\nL 130.683864 224.64 \r\nL 130.683864 224.64 \r\nL 127.640227 224.64 \r\nz\r\n\" style=\"fill:#1f77b4;\"/>\r\n   </g>\r\n   <g id=\"patch_30\">\r\n    <path clip-path=\"url(#p4b0fc7b0f0)\" d=\"M 130.683864 224.64 \r\nL 133.7275 224.64 \r\nL 133.7275 224.64 \r\nL 130.683864 224.64 \r\nz\r\n\" style=\"fill:#1f77b4;\"/>\r\n   </g>\r\n   <g id=\"patch_31\">\r\n    <path clip-path=\"url(#p4b0fc7b0f0)\" d=\"M 133.7275 224.64 \r\nL 136.771136 224.64 \r\nL 136.771136 224.64 \r\nL 133.7275 224.64 \r\nz\r\n\" style=\"fill:#1f77b4;\"/>\r\n   </g>\r\n   <g id=\"patch_32\">\r\n    <path clip-path=\"url(#p4b0fc7b0f0)\" d=\"M 136.771136 224.64 \r\nL 139.814773 224.64 \r\nL 139.814773 224.64 \r\nL 136.771136 224.64 \r\nz\r\n\" style=\"fill:#1f77b4;\"/>\r\n   </g>\r\n   <g id=\"patch_33\">\r\n    <path clip-path=\"url(#p4b0fc7b0f0)\" d=\"M 139.814773 224.64 \r\nL 142.858409 224.64 \r\nL 142.858409 224.64 \r\nL 139.814773 224.64 \r\nz\r\n\" style=\"fill:#1f77b4;\"/>\r\n   </g>\r\n   <g id=\"patch_34\">\r\n    <path clip-path=\"url(#p4b0fc7b0f0)\" d=\"M 142.858409 224.64 \r\nL 145.902045 224.64 \r\nL 145.902045 224.64 \r\nL 142.858409 224.64 \r\nz\r\n\" style=\"fill:#1f77b4;\"/>\r\n   </g>\r\n   <g id=\"patch_35\">\r\n    <path clip-path=\"url(#p4b0fc7b0f0)\" d=\"M 145.902045 224.64 \r\nL 148.945682 224.64 \r\nL 148.945682 224.64 \r\nL 145.902045 224.64 \r\nz\r\n\" style=\"fill:#1f77b4;\"/>\r\n   </g>\r\n   <g id=\"patch_36\">\r\n    <path clip-path=\"url(#p4b0fc7b0f0)\" d=\"M 148.945682 224.64 \r\nL 151.989318 224.64 \r\nL 151.989318 224.64 \r\nL 148.945682 224.64 \r\nz\r\n\" style=\"fill:#1f77b4;\"/>\r\n   </g>\r\n   <g id=\"patch_37\">\r\n    <path clip-path=\"url(#p4b0fc7b0f0)\" d=\"M 151.989318 224.64 \r\nL 155.032955 224.64 \r\nL 155.032955 224.64 \r\nL 151.989318 224.64 \r\nz\r\n\" style=\"fill:#1f77b4;\"/>\r\n   </g>\r\n   <g id=\"patch_38\">\r\n    <path clip-path=\"url(#p4b0fc7b0f0)\" d=\"M 155.032955 224.64 \r\nL 158.076591 224.64 \r\nL 158.076591 224.64 \r\nL 155.032955 224.64 \r\nz\r\n\" style=\"fill:#1f77b4;\"/>\r\n   </g>\r\n   <g id=\"patch_39\">\r\n    <path clip-path=\"url(#p4b0fc7b0f0)\" d=\"M 158.076591 224.64 \r\nL 161.120227 224.64 \r\nL 161.120227 224.64 \r\nL 158.076591 224.64 \r\nz\r\n\" style=\"fill:#1f77b4;\"/>\r\n   </g>\r\n   <g id=\"patch_40\">\r\n    <path clip-path=\"url(#p4b0fc7b0f0)\" d=\"M 161.120227 224.64 \r\nL 164.163864 224.64 \r\nL 164.163864 224.64 \r\nL 161.120227 224.64 \r\nz\r\n\" style=\"fill:#1f77b4;\"/>\r\n   </g>\r\n   <g id=\"patch_41\">\r\n    <path clip-path=\"url(#p4b0fc7b0f0)\" d=\"M 164.163864 224.64 \r\nL 167.2075 224.64 \r\nL 167.2075 224.64 \r\nL 164.163864 224.64 \r\nz\r\n\" style=\"fill:#1f77b4;\"/>\r\n   </g>\r\n   <g id=\"patch_42\">\r\n    <path clip-path=\"url(#p4b0fc7b0f0)\" d=\"M 167.2075 224.64 \r\nL 170.251136 224.64 \r\nL 170.251136 224.64 \r\nL 167.2075 224.64 \r\nz\r\n\" style=\"fill:#1f77b4;\"/>\r\n   </g>\r\n   <g id=\"patch_43\">\r\n    <path clip-path=\"url(#p4b0fc7b0f0)\" d=\"M 170.251136 224.64 \r\nL 173.294773 224.64 \r\nL 173.294773 224.64 \r\nL 170.251136 224.64 \r\nz\r\n\" style=\"fill:#1f77b4;\"/>\r\n   </g>\r\n   <g id=\"patch_44\">\r\n    <path clip-path=\"url(#p4b0fc7b0f0)\" d=\"M 173.294773 224.64 \r\nL 176.338409 224.64 \r\nL 176.338409 224.64 \r\nL 173.294773 224.64 \r\nz\r\n\" style=\"fill:#1f77b4;\"/>\r\n   </g>\r\n   <g id=\"patch_45\">\r\n    <path clip-path=\"url(#p4b0fc7b0f0)\" d=\"M 176.338409 224.64 \r\nL 179.382045 224.64 \r\nL 179.382045 224.64 \r\nL 176.338409 224.64 \r\nz\r\n\" style=\"fill:#1f77b4;\"/>\r\n   </g>\r\n   <g id=\"patch_46\">\r\n    <path clip-path=\"url(#p4b0fc7b0f0)\" d=\"M 179.382045 224.64 \r\nL 182.425682 224.64 \r\nL 182.425682 224.64 \r\nL 179.382045 224.64 \r\nz\r\n\" style=\"fill:#1f77b4;\"/>\r\n   </g>\r\n   <g id=\"patch_47\">\r\n    <path clip-path=\"url(#p4b0fc7b0f0)\" d=\"M 182.425682 224.64 \r\nL 185.469318 224.64 \r\nL 185.469318 224.64 \r\nL 182.425682 224.64 \r\nz\r\n\" style=\"fill:#1f77b4;\"/>\r\n   </g>\r\n   <g id=\"patch_48\">\r\n    <path clip-path=\"url(#p4b0fc7b0f0)\" d=\"M 185.469318 224.64 \r\nL 188.512955 224.64 \r\nL 188.512955 224.64 \r\nL 185.469318 224.64 \r\nz\r\n\" style=\"fill:#1f77b4;\"/>\r\n   </g>\r\n   <g id=\"patch_49\">\r\n    <path clip-path=\"url(#p4b0fc7b0f0)\" d=\"M 188.512955 224.64 \r\nL 191.556591 224.64 \r\nL 191.556591 224.64 \r\nL 188.512955 224.64 \r\nz\r\n\" style=\"fill:#1f77b4;\"/>\r\n   </g>\r\n   <g id=\"patch_50\">\r\n    <path clip-path=\"url(#p4b0fc7b0f0)\" d=\"M 191.556591 224.64 \r\nL 194.600227 224.64 \r\nL 194.600227 224.64 \r\nL 191.556591 224.64 \r\nz\r\n\" style=\"fill:#1f77b4;\"/>\r\n   </g>\r\n   <g id=\"patch_51\">\r\n    <path clip-path=\"url(#p4b0fc7b0f0)\" d=\"M 194.600227 224.64 \r\nL 197.643864 224.64 \r\nL 197.643864 224.64 \r\nL 194.600227 224.64 \r\nz\r\n\" style=\"fill:#1f77b4;\"/>\r\n   </g>\r\n   <g id=\"patch_52\">\r\n    <path clip-path=\"url(#p4b0fc7b0f0)\" d=\"M 197.643864 224.64 \r\nL 200.6875 224.64 \r\nL 200.6875 224.64 \r\nL 197.643864 224.64 \r\nz\r\n\" style=\"fill:#1f77b4;\"/>\r\n   </g>\r\n   <g id=\"patch_53\">\r\n    <path clip-path=\"url(#p4b0fc7b0f0)\" d=\"M 200.6875 224.64 \r\nL 203.731136 224.64 \r\nL 203.731136 224.64 \r\nL 200.6875 224.64 \r\nz\r\n\" style=\"fill:#1f77b4;\"/>\r\n   </g>\r\n   <g id=\"patch_54\">\r\n    <path clip-path=\"url(#p4b0fc7b0f0)\" d=\"M 203.731136 224.64 \r\nL 206.774773 224.64 \r\nL 206.774773 224.64 \r\nL 203.731136 224.64 \r\nz\r\n\" style=\"fill:#1f77b4;\"/>\r\n   </g>\r\n   <g id=\"patch_55\">\r\n    <path clip-path=\"url(#p4b0fc7b0f0)\" d=\"M 206.774773 224.64 \r\nL 209.818409 224.64 \r\nL 209.818409 224.64 \r\nL 206.774773 224.64 \r\nz\r\n\" style=\"fill:#1f77b4;\"/>\r\n   </g>\r\n   <g id=\"patch_56\">\r\n    <path clip-path=\"url(#p4b0fc7b0f0)\" d=\"M 209.818409 224.64 \r\nL 212.862045 224.64 \r\nL 212.862045 224.64 \r\nL 209.818409 224.64 \r\nz\r\n\" style=\"fill:#1f77b4;\"/>\r\n   </g>\r\n   <g id=\"patch_57\">\r\n    <path clip-path=\"url(#p4b0fc7b0f0)\" d=\"M 212.862045 224.64 \r\nL 215.905682 224.64 \r\nL 215.905682 224.64 \r\nL 212.862045 224.64 \r\nz\r\n\" style=\"fill:#1f77b4;\"/>\r\n   </g>\r\n   <g id=\"patch_58\">\r\n    <path clip-path=\"url(#p4b0fc7b0f0)\" d=\"M 215.905682 224.64 \r\nL 218.949318 224.64 \r\nL 218.949318 224.64 \r\nL 215.905682 224.64 \r\nz\r\n\" style=\"fill:#1f77b4;\"/>\r\n   </g>\r\n   <g id=\"patch_59\">\r\n    <path clip-path=\"url(#p4b0fc7b0f0)\" d=\"M 218.949318 224.64 \r\nL 221.992955 224.64 \r\nL 221.992955 224.64 \r\nL 218.949318 224.64 \r\nz\r\n\" style=\"fill:#1f77b4;\"/>\r\n   </g>\r\n   <g id=\"patch_60\">\r\n    <path clip-path=\"url(#p4b0fc7b0f0)\" d=\"M 221.992955 224.64 \r\nL 225.036591 224.64 \r\nL 225.036591 224.64 \r\nL 221.992955 224.64 \r\nz\r\n\" style=\"fill:#1f77b4;\"/>\r\n   </g>\r\n   <g id=\"patch_61\">\r\n    <path clip-path=\"url(#p4b0fc7b0f0)\" d=\"M 225.036591 224.64 \r\nL 228.080227 224.64 \r\nL 228.080227 224.64 \r\nL 225.036591 224.64 \r\nz\r\n\" style=\"fill:#1f77b4;\"/>\r\n   </g>\r\n   <g id=\"patch_62\">\r\n    <path clip-path=\"url(#p4b0fc7b0f0)\" d=\"M 228.080227 224.64 \r\nL 231.123864 224.64 \r\nL 231.123864 224.64 \r\nL 228.080227 224.64 \r\nz\r\n\" style=\"fill:#1f77b4;\"/>\r\n   </g>\r\n   <g id=\"patch_63\">\r\n    <path clip-path=\"url(#p4b0fc7b0f0)\" d=\"M 231.123864 224.64 \r\nL 234.1675 224.64 \r\nL 234.1675 224.64 \r\nL 231.123864 224.64 \r\nz\r\n\" style=\"fill:#1f77b4;\"/>\r\n   </g>\r\n   <g id=\"patch_64\">\r\n    <path clip-path=\"url(#p4b0fc7b0f0)\" d=\"M 234.1675 224.64 \r\nL 237.211136 224.64 \r\nL 237.211136 224.64 \r\nL 234.1675 224.64 \r\nz\r\n\" style=\"fill:#1f77b4;\"/>\r\n   </g>\r\n   <g id=\"patch_65\">\r\n    <path clip-path=\"url(#p4b0fc7b0f0)\" d=\"M 237.211136 224.64 \r\nL 240.254773 224.64 \r\nL 240.254773 224.64 \r\nL 237.211136 224.64 \r\nz\r\n\" style=\"fill:#1f77b4;\"/>\r\n   </g>\r\n   <g id=\"patch_66\">\r\n    <path clip-path=\"url(#p4b0fc7b0f0)\" d=\"M 240.254773 224.64 \r\nL 243.298409 224.64 \r\nL 243.298409 224.64 \r\nL 240.254773 224.64 \r\nz\r\n\" style=\"fill:#1f77b4;\"/>\r\n   </g>\r\n   <g id=\"patch_67\">\r\n    <path clip-path=\"url(#p4b0fc7b0f0)\" d=\"M 243.298409 224.64 \r\nL 246.342045 224.64 \r\nL 246.342045 224.64 \r\nL 243.298409 224.64 \r\nz\r\n\" style=\"fill:#1f77b4;\"/>\r\n   </g>\r\n   <g id=\"patch_68\">\r\n    <path clip-path=\"url(#p4b0fc7b0f0)\" d=\"M 246.342045 224.64 \r\nL 249.385682 224.64 \r\nL 249.385682 224.64 \r\nL 246.342045 224.64 \r\nz\r\n\" style=\"fill:#1f77b4;\"/>\r\n   </g>\r\n   <g id=\"patch_69\">\r\n    <path clip-path=\"url(#p4b0fc7b0f0)\" d=\"M 249.385682 224.64 \r\nL 252.429318 224.64 \r\nL 252.429318 224.64 \r\nL 249.385682 224.64 \r\nz\r\n\" style=\"fill:#1f77b4;\"/>\r\n   </g>\r\n   <g id=\"patch_70\">\r\n    <path clip-path=\"url(#p4b0fc7b0f0)\" d=\"M 252.429318 224.64 \r\nL 255.472955 224.64 \r\nL 255.472955 224.64 \r\nL 252.429318 224.64 \r\nz\r\n\" style=\"fill:#1f77b4;\"/>\r\n   </g>\r\n   <g id=\"patch_71\">\r\n    <path clip-path=\"url(#p4b0fc7b0f0)\" d=\"M 255.472955 224.64 \r\nL 258.516591 224.64 \r\nL 258.516591 224.64 \r\nL 255.472955 224.64 \r\nz\r\n\" style=\"fill:#1f77b4;\"/>\r\n   </g>\r\n   <g id=\"patch_72\">\r\n    <path clip-path=\"url(#p4b0fc7b0f0)\" d=\"M 258.516591 224.64 \r\nL 261.560227 224.64 \r\nL 261.560227 224.64 \r\nL 258.516591 224.64 \r\nz\r\n\" style=\"fill:#1f77b4;\"/>\r\n   </g>\r\n   <g id=\"patch_73\">\r\n    <path clip-path=\"url(#p4b0fc7b0f0)\" d=\"M 261.560227 224.64 \r\nL 264.603864 224.64 \r\nL 264.603864 224.64 \r\nL 261.560227 224.64 \r\nz\r\n\" style=\"fill:#1f77b4;\"/>\r\n   </g>\r\n   <g id=\"patch_74\">\r\n    <path clip-path=\"url(#p4b0fc7b0f0)\" d=\"M 264.603864 224.64 \r\nL 267.6475 224.64 \r\nL 267.6475 224.64 \r\nL 264.603864 224.64 \r\nz\r\n\" style=\"fill:#1f77b4;\"/>\r\n   </g>\r\n   <g id=\"patch_75\">\r\n    <path clip-path=\"url(#p4b0fc7b0f0)\" d=\"M 267.6475 224.64 \r\nL 270.691136 224.64 \r\nL 270.691136 224.64 \r\nL 267.6475 224.64 \r\nz\r\n\" style=\"fill:#1f77b4;\"/>\r\n   </g>\r\n   <g id=\"patch_76\">\r\n    <path clip-path=\"url(#p4b0fc7b0f0)\" d=\"M 270.691136 224.64 \r\nL 273.734773 224.64 \r\nL 273.734773 224.64 \r\nL 270.691136 224.64 \r\nz\r\n\" style=\"fill:#1f77b4;\"/>\r\n   </g>\r\n   <g id=\"patch_77\">\r\n    <path clip-path=\"url(#p4b0fc7b0f0)\" d=\"M 273.734773 224.64 \r\nL 276.778409 224.64 \r\nL 276.778409 224.64 \r\nL 273.734773 224.64 \r\nz\r\n\" style=\"fill:#1f77b4;\"/>\r\n   </g>\r\n   <g id=\"patch_78\">\r\n    <path clip-path=\"url(#p4b0fc7b0f0)\" d=\"M 276.778409 224.64 \r\nL 279.822045 224.64 \r\nL 279.822045 224.64 \r\nL 276.778409 224.64 \r\nz\r\n\" style=\"fill:#1f77b4;\"/>\r\n   </g>\r\n   <g id=\"patch_79\">\r\n    <path clip-path=\"url(#p4b0fc7b0f0)\" d=\"M 279.822045 224.64 \r\nL 282.865682 224.64 \r\nL 282.865682 224.64 \r\nL 279.822045 224.64 \r\nz\r\n\" style=\"fill:#1f77b4;\"/>\r\n   </g>\r\n   <g id=\"patch_80\">\r\n    <path clip-path=\"url(#p4b0fc7b0f0)\" d=\"M 282.865682 224.64 \r\nL 285.909318 224.64 \r\nL 285.909318 224.64 \r\nL 282.865682 224.64 \r\nz\r\n\" style=\"fill:#1f77b4;\"/>\r\n   </g>\r\n   <g id=\"patch_81\">\r\n    <path clip-path=\"url(#p4b0fc7b0f0)\" d=\"M 285.909318 224.64 \r\nL 288.952955 224.64 \r\nL 288.952955 224.64 \r\nL 285.909318 224.64 \r\nz\r\n\" style=\"fill:#1f77b4;\"/>\r\n   </g>\r\n   <g id=\"patch_82\">\r\n    <path clip-path=\"url(#p4b0fc7b0f0)\" d=\"M 288.952955 224.64 \r\nL 291.996591 224.64 \r\nL 291.996591 224.64 \r\nL 288.952955 224.64 \r\nz\r\n\" style=\"fill:#1f77b4;\"/>\r\n   </g>\r\n   <g id=\"patch_83\">\r\n    <path clip-path=\"url(#p4b0fc7b0f0)\" d=\"M 291.996591 224.64 \r\nL 295.040227 224.64 \r\nL 295.040227 224.64 \r\nL 291.996591 224.64 \r\nz\r\n\" style=\"fill:#1f77b4;\"/>\r\n   </g>\r\n   <g id=\"patch_84\">\r\n    <path clip-path=\"url(#p4b0fc7b0f0)\" d=\"M 295.040227 224.64 \r\nL 298.083864 224.64 \r\nL 298.083864 224.64 \r\nL 295.040227 224.64 \r\nz\r\n\" style=\"fill:#1f77b4;\"/>\r\n   </g>\r\n   <g id=\"patch_85\">\r\n    <path clip-path=\"url(#p4b0fc7b0f0)\" d=\"M 298.083864 224.64 \r\nL 301.1275 224.64 \r\nL 301.1275 224.64 \r\nL 298.083864 224.64 \r\nz\r\n\" style=\"fill:#1f77b4;\"/>\r\n   </g>\r\n   <g id=\"patch_86\">\r\n    <path clip-path=\"url(#p4b0fc7b0f0)\" d=\"M 301.1275 224.64 \r\nL 304.171136 224.64 \r\nL 304.171136 224.64 \r\nL 301.1275 224.64 \r\nz\r\n\" style=\"fill:#1f77b4;\"/>\r\n   </g>\r\n   <g id=\"patch_87\">\r\n    <path clip-path=\"url(#p4b0fc7b0f0)\" d=\"M 304.171136 224.64 \r\nL 307.214773 224.64 \r\nL 307.214773 224.64 \r\nL 304.171136 224.64 \r\nz\r\n\" style=\"fill:#1f77b4;\"/>\r\n   </g>\r\n   <g id=\"patch_88\">\r\n    <path clip-path=\"url(#p4b0fc7b0f0)\" d=\"M 307.214773 224.64 \r\nL 310.258409 224.64 \r\nL 310.258409 224.64 \r\nL 307.214773 224.64 \r\nz\r\n\" style=\"fill:#1f77b4;\"/>\r\n   </g>\r\n   <g id=\"patch_89\">\r\n    <path clip-path=\"url(#p4b0fc7b0f0)\" d=\"M 310.258409 224.64 \r\nL 313.302045 224.64 \r\nL 313.302045 224.64 \r\nL 310.258409 224.64 \r\nz\r\n\" style=\"fill:#1f77b4;\"/>\r\n   </g>\r\n   <g id=\"patch_90\">\r\n    <path clip-path=\"url(#p4b0fc7b0f0)\" d=\"M 313.302045 224.64 \r\nL 316.345682 224.64 \r\nL 316.345682 224.64 \r\nL 313.302045 224.64 \r\nz\r\n\" style=\"fill:#1f77b4;\"/>\r\n   </g>\r\n   <g id=\"patch_91\">\r\n    <path clip-path=\"url(#p4b0fc7b0f0)\" d=\"M 316.345682 224.64 \r\nL 319.389318 224.64 \r\nL 319.389318 224.64 \r\nL 316.345682 224.64 \r\nz\r\n\" style=\"fill:#1f77b4;\"/>\r\n   </g>\r\n   <g id=\"patch_92\">\r\n    <path clip-path=\"url(#p4b0fc7b0f0)\" d=\"M 319.389318 224.64 \r\nL 322.432955 224.64 \r\nL 322.432955 224.64 \r\nL 319.389318 224.64 \r\nz\r\n\" style=\"fill:#1f77b4;\"/>\r\n   </g>\r\n   <g id=\"patch_93\">\r\n    <path clip-path=\"url(#p4b0fc7b0f0)\" d=\"M 322.432955 224.64 \r\nL 325.476591 224.64 \r\nL 325.476591 224.64 \r\nL 322.432955 224.64 \r\nz\r\n\" style=\"fill:#1f77b4;\"/>\r\n   </g>\r\n   <g id=\"patch_94\">\r\n    <path clip-path=\"url(#p4b0fc7b0f0)\" d=\"M 325.476591 224.64 \r\nL 328.520227 224.64 \r\nL 328.520227 224.64 \r\nL 325.476591 224.64 \r\nz\r\n\" style=\"fill:#1f77b4;\"/>\r\n   </g>\r\n   <g id=\"patch_95\">\r\n    <path clip-path=\"url(#p4b0fc7b0f0)\" d=\"M 328.520227 224.64 \r\nL 331.563864 224.64 \r\nL 331.563864 224.64 \r\nL 328.520227 224.64 \r\nz\r\n\" style=\"fill:#1f77b4;\"/>\r\n   </g>\r\n   <g id=\"patch_96\">\r\n    <path clip-path=\"url(#p4b0fc7b0f0)\" d=\"M 331.563864 224.64 \r\nL 334.6075 224.64 \r\nL 334.6075 224.64 \r\nL 331.563864 224.64 \r\nz\r\n\" style=\"fill:#1f77b4;\"/>\r\n   </g>\r\n   <g id=\"patch_97\">\r\n    <path clip-path=\"url(#p4b0fc7b0f0)\" d=\"M 334.6075 224.64 \r\nL 337.651136 224.64 \r\nL 337.651136 224.64 \r\nL 334.6075 224.64 \r\nz\r\n\" style=\"fill:#1f77b4;\"/>\r\n   </g>\r\n   <g id=\"patch_98\">\r\n    <path clip-path=\"url(#p4b0fc7b0f0)\" d=\"M 337.651136 224.64 \r\nL 340.694773 224.64 \r\nL 340.694773 224.64 \r\nL 337.651136 224.64 \r\nz\r\n\" style=\"fill:#1f77b4;\"/>\r\n   </g>\r\n   <g id=\"patch_99\">\r\n    <path clip-path=\"url(#p4b0fc7b0f0)\" d=\"M 340.694773 224.64 \r\nL 343.738409 224.64 \r\nL 343.738409 224.64 \r\nL 340.694773 224.64 \r\nz\r\n\" style=\"fill:#1f77b4;\"/>\r\n   </g>\r\n   <g id=\"patch_100\">\r\n    <path clip-path=\"url(#p4b0fc7b0f0)\" d=\"M 343.738409 224.64 \r\nL 346.782045 224.64 \r\nL 346.782045 224.64 \r\nL 343.738409 224.64 \r\nz\r\n\" style=\"fill:#1f77b4;\"/>\r\n   </g>\r\n   <g id=\"patch_101\">\r\n    <path clip-path=\"url(#p4b0fc7b0f0)\" d=\"M 346.782045 224.64 \r\nL 349.825682 224.64 \r\nL 349.825682 224.64 \r\nL 346.782045 224.64 \r\nz\r\n\" style=\"fill:#1f77b4;\"/>\r\n   </g>\r\n   <g id=\"patch_102\">\r\n    <path clip-path=\"url(#p4b0fc7b0f0)\" d=\"M 349.825682 224.64 \r\nL 352.869318 224.64 \r\nL 352.869318 83.390784 \r\nL 349.825682 83.390784 \r\nz\r\n\" style=\"fill:#1f77b4;\"/>\r\n   </g>\r\n   <g id=\"matplotlib.axis_1\">\r\n    <g id=\"xtick_1\">\r\n     <g id=\"line2d_1\">\r\n      <defs>\r\n       <path d=\"M 0 0 \r\nL 0 3.5 \r\n\" id=\"m0ffb8ff84e\" style=\"stroke:#000000;stroke-width:0.8;\"/>\r\n      </defs>\r\n      <g>\r\n       <use style=\"stroke:#000000;stroke-width:0.8;\" x=\"48.505682\" xlink:href=\"#m0ffb8ff84e\" y=\"224.64\"/>\r\n      </g>\r\n     </g>\r\n     <g id=\"text_1\">\r\n      <!-- 0.0 -->\r\n      <g transform=\"translate(40.554119 239.238437)scale(0.1 -0.1)\">\r\n       <defs>\r\n        <path d=\"M 2034 4250 \r\nQ 1547 4250 1301 3770 \r\nQ 1056 3291 1056 2328 \r\nQ 1056 1369 1301 889 \r\nQ 1547 409 2034 409 \r\nQ 2525 409 2770 889 \r\nQ 3016 1369 3016 2328 \r\nQ 3016 3291 2770 3770 \r\nQ 2525 4250 2034 4250 \r\nz\r\nM 2034 4750 \r\nQ 2819 4750 3233 4129 \r\nQ 3647 3509 3647 2328 \r\nQ 3647 1150 3233 529 \r\nQ 2819 -91 2034 -91 \r\nQ 1250 -91 836 529 \r\nQ 422 1150 422 2328 \r\nQ 422 3509 836 4129 \r\nQ 1250 4750 2034 4750 \r\nz\r\n\" id=\"DejaVuSans-30\" transform=\"scale(0.015625)\"/>\r\n        <path d=\"M 684 794 \r\nL 1344 794 \r\nL 1344 0 \r\nL 684 0 \r\nL 684 794 \r\nz\r\n\" id=\"DejaVuSans-2e\" transform=\"scale(0.015625)\"/>\r\n       </defs>\r\n       <use xlink:href=\"#DejaVuSans-30\"/>\r\n       <use x=\"63.623047\" xlink:href=\"#DejaVuSans-2e\"/>\r\n       <use x=\"95.410156\" xlink:href=\"#DejaVuSans-30\"/>\r\n      </g>\r\n     </g>\r\n    </g>\r\n    <g id=\"xtick_2\">\r\n     <g id=\"line2d_2\">\r\n      <g>\r\n       <use style=\"stroke:#000000;stroke-width:0.8;\" x=\"109.378409\" xlink:href=\"#m0ffb8ff84e\" y=\"224.64\"/>\r\n      </g>\r\n     </g>\r\n     <g id=\"text_2\">\r\n      <!-- 0.2 -->\r\n      <g transform=\"translate(101.426847 239.238437)scale(0.1 -0.1)\">\r\n       <defs>\r\n        <path d=\"M 1228 531 \r\nL 3431 531 \r\nL 3431 0 \r\nL 469 0 \r\nL 469 531 \r\nQ 828 903 1448 1529 \r\nQ 2069 2156 2228 2338 \r\nQ 2531 2678 2651 2914 \r\nQ 2772 3150 2772 3378 \r\nQ 2772 3750 2511 3984 \r\nQ 2250 4219 1831 4219 \r\nQ 1534 4219 1204 4116 \r\nQ 875 4013 500 3803 \r\nL 500 4441 \r\nQ 881 4594 1212 4672 \r\nQ 1544 4750 1819 4750 \r\nQ 2544 4750 2975 4387 \r\nQ 3406 4025 3406 3419 \r\nQ 3406 3131 3298 2873 \r\nQ 3191 2616 2906 2266 \r\nQ 2828 2175 2409 1742 \r\nQ 1991 1309 1228 531 \r\nz\r\n\" id=\"DejaVuSans-32\" transform=\"scale(0.015625)\"/>\r\n       </defs>\r\n       <use xlink:href=\"#DejaVuSans-30\"/>\r\n       <use x=\"63.623047\" xlink:href=\"#DejaVuSans-2e\"/>\r\n       <use x=\"95.410156\" xlink:href=\"#DejaVuSans-32\"/>\r\n      </g>\r\n     </g>\r\n    </g>\r\n    <g id=\"xtick_3\">\r\n     <g id=\"line2d_3\">\r\n      <g>\r\n       <use style=\"stroke:#000000;stroke-width:0.8;\" x=\"170.251136\" xlink:href=\"#m0ffb8ff84e\" y=\"224.64\"/>\r\n      </g>\r\n     </g>\r\n     <g id=\"text_3\">\r\n      <!-- 0.4 -->\r\n      <g transform=\"translate(162.299574 239.238437)scale(0.1 -0.1)\">\r\n       <defs>\r\n        <path d=\"M 2419 4116 \r\nL 825 1625 \r\nL 2419 1625 \r\nL 2419 4116 \r\nz\r\nM 2253 4666 \r\nL 3047 4666 \r\nL 3047 1625 \r\nL 3713 1625 \r\nL 3713 1100 \r\nL 3047 1100 \r\nL 3047 0 \r\nL 2419 0 \r\nL 2419 1100 \r\nL 313 1100 \r\nL 313 1709 \r\nL 2253 4666 \r\nz\r\n\" id=\"DejaVuSans-34\" transform=\"scale(0.015625)\"/>\r\n       </defs>\r\n       <use xlink:href=\"#DejaVuSans-30\"/>\r\n       <use x=\"63.623047\" xlink:href=\"#DejaVuSans-2e\"/>\r\n       <use x=\"95.410156\" xlink:href=\"#DejaVuSans-34\"/>\r\n      </g>\r\n     </g>\r\n    </g>\r\n    <g id=\"xtick_4\">\r\n     <g id=\"line2d_4\">\r\n      <g>\r\n       <use style=\"stroke:#000000;stroke-width:0.8;\" x=\"231.123864\" xlink:href=\"#m0ffb8ff84e\" y=\"224.64\"/>\r\n      </g>\r\n     </g>\r\n     <g id=\"text_4\">\r\n      <!-- 0.6 -->\r\n      <g transform=\"translate(223.172301 239.238437)scale(0.1 -0.1)\">\r\n       <defs>\r\n        <path d=\"M 2113 2584 \r\nQ 1688 2584 1439 2293 \r\nQ 1191 2003 1191 1497 \r\nQ 1191 994 1439 701 \r\nQ 1688 409 2113 409 \r\nQ 2538 409 2786 701 \r\nQ 3034 994 3034 1497 \r\nQ 3034 2003 2786 2293 \r\nQ 2538 2584 2113 2584 \r\nz\r\nM 3366 4563 \r\nL 3366 3988 \r\nQ 3128 4100 2886 4159 \r\nQ 2644 4219 2406 4219 \r\nQ 1781 4219 1451 3797 \r\nQ 1122 3375 1075 2522 \r\nQ 1259 2794 1537 2939 \r\nQ 1816 3084 2150 3084 \r\nQ 2853 3084 3261 2657 \r\nQ 3669 2231 3669 1497 \r\nQ 3669 778 3244 343 \r\nQ 2819 -91 2113 -91 \r\nQ 1303 -91 875 529 \r\nQ 447 1150 447 2328 \r\nQ 447 3434 972 4092 \r\nQ 1497 4750 2381 4750 \r\nQ 2619 4750 2861 4703 \r\nQ 3103 4656 3366 4563 \r\nz\r\n\" id=\"DejaVuSans-36\" transform=\"scale(0.015625)\"/>\r\n       </defs>\r\n       <use xlink:href=\"#DejaVuSans-30\"/>\r\n       <use x=\"63.623047\" xlink:href=\"#DejaVuSans-2e\"/>\r\n       <use x=\"95.410156\" xlink:href=\"#DejaVuSans-36\"/>\r\n      </g>\r\n     </g>\r\n    </g>\r\n    <g id=\"xtick_5\">\r\n     <g id=\"line2d_5\">\r\n      <g>\r\n       <use style=\"stroke:#000000;stroke-width:0.8;\" x=\"291.996591\" xlink:href=\"#m0ffb8ff84e\" y=\"224.64\"/>\r\n      </g>\r\n     </g>\r\n     <g id=\"text_5\">\r\n      <!-- 0.8 -->\r\n      <g transform=\"translate(284.045028 239.238437)scale(0.1 -0.1)\">\r\n       <defs>\r\n        <path d=\"M 2034 2216 \r\nQ 1584 2216 1326 1975 \r\nQ 1069 1734 1069 1313 \r\nQ 1069 891 1326 650 \r\nQ 1584 409 2034 409 \r\nQ 2484 409 2743 651 \r\nQ 3003 894 3003 1313 \r\nQ 3003 1734 2745 1975 \r\nQ 2488 2216 2034 2216 \r\nz\r\nM 1403 2484 \r\nQ 997 2584 770 2862 \r\nQ 544 3141 544 3541 \r\nQ 544 4100 942 4425 \r\nQ 1341 4750 2034 4750 \r\nQ 2731 4750 3128 4425 \r\nQ 3525 4100 3525 3541 \r\nQ 3525 3141 3298 2862 \r\nQ 3072 2584 2669 2484 \r\nQ 3125 2378 3379 2068 \r\nQ 3634 1759 3634 1313 \r\nQ 3634 634 3220 271 \r\nQ 2806 -91 2034 -91 \r\nQ 1263 -91 848 271 \r\nQ 434 634 434 1313 \r\nQ 434 1759 690 2068 \r\nQ 947 2378 1403 2484 \r\nz\r\nM 1172 3481 \r\nQ 1172 3119 1398 2916 \r\nQ 1625 2713 2034 2713 \r\nQ 2441 2713 2670 2916 \r\nQ 2900 3119 2900 3481 \r\nQ 2900 3844 2670 4047 \r\nQ 2441 4250 2034 4250 \r\nQ 1625 4250 1398 4047 \r\nQ 1172 3844 1172 3481 \r\nz\r\n\" id=\"DejaVuSans-38\" transform=\"scale(0.015625)\"/>\r\n       </defs>\r\n       <use xlink:href=\"#DejaVuSans-30\"/>\r\n       <use x=\"63.623047\" xlink:href=\"#DejaVuSans-2e\"/>\r\n       <use x=\"95.410156\" xlink:href=\"#DejaVuSans-38\"/>\r\n      </g>\r\n     </g>\r\n    </g>\r\n    <g id=\"xtick_6\">\r\n     <g id=\"line2d_6\">\r\n      <g>\r\n       <use style=\"stroke:#000000;stroke-width:0.8;\" x=\"352.869318\" xlink:href=\"#m0ffb8ff84e\" y=\"224.64\"/>\r\n      </g>\r\n     </g>\r\n     <g id=\"text_6\">\r\n      <!-- 1.0 -->\r\n      <g transform=\"translate(344.917756 239.238437)scale(0.1 -0.1)\">\r\n       <defs>\r\n        <path d=\"M 794 531 \r\nL 1825 531 \r\nL 1825 4091 \r\nL 703 3866 \r\nL 703 4441 \r\nL 1819 4666 \r\nL 2450 4666 \r\nL 2450 531 \r\nL 3481 531 \r\nL 3481 0 \r\nL 794 0 \r\nL 794 531 \r\nz\r\n\" id=\"DejaVuSans-31\" transform=\"scale(0.015625)\"/>\r\n       </defs>\r\n       <use xlink:href=\"#DejaVuSans-31\"/>\r\n       <use x=\"63.623047\" xlink:href=\"#DejaVuSans-2e\"/>\r\n       <use x=\"95.410156\" xlink:href=\"#DejaVuSans-30\"/>\r\n      </g>\r\n     </g>\r\n    </g>\r\n    <g id=\"text_7\">\r\n     <!-- MarriedID -->\r\n     <g transform=\"translate(176.321094 252.916562)scale(0.1 -0.1)\">\r\n      <defs>\r\n       <path d=\"M 628 4666 \r\nL 1569 4666 \r\nL 2759 1491 \r\nL 3956 4666 \r\nL 4897 4666 \r\nL 4897 0 \r\nL 4281 0 \r\nL 4281 4097 \r\nL 3078 897 \r\nL 2444 897 \r\nL 1241 4097 \r\nL 1241 0 \r\nL 628 0 \r\nL 628 4666 \r\nz\r\n\" id=\"DejaVuSans-4d\" transform=\"scale(0.015625)\"/>\r\n       <path d=\"M 2194 1759 \r\nQ 1497 1759 1228 1600 \r\nQ 959 1441 959 1056 \r\nQ 959 750 1161 570 \r\nQ 1363 391 1709 391 \r\nQ 2188 391 2477 730 \r\nQ 2766 1069 2766 1631 \r\nL 2766 1759 \r\nL 2194 1759 \r\nz\r\nM 3341 1997 \r\nL 3341 0 \r\nL 2766 0 \r\nL 2766 531 \r\nQ 2569 213 2275 61 \r\nQ 1981 -91 1556 -91 \r\nQ 1019 -91 701 211 \r\nQ 384 513 384 1019 \r\nQ 384 1609 779 1909 \r\nQ 1175 2209 1959 2209 \r\nL 2766 2209 \r\nL 2766 2266 \r\nQ 2766 2663 2505 2880 \r\nQ 2244 3097 1772 3097 \r\nQ 1472 3097 1187 3025 \r\nQ 903 2953 641 2809 \r\nL 641 3341 \r\nQ 956 3463 1253 3523 \r\nQ 1550 3584 1831 3584 \r\nQ 2591 3584 2966 3190 \r\nQ 3341 2797 3341 1997 \r\nz\r\n\" id=\"DejaVuSans-61\" transform=\"scale(0.015625)\"/>\r\n       <path d=\"M 2631 2963 \r\nQ 2534 3019 2420 3045 \r\nQ 2306 3072 2169 3072 \r\nQ 1681 3072 1420 2755 \r\nQ 1159 2438 1159 1844 \r\nL 1159 0 \r\nL 581 0 \r\nL 581 3500 \r\nL 1159 3500 \r\nL 1159 2956 \r\nQ 1341 3275 1631 3429 \r\nQ 1922 3584 2338 3584 \r\nQ 2397 3584 2469 3576 \r\nQ 2541 3569 2628 3553 \r\nL 2631 2963 \r\nz\r\n\" id=\"DejaVuSans-72\" transform=\"scale(0.015625)\"/>\r\n       <path d=\"M 603 3500 \r\nL 1178 3500 \r\nL 1178 0 \r\nL 603 0 \r\nL 603 3500 \r\nz\r\nM 603 4863 \r\nL 1178 4863 \r\nL 1178 4134 \r\nL 603 4134 \r\nL 603 4863 \r\nz\r\n\" id=\"DejaVuSans-69\" transform=\"scale(0.015625)\"/>\r\n       <path d=\"M 3597 1894 \r\nL 3597 1613 \r\nL 953 1613 \r\nQ 991 1019 1311 708 \r\nQ 1631 397 2203 397 \r\nQ 2534 397 2845 478 \r\nQ 3156 559 3463 722 \r\nL 3463 178 \r\nQ 3153 47 2828 -22 \r\nQ 2503 -91 2169 -91 \r\nQ 1331 -91 842 396 \r\nQ 353 884 353 1716 \r\nQ 353 2575 817 3079 \r\nQ 1281 3584 2069 3584 \r\nQ 2775 3584 3186 3129 \r\nQ 3597 2675 3597 1894 \r\nz\r\nM 3022 2063 \r\nQ 3016 2534 2758 2815 \r\nQ 2500 3097 2075 3097 \r\nQ 1594 3097 1305 2825 \r\nQ 1016 2553 972 2059 \r\nL 3022 2063 \r\nz\r\n\" id=\"DejaVuSans-65\" transform=\"scale(0.015625)\"/>\r\n       <path d=\"M 2906 2969 \r\nL 2906 4863 \r\nL 3481 4863 \r\nL 3481 0 \r\nL 2906 0 \r\nL 2906 525 \r\nQ 2725 213 2448 61 \r\nQ 2172 -91 1784 -91 \r\nQ 1150 -91 751 415 \r\nQ 353 922 353 1747 \r\nQ 353 2572 751 3078 \r\nQ 1150 3584 1784 3584 \r\nQ 2172 3584 2448 3432 \r\nQ 2725 3281 2906 2969 \r\nz\r\nM 947 1747 \r\nQ 947 1113 1208 752 \r\nQ 1469 391 1925 391 \r\nQ 2381 391 2643 752 \r\nQ 2906 1113 2906 1747 \r\nQ 2906 2381 2643 2742 \r\nQ 2381 3103 1925 3103 \r\nQ 1469 3103 1208 2742 \r\nQ 947 2381 947 1747 \r\nz\r\n\" id=\"DejaVuSans-64\" transform=\"scale(0.015625)\"/>\r\n       <path d=\"M 628 4666 \r\nL 1259 4666 \r\nL 1259 0 \r\nL 628 0 \r\nL 628 4666 \r\nz\r\n\" id=\"DejaVuSans-49\" transform=\"scale(0.015625)\"/>\r\n       <path d=\"M 1259 4147 \r\nL 1259 519 \r\nL 2022 519 \r\nQ 2988 519 3436 956 \r\nQ 3884 1394 3884 2338 \r\nQ 3884 3275 3436 3711 \r\nQ 2988 4147 2022 4147 \r\nL 1259 4147 \r\nz\r\nM 628 4666 \r\nL 1925 4666 \r\nQ 3281 4666 3915 4102 \r\nQ 4550 3538 4550 2338 \r\nQ 4550 1131 3912 565 \r\nQ 3275 0 1925 0 \r\nL 628 0 \r\nL 628 4666 \r\nz\r\n\" id=\"DejaVuSans-44\" transform=\"scale(0.015625)\"/>\r\n      </defs>\r\n      <use xlink:href=\"#DejaVuSans-4d\"/>\r\n      <use x=\"86.279297\" xlink:href=\"#DejaVuSans-61\"/>\r\n      <use x=\"147.558594\" xlink:href=\"#DejaVuSans-72\"/>\r\n      <use x=\"186.921875\" xlink:href=\"#DejaVuSans-72\"/>\r\n      <use x=\"228.035156\" xlink:href=\"#DejaVuSans-69\"/>\r\n      <use x=\"255.818359\" xlink:href=\"#DejaVuSans-65\"/>\r\n      <use x=\"317.341797\" xlink:href=\"#DejaVuSans-64\"/>\r\n      <use x=\"380.818359\" xlink:href=\"#DejaVuSans-49\"/>\r\n      <use x=\"410.310547\" xlink:href=\"#DejaVuSans-44\"/>\r\n     </g>\r\n    </g>\r\n   </g>\r\n   <g id=\"matplotlib.axis_2\">\r\n    <g id=\"ytick_1\">\r\n     <g id=\"line2d_7\">\r\n      <defs>\r\n       <path d=\"M 0 0 \r\nL -3.5 0 \r\n\" id=\"m71935b1c4f\" style=\"stroke:#000000;stroke-width:0.8;\"/>\r\n      </defs>\r\n      <g>\r\n       <use style=\"stroke:#000000;stroke-width:0.8;\" x=\"33.2875\" xlink:href=\"#m71935b1c4f\" y=\"224.64\"/>\r\n      </g>\r\n     </g>\r\n     <g id=\"text_8\">\r\n      <!-- 0 -->\r\n      <g transform=\"translate(19.925 228.439219)scale(0.1 -0.1)\">\r\n       <use xlink:href=\"#DejaVuSans-30\"/>\r\n      </g>\r\n     </g>\r\n    </g>\r\n    <g id=\"ytick_2\">\r\n     <g id=\"line2d_8\">\r\n      <g>\r\n       <use style=\"stroke:#000000;stroke-width:0.8;\" x=\"33.2875\" xlink:href=\"#m71935b1c4f\" y=\"194.714319\"/>\r\n      </g>\r\n     </g>\r\n     <g id=\"text_9\">\r\n      <!-- 25 -->\r\n      <g transform=\"translate(13.5625 198.513537)scale(0.1 -0.1)\">\r\n       <defs>\r\n        <path d=\"M 691 4666 \r\nL 3169 4666 \r\nL 3169 4134 \r\nL 1269 4134 \r\nL 1269 2991 \r\nQ 1406 3038 1543 3061 \r\nQ 1681 3084 1819 3084 \r\nQ 2600 3084 3056 2656 \r\nQ 3513 2228 3513 1497 \r\nQ 3513 744 3044 326 \r\nQ 2575 -91 1722 -91 \r\nQ 1428 -91 1123 -41 \r\nQ 819 9 494 109 \r\nL 494 744 \r\nQ 775 591 1075 516 \r\nQ 1375 441 1709 441 \r\nQ 2250 441 2565 725 \r\nQ 2881 1009 2881 1497 \r\nQ 2881 1984 2565 2268 \r\nQ 2250 2553 1709 2553 \r\nQ 1456 2553 1204 2497 \r\nQ 953 2441 691 2322 \r\nL 691 4666 \r\nz\r\n\" id=\"DejaVuSans-35\" transform=\"scale(0.015625)\"/>\r\n       </defs>\r\n       <use xlink:href=\"#DejaVuSans-32\"/>\r\n       <use x=\"63.623047\" xlink:href=\"#DejaVuSans-35\"/>\r\n      </g>\r\n     </g>\r\n    </g>\r\n    <g id=\"ytick_3\">\r\n     <g id=\"line2d_9\">\r\n      <g>\r\n       <use style=\"stroke:#000000;stroke-width:0.8;\" x=\"33.2875\" xlink:href=\"#m71935b1c4f\" y=\"164.788637\"/>\r\n      </g>\r\n     </g>\r\n     <g id=\"text_10\">\r\n      <!-- 50 -->\r\n      <g transform=\"translate(13.5625 168.587856)scale(0.1 -0.1)\">\r\n       <use xlink:href=\"#DejaVuSans-35\"/>\r\n       <use x=\"63.623047\" xlink:href=\"#DejaVuSans-30\"/>\r\n      </g>\r\n     </g>\r\n    </g>\r\n    <g id=\"ytick_4\">\r\n     <g id=\"line2d_10\">\r\n      <g>\r\n       <use style=\"stroke:#000000;stroke-width:0.8;\" x=\"33.2875\" xlink:href=\"#m71935b1c4f\" y=\"134.862956\"/>\r\n      </g>\r\n     </g>\r\n     <g id=\"text_11\">\r\n      <!-- 75 -->\r\n      <g transform=\"translate(13.5625 138.662175)scale(0.1 -0.1)\">\r\n       <defs>\r\n        <path d=\"M 525 4666 \r\nL 3525 4666 \r\nL 3525 4397 \r\nL 1831 0 \r\nL 1172 0 \r\nL 2766 4134 \r\nL 525 4134 \r\nL 525 4666 \r\nz\r\n\" id=\"DejaVuSans-37\" transform=\"scale(0.015625)\"/>\r\n       </defs>\r\n       <use xlink:href=\"#DejaVuSans-37\"/>\r\n       <use x=\"63.623047\" xlink:href=\"#DejaVuSans-35\"/>\r\n      </g>\r\n     </g>\r\n    </g>\r\n    <g id=\"ytick_5\">\r\n     <g id=\"line2d_11\">\r\n      <g>\r\n       <use style=\"stroke:#000000;stroke-width:0.8;\" x=\"33.2875\" xlink:href=\"#m71935b1c4f\" y=\"104.937275\"/>\r\n      </g>\r\n     </g>\r\n     <g id=\"text_12\">\r\n      <!-- 100 -->\r\n      <g transform=\"translate(7.2 108.736494)scale(0.1 -0.1)\">\r\n       <use xlink:href=\"#DejaVuSans-31\"/>\r\n       <use x=\"63.623047\" xlink:href=\"#DejaVuSans-30\"/>\r\n       <use x=\"127.246094\" xlink:href=\"#DejaVuSans-30\"/>\r\n      </g>\r\n     </g>\r\n    </g>\r\n    <g id=\"ytick_6\">\r\n     <g id=\"line2d_12\">\r\n      <g>\r\n       <use style=\"stroke:#000000;stroke-width:0.8;\" x=\"33.2875\" xlink:href=\"#m71935b1c4f\" y=\"75.011594\"/>\r\n      </g>\r\n     </g>\r\n     <g id=\"text_13\">\r\n      <!-- 125 -->\r\n      <g transform=\"translate(7.2 78.810812)scale(0.1 -0.1)\">\r\n       <use xlink:href=\"#DejaVuSans-31\"/>\r\n       <use x=\"63.623047\" xlink:href=\"#DejaVuSans-32\"/>\r\n       <use x=\"127.246094\" xlink:href=\"#DejaVuSans-35\"/>\r\n      </g>\r\n     </g>\r\n    </g>\r\n    <g id=\"ytick_7\">\r\n     <g id=\"line2d_13\">\r\n      <g>\r\n       <use style=\"stroke:#000000;stroke-width:0.8;\" x=\"33.2875\" xlink:href=\"#m71935b1c4f\" y=\"45.085912\"/>\r\n      </g>\r\n     </g>\r\n     <g id=\"text_14\">\r\n      <!-- 150 -->\r\n      <g transform=\"translate(7.2 48.885131)scale(0.1 -0.1)\">\r\n       <use xlink:href=\"#DejaVuSans-31\"/>\r\n       <use x=\"63.623047\" xlink:href=\"#DejaVuSans-35\"/>\r\n       <use x=\"127.246094\" xlink:href=\"#DejaVuSans-30\"/>\r\n      </g>\r\n     </g>\r\n    </g>\r\n    <g id=\"ytick_8\">\r\n     <g id=\"line2d_14\">\r\n      <g>\r\n       <use style=\"stroke:#000000;stroke-width:0.8;\" x=\"33.2875\" xlink:href=\"#m71935b1c4f\" y=\"15.160231\"/>\r\n      </g>\r\n     </g>\r\n     <g id=\"text_15\">\r\n      <!-- 175 -->\r\n      <g transform=\"translate(7.2 18.95945)scale(0.1 -0.1)\">\r\n       <use xlink:href=\"#DejaVuSans-31\"/>\r\n       <use x=\"63.623047\" xlink:href=\"#DejaVuSans-37\"/>\r\n       <use x=\"127.246094\" xlink:href=\"#DejaVuSans-35\"/>\r\n      </g>\r\n     </g>\r\n    </g>\r\n   </g>\r\n   <g id=\"patch_103\">\r\n    <path d=\"M 33.2875 224.64 \r\nL 33.2875 7.2 \r\n\" style=\"fill:none;stroke:#000000;stroke-linecap:square;stroke-linejoin:miter;stroke-width:0.8;\"/>\r\n   </g>\r\n   <g id=\"patch_104\">\r\n    <path d=\"M 368.0875 224.64 \r\nL 368.0875 7.2 \r\n\" style=\"fill:none;stroke:#000000;stroke-linecap:square;stroke-linejoin:miter;stroke-width:0.8;\"/>\r\n   </g>\r\n   <g id=\"patch_105\">\r\n    <path d=\"M 33.2875 224.64 \r\nL 368.0875 224.64 \r\n\" style=\"fill:none;stroke:#000000;stroke-linecap:square;stroke-linejoin:miter;stroke-width:0.8;\"/>\r\n   </g>\r\n   <g id=\"patch_106\">\r\n    <path d=\"M 33.2875 7.2 \r\nL 368.0875 7.2 \r\n\" style=\"fill:none;stroke:#000000;stroke-linecap:square;stroke-linejoin:miter;stroke-width:0.8;\"/>\r\n   </g>\r\n  </g>\r\n </g>\r\n <defs>\r\n  <clipPath id=\"p4b0fc7b0f0\">\r\n   <rect height=\"217.44\" width=\"334.8\" x=\"33.2875\" y=\"7.2\"/>\r\n  </clipPath>\r\n </defs>\r\n</svg>\r\n",
      "image/png": "[encoded data removed]"
     },
     "metadata": {
      "needs_background": "light"
     }
    },
    {
     "output_type": "display_data",
     "data": {
      "text/plain": "<Figure size 432x288 with 1 Axes>",
      "image/svg+xml": "<?xml version=\"1.0\" encoding=\"utf-8\" standalone=\"no\"?>\r\n<!DOCTYPE svg PUBLIC \"-//W3C//DTD SVG 1.1//EN\"\r\n  \"http://www.w3.org/Graphics/SVG/1.1/DTD/svg11.dtd\">\r\n<svg height=\"262.19625pt\" version=\"1.1\" viewBox=\"0 0 368.925 262.19625\" width=\"368.925pt\" xmlns=\"http://www.w3.org/2000/svg\" xmlns:xlink=\"http://www.w3.org/1999/xlink\">\r\n <metadata>\r\n  <rdf:RDF xmlns:cc=\"http://creativecommons.org/ns#\" xmlns:dc=\"http://purl.org/dc/elements/1.1/\" xmlns:rdf=\"http://www.w3.org/1999/02/22-rdf-syntax-ns#\">\r\n   <cc:Work>\r\n    <dc:type rdf:resource=\"http://purl.org/dc/dcmitype/StillImage\"/>\r\n    <dc:date>2021-04-21T14:40:27.423866</dc:date>\r\n    <dc:format>image/svg+xml</dc:format>\r\n    <dc:creator>\r\n     <cc:Agent>\r\n      <dc:title>Matplotlib v3.4.0, https://matplotlib.org/</dc:title>\r\n     </cc:Agent>\r\n    </dc:creator>\r\n   </cc:Work>\r\n  </rdf:RDF>\r\n </metadata>\r\n <defs>\r\n  <style type=\"text/css\">*{stroke-linecap:butt;stroke-linejoin:round;}</style>\r\n </defs>\r\n <g id=\"figure_1\">\r\n  <g id=\"patch_1\">\r\n   <path d=\"M -0 262.19625 \r\nL 368.925 262.19625 \r\nL 368.925 0 \r\nL -0 0 \r\nz\r\n\" style=\"fill:none;\"/>\r\n  </g>\r\n  <g id=\"axes_1\">\r\n   <g id=\"patch_2\">\r\n    <path d=\"M 26.925 224.64 \r\nL 361.725 224.64 \r\nL 361.725 7.2 \r\nL 26.925 7.2 \r\nz\r\n\" style=\"fill:#ffffff;\"/>\r\n   </g>\r\n   <g id=\"patch_3\">\r\n    <path clip-path=\"url(#pbb1927e9f9)\" d=\"M 42.143182 224.64 \r\nL 45.186818 224.64 \r\nL 45.186818 168.162078 \r\nL 42.143182 168.162078 \r\nz\r\n\" style=\"fill:#1f77b4;\"/>\r\n   </g>\r\n   <g id=\"patch_4\">\r\n    <path clip-path=\"url(#pbb1927e9f9)\" d=\"M 45.186818 224.64 \r\nL 48.230455 224.64 \r\nL 48.230455 224.64 \r\nL 45.186818 224.64 \r\nz\r\n\" style=\"fill:#1f77b4;\"/>\r\n   </g>\r\n   <g id=\"patch_5\">\r\n    <path clip-path=\"url(#pbb1927e9f9)\" d=\"M 48.230455 224.64 \r\nL 51.274091 224.64 \r\nL 51.274091 45.793247 \r\nL 48.230455 45.793247 \r\nz\r\n\" style=\"fill:#1f77b4;\"/>\r\n   </g>\r\n   <g id=\"patch_6\">\r\n    <path clip-path=\"url(#pbb1927e9f9)\" d=\"M 51.274091 224.64 \r\nL 54.317727 224.64 \r\nL 54.317727 224.64 \r\nL 51.274091 224.64 \r\nz\r\n\" style=\"fill:#1f77b4;\"/>\r\n   </g>\r\n   <g id=\"patch_7\">\r\n    <path clip-path=\"url(#pbb1927e9f9)\" d=\"M 54.317727 224.64 \r\nL 57.361364 224.64 \r\nL 57.361364 224.64 \r\nL 54.317727 224.64 \r\nz\r\n\" style=\"fill:#1f77b4;\"/>\r\n   </g>\r\n   <g id=\"patch_8\">\r\n    <path clip-path=\"url(#pbb1927e9f9)\" d=\"M 57.361364 224.64 \r\nL 60.405 224.64 \r\nL 60.405 215.227013 \r\nL 57.361364 215.227013 \r\nz\r\n\" style=\"fill:#1f77b4;\"/>\r\n   </g>\r\n   <g id=\"patch_9\">\r\n    <path clip-path=\"url(#pbb1927e9f9)\" d=\"M 60.405 224.64 \r\nL 63.448636 224.64 \r\nL 63.448636 224.64 \r\nL 60.405 224.64 \r\nz\r\n\" style=\"fill:#1f77b4;\"/>\r\n   </g>\r\n   <g id=\"patch_10\">\r\n    <path clip-path=\"url(#pbb1927e9f9)\" d=\"M 63.448636 224.64 \r\nL 66.492273 224.64 \r\nL 66.492273 64.619221 \r\nL 63.448636 64.619221 \r\nz\r\n\" style=\"fill:#1f77b4;\"/>\r\n   </g>\r\n   <g id=\"patch_11\">\r\n    <path clip-path=\"url(#pbb1927e9f9)\" d=\"M 66.492273 224.64 \r\nL 69.535909 224.64 \r\nL 69.535909 224.64 \r\nL 66.492273 224.64 \r\nz\r\n\" style=\"fill:#1f77b4;\"/>\r\n   </g>\r\n   <g id=\"patch_12\">\r\n    <path clip-path=\"url(#pbb1927e9f9)\" d=\"M 69.535909 224.64 \r\nL 72.579545 224.64 \r\nL 72.579545 224.64 \r\nL 69.535909 224.64 \r\nz\r\n\" style=\"fill:#1f77b4;\"/>\r\n   </g>\r\n   <g id=\"patch_13\">\r\n    <path clip-path=\"url(#pbb1927e9f9)\" d=\"M 72.579545 224.64 \r\nL 75.623182 224.64 \r\nL 75.623182 158.749091 \r\nL 72.579545 158.749091 \r\nz\r\n\" style=\"fill:#1f77b4;\"/>\r\n   </g>\r\n   <g id=\"patch_14\">\r\n    <path clip-path=\"url(#pbb1927e9f9)\" d=\"M 75.623182 224.64 \r\nL 78.666818 224.64 \r\nL 78.666818 224.64 \r\nL 75.623182 224.64 \r\nz\r\n\" style=\"fill:#1f77b4;\"/>\r\n   </g>\r\n   <g id=\"patch_15\">\r\n    <path clip-path=\"url(#pbb1927e9f9)\" d=\"M 78.666818 224.64 \r\nL 81.710455 224.64 \r\nL 81.710455 224.64 \r\nL 78.666818 224.64 \r\nz\r\n\" style=\"fill:#1f77b4;\"/>\r\n   </g>\r\n   <g id=\"patch_16\">\r\n    <path clip-path=\"url(#pbb1927e9f9)\" d=\"M 81.710455 224.64 \r\nL 84.754091 224.64 \r\nL 84.754091 186.988052 \r\nL 81.710455 186.988052 \r\nz\r\n\" style=\"fill:#1f77b4;\"/>\r\n   </g>\r\n   <g id=\"patch_17\">\r\n    <path clip-path=\"url(#pbb1927e9f9)\" d=\"M 84.754091 224.64 \r\nL 87.797727 224.64 \r\nL 87.797727 224.64 \r\nL 84.754091 224.64 \r\nz\r\n\" style=\"fill:#1f77b4;\"/>\r\n   </g>\r\n   <g id=\"patch_18\">\r\n    <path clip-path=\"url(#pbb1927e9f9)\" d=\"M 87.797727 224.64 \r\nL 90.841364 224.64 \r\nL 90.841364 92.858182 \r\nL 87.797727 92.858182 \r\nz\r\n\" style=\"fill:#1f77b4;\"/>\r\n   </g>\r\n   <g id=\"patch_19\">\r\n    <path clip-path=\"url(#pbb1927e9f9)\" d=\"M 90.841364 224.64 \r\nL 93.885 224.64 \r\nL 93.885 224.64 \r\nL 90.841364 224.64 \r\nz\r\n\" style=\"fill:#1f77b4;\"/>\r\n   </g>\r\n   <g id=\"patch_20\">\r\n    <path clip-path=\"url(#pbb1927e9f9)\" d=\"M 93.885 224.64 \r\nL 96.928636 224.64 \r\nL 96.928636 224.64 \r\nL 93.885 224.64 \r\nz\r\n\" style=\"fill:#1f77b4;\"/>\r\n   </g>\r\n   <g id=\"patch_21\">\r\n    <path clip-path=\"url(#pbb1927e9f9)\" d=\"M 96.928636 224.64 \r\nL 99.972273 224.64 \r\nL 99.972273 224.64 \r\nL 96.928636 224.64 \r\nz\r\n\" style=\"fill:#1f77b4;\"/>\r\n   </g>\r\n   <g id=\"patch_22\">\r\n    <path clip-path=\"url(#pbb1927e9f9)\" d=\"M 99.972273 224.64 \r\nL 103.015909 224.64 \r\nL 103.015909 224.64 \r\nL 99.972273 224.64 \r\nz\r\n\" style=\"fill:#1f77b4;\"/>\r\n   </g>\r\n   <g id=\"patch_23\">\r\n    <path clip-path=\"url(#pbb1927e9f9)\" d=\"M 103.015909 224.64 \r\nL 106.059545 224.64 \r\nL 106.059545 224.64 \r\nL 103.015909 224.64 \r\nz\r\n\" style=\"fill:#1f77b4;\"/>\r\n   </g>\r\n   <g id=\"patch_24\">\r\n    <path clip-path=\"url(#pbb1927e9f9)\" d=\"M 106.059545 224.64 \r\nL 109.103182 224.64 \r\nL 109.103182 205.814026 \r\nL 106.059545 205.814026 \r\nz\r\n\" style=\"fill:#1f77b4;\"/>\r\n   </g>\r\n   <g id=\"patch_25\">\r\n    <path clip-path=\"url(#pbb1927e9f9)\" d=\"M 109.103182 224.64 \r\nL 112.146818 224.64 \r\nL 112.146818 224.64 \r\nL 109.103182 224.64 \r\nz\r\n\" style=\"fill:#1f77b4;\"/>\r\n   </g>\r\n   <g id=\"patch_26\">\r\n    <path clip-path=\"url(#pbb1927e9f9)\" d=\"M 112.146818 224.64 \r\nL 115.190455 224.64 \r\nL 115.190455 139.923117 \r\nL 112.146818 139.923117 \r\nz\r\n\" style=\"fill:#1f77b4;\"/>\r\n   </g>\r\n   <g id=\"patch_27\">\r\n    <path clip-path=\"url(#pbb1927e9f9)\" d=\"M 115.190455 224.64 \r\nL 118.234091 224.64 \r\nL 118.234091 224.64 \r\nL 115.190455 224.64 \r\nz\r\n\" style=\"fill:#1f77b4;\"/>\r\n   </g>\r\n   <g id=\"patch_28\">\r\n    <path clip-path=\"url(#pbb1927e9f9)\" d=\"M 118.234091 224.64 \r\nL 121.277727 224.64 \r\nL 121.277727 224.64 \r\nL 118.234091 224.64 \r\nz\r\n\" style=\"fill:#1f77b4;\"/>\r\n   </g>\r\n   <g id=\"patch_29\">\r\n    <path clip-path=\"url(#pbb1927e9f9)\" d=\"M 121.277727 224.64 \r\nL 124.321364 224.64 \r\nL 124.321364 26.967273 \r\nL 121.277727 26.967273 \r\nz\r\n\" style=\"fill:#1f77b4;\"/>\r\n   </g>\r\n   <g id=\"patch_30\">\r\n    <path clip-path=\"url(#pbb1927e9f9)\" d=\"M 124.321364 224.64 \r\nL 127.365 224.64 \r\nL 127.365 224.64 \r\nL 124.321364 224.64 \r\nz\r\n\" style=\"fill:#1f77b4;\"/>\r\n   </g>\r\n   <g id=\"patch_31\">\r\n    <path clip-path=\"url(#pbb1927e9f9)\" d=\"M 127.365 224.64 \r\nL 130.408636 224.64 \r\nL 130.408636 17.554286 \r\nL 127.365 17.554286 \r\nz\r\n\" style=\"fill:#1f77b4;\"/>\r\n   </g>\r\n   <g id=\"patch_32\">\r\n    <path clip-path=\"url(#pbb1927e9f9)\" d=\"M 130.408636 224.64 \r\nL 133.452273 224.64 \r\nL 133.452273 224.64 \r\nL 130.408636 224.64 \r\nz\r\n\" style=\"fill:#1f77b4;\"/>\r\n   </g>\r\n   <g id=\"patch_33\">\r\n    <path clip-path=\"url(#pbb1927e9f9)\" d=\"M 133.452273 224.64 \r\nL 136.495909 224.64 \r\nL 136.495909 224.64 \r\nL 133.452273 224.64 \r\nz\r\n\" style=\"fill:#1f77b4;\"/>\r\n   </g>\r\n   <g id=\"patch_34\">\r\n    <path clip-path=\"url(#pbb1927e9f9)\" d=\"M 136.495909 224.64 \r\nL 139.539545 224.64 \r\nL 139.539545 149.336104 \r\nL 136.495909 149.336104 \r\nz\r\n\" style=\"fill:#1f77b4;\"/>\r\n   </g>\r\n   <g id=\"patch_35\">\r\n    <path clip-path=\"url(#pbb1927e9f9)\" d=\"M 139.539545 224.64 \r\nL 142.583182 224.64 \r\nL 142.583182 224.64 \r\nL 139.539545 224.64 \r\nz\r\n\" style=\"fill:#1f77b4;\"/>\r\n   </g>\r\n   <g id=\"patch_36\">\r\n    <path clip-path=\"url(#pbb1927e9f9)\" d=\"M 142.583182 224.64 \r\nL 145.626818 224.64 \r\nL 145.626818 224.64 \r\nL 142.583182 224.64 \r\nz\r\n\" style=\"fill:#1f77b4;\"/>\r\n   </g>\r\n   <g id=\"patch_37\">\r\n    <path clip-path=\"url(#pbb1927e9f9)\" d=\"M 145.626818 224.64 \r\nL 148.670455 224.64 \r\nL 148.670455 26.967273 \r\nL 145.626818 26.967273 \r\nz\r\n\" style=\"fill:#1f77b4;\"/>\r\n   </g>\r\n   <g id=\"patch_38\">\r\n    <path clip-path=\"url(#pbb1927e9f9)\" d=\"M 148.670455 224.64 \r\nL 151.714091 224.64 \r\nL 151.714091 224.64 \r\nL 148.670455 224.64 \r\nz\r\n\" style=\"fill:#1f77b4;\"/>\r\n   </g>\r\n   <g id=\"patch_39\">\r\n    <path clip-path=\"url(#pbb1927e9f9)\" d=\"M 151.714091 224.64 \r\nL 154.757727 224.64 \r\nL 154.757727 196.401039 \r\nL 151.714091 196.401039 \r\nz\r\n\" style=\"fill:#1f77b4;\"/>\r\n   </g>\r\n   <g id=\"patch_40\">\r\n    <path clip-path=\"url(#pbb1927e9f9)\" d=\"M 154.757727 224.64 \r\nL 157.801364 224.64 \r\nL 157.801364 224.64 \r\nL 154.757727 224.64 \r\nz\r\n\" style=\"fill:#1f77b4;\"/>\r\n   </g>\r\n   <g id=\"patch_41\">\r\n    <path clip-path=\"url(#pbb1927e9f9)\" d=\"M 157.801364 224.64 \r\nL 160.845 224.64 \r\nL 160.845 224.64 \r\nL 157.801364 224.64 \r\nz\r\n\" style=\"fill:#1f77b4;\"/>\r\n   </g>\r\n   <g id=\"patch_42\">\r\n    <path clip-path=\"url(#pbb1927e9f9)\" d=\"M 160.845 224.64 \r\nL 163.888636 224.64 \r\nL 163.888636 17.554286 \r\nL 160.845 17.554286 \r\nz\r\n\" style=\"fill:#1f77b4;\"/>\r\n   </g>\r\n   <g id=\"patch_43\">\r\n    <path clip-path=\"url(#pbb1927e9f9)\" d=\"M 163.888636 224.64 \r\nL 166.932273 224.64 \r\nL 166.932273 224.64 \r\nL 163.888636 224.64 \r\nz\r\n\" style=\"fill:#1f77b4;\"/>\r\n   </g>\r\n   <g id=\"patch_44\">\r\n    <path clip-path=\"url(#pbb1927e9f9)\" d=\"M 166.932273 224.64 \r\nL 169.975909 224.64 \r\nL 169.975909 224.64 \r\nL 166.932273 224.64 \r\nz\r\n\" style=\"fill:#1f77b4;\"/>\r\n   </g>\r\n   <g id=\"patch_45\">\r\n    <path clip-path=\"url(#pbb1927e9f9)\" d=\"M 169.975909 224.64 \r\nL 173.019545 224.64 \r\nL 173.019545 92.858182 \r\nL 169.975909 92.858182 \r\nz\r\n\" style=\"fill:#1f77b4;\"/>\r\n   </g>\r\n   <g id=\"patch_46\">\r\n    <path clip-path=\"url(#pbb1927e9f9)\" d=\"M 173.019545 224.64 \r\nL 176.063182 224.64 \r\nL 176.063182 224.64 \r\nL 173.019545 224.64 \r\nz\r\n\" style=\"fill:#1f77b4;\"/>\r\n   </g>\r\n   <g id=\"patch_47\">\r\n    <path clip-path=\"url(#pbb1927e9f9)\" d=\"M 176.063182 224.64 \r\nL 179.106818 224.64 \r\nL 179.106818 17.554286 \r\nL 176.063182 17.554286 \r\nz\r\n\" style=\"fill:#1f77b4;\"/>\r\n   </g>\r\n   <g id=\"patch_48\">\r\n    <path clip-path=\"url(#pbb1927e9f9)\" d=\"M 179.106818 224.64 \r\nL 182.150455 224.64 \r\nL 182.150455 224.64 \r\nL 179.106818 224.64 \r\nz\r\n\" style=\"fill:#1f77b4;\"/>\r\n   </g>\r\n   <g id=\"patch_49\">\r\n    <path clip-path=\"url(#pbb1927e9f9)\" d=\"M 182.150455 224.64 \r\nL 185.194091 224.64 \r\nL 185.194091 224.64 \r\nL 182.150455 224.64 \r\nz\r\n\" style=\"fill:#1f77b4;\"/>\r\n   </g>\r\n   <g id=\"patch_50\">\r\n    <path clip-path=\"url(#pbb1927e9f9)\" d=\"M 185.194091 224.64 \r\nL 188.237727 224.64 \r\nL 188.237727 26.967273 \r\nL 185.194091 26.967273 \r\nz\r\n\" style=\"fill:#1f77b4;\"/>\r\n   </g>\r\n   <g id=\"patch_51\">\r\n    <path clip-path=\"url(#pbb1927e9f9)\" d=\"M 188.237727 224.64 \r\nL 191.281364 224.64 \r\nL 191.281364 224.64 \r\nL 188.237727 224.64 \r\nz\r\n\" style=\"fill:#1f77b4;\"/>\r\n   </g>\r\n   <g id=\"patch_52\">\r\n    <path clip-path=\"url(#pbb1927e9f9)\" d=\"M 191.281364 224.64 \r\nL 194.325 224.64 \r\nL 194.325 224.64 \r\nL 191.281364 224.64 \r\nz\r\n\" style=\"fill:#1f77b4;\"/>\r\n   </g>\r\n   <g id=\"patch_53\">\r\n    <path clip-path=\"url(#pbb1927e9f9)\" d=\"M 194.325 224.64 \r\nL 197.368636 224.64 \r\nL 197.368636 17.554286 \r\nL 194.325 17.554286 \r\nz\r\n\" style=\"fill:#1f77b4;\"/>\r\n   </g>\r\n   <g id=\"patch_54\">\r\n    <path clip-path=\"url(#pbb1927e9f9)\" d=\"M 197.368636 224.64 \r\nL 200.412273 224.64 \r\nL 200.412273 224.64 \r\nL 197.368636 224.64 \r\nz\r\n\" style=\"fill:#1f77b4;\"/>\r\n   </g>\r\n   <g id=\"patch_55\">\r\n    <path clip-path=\"url(#pbb1927e9f9)\" d=\"M 200.412273 224.64 \r\nL 203.455909 224.64 \r\nL 203.455909 102.271169 \r\nL 200.412273 102.271169 \r\nz\r\n\" style=\"fill:#1f77b4;\"/>\r\n   </g>\r\n   <g id=\"patch_56\">\r\n    <path clip-path=\"url(#pbb1927e9f9)\" d=\"M 203.455909 224.64 \r\nL 206.499545 224.64 \r\nL 206.499545 224.64 \r\nL 203.455909 224.64 \r\nz\r\n\" style=\"fill:#1f77b4;\"/>\r\n   </g>\r\n   <g id=\"patch_57\">\r\n    <path clip-path=\"url(#pbb1927e9f9)\" d=\"M 206.499545 224.64 \r\nL 209.543182 224.64 \r\nL 209.543182 224.64 \r\nL 206.499545 224.64 \r\nz\r\n\" style=\"fill:#1f77b4;\"/>\r\n   </g>\r\n   <g id=\"patch_58\">\r\n    <path clip-path=\"url(#pbb1927e9f9)\" d=\"M 209.543182 224.64 \r\nL 212.586818 224.64 \r\nL 212.586818 26.967273 \r\nL 209.543182 26.967273 \r\nz\r\n\" style=\"fill:#1f77b4;\"/>\r\n   </g>\r\n   <g id=\"patch_59\">\r\n    <path clip-path=\"url(#pbb1927e9f9)\" d=\"M 212.586818 224.64 \r\nL 215.630455 224.64 \r\nL 215.630455 224.64 \r\nL 212.586818 224.64 \r\nz\r\n\" style=\"fill:#1f77b4;\"/>\r\n   </g>\r\n   <g id=\"patch_60\">\r\n    <path clip-path=\"url(#pbb1927e9f9)\" d=\"M 215.630455 224.64 \r\nL 218.674091 224.64 \r\nL 218.674091 224.64 \r\nL 215.630455 224.64 \r\nz\r\n\" style=\"fill:#1f77b4;\"/>\r\n   </g>\r\n   <g id=\"patch_61\">\r\n    <path clip-path=\"url(#pbb1927e9f9)\" d=\"M 218.674091 224.64 \r\nL 221.717727 224.64 \r\nL 221.717727 224.64 \r\nL 218.674091 224.64 \r\nz\r\n\" style=\"fill:#1f77b4;\"/>\r\n   </g>\r\n   <g id=\"patch_62\">\r\n    <path clip-path=\"url(#pbb1927e9f9)\" d=\"M 221.717727 224.64 \r\nL 224.761364 224.64 \r\nL 224.761364 224.64 \r\nL 221.717727 224.64 \r\nz\r\n\" style=\"fill:#1f77b4;\"/>\r\n   </g>\r\n   <g id=\"patch_63\">\r\n    <path clip-path=\"url(#pbb1927e9f9)\" d=\"M 224.761364 224.64 \r\nL 227.805 224.64 \r\nL 227.805 224.64 \r\nL 224.761364 224.64 \r\nz\r\n\" style=\"fill:#1f77b4;\"/>\r\n   </g>\r\n   <g id=\"patch_64\">\r\n    <path clip-path=\"url(#pbb1927e9f9)\" d=\"M 227.805 224.64 \r\nL 230.848636 224.64 \r\nL 230.848636 224.64 \r\nL 227.805 224.64 \r\nz\r\n\" style=\"fill:#1f77b4;\"/>\r\n   </g>\r\n   <g id=\"patch_65\">\r\n    <path clip-path=\"url(#pbb1927e9f9)\" d=\"M 230.848636 224.64 \r\nL 233.892273 224.64 \r\nL 233.892273 224.64 \r\nL 230.848636 224.64 \r\nz\r\n\" style=\"fill:#1f77b4;\"/>\r\n   </g>\r\n   <g id=\"patch_66\">\r\n    <path clip-path=\"url(#pbb1927e9f9)\" d=\"M 233.892273 224.64 \r\nL 236.935909 224.64 \r\nL 236.935909 224.64 \r\nL 233.892273 224.64 \r\nz\r\n\" style=\"fill:#1f77b4;\"/>\r\n   </g>\r\n   <g id=\"patch_67\">\r\n    <path clip-path=\"url(#pbb1927e9f9)\" d=\"M 236.935909 224.64 \r\nL 239.979545 224.64 \r\nL 239.979545 224.64 \r\nL 236.935909 224.64 \r\nz\r\n\" style=\"fill:#1f77b4;\"/>\r\n   </g>\r\n   <g id=\"patch_68\">\r\n    <path clip-path=\"url(#pbb1927e9f9)\" d=\"M 239.979545 224.64 \r\nL 243.023182 224.64 \r\nL 243.023182 224.64 \r\nL 239.979545 224.64 \r\nz\r\n\" style=\"fill:#1f77b4;\"/>\r\n   </g>\r\n   <g id=\"patch_69\">\r\n    <path clip-path=\"url(#pbb1927e9f9)\" d=\"M 243.023182 224.64 \r\nL 246.066818 224.64 \r\nL 246.066818 224.64 \r\nL 243.023182 224.64 \r\nz\r\n\" style=\"fill:#1f77b4;\"/>\r\n   </g>\r\n   <g id=\"patch_70\">\r\n    <path clip-path=\"url(#pbb1927e9f9)\" d=\"M 246.066818 224.64 \r\nL 249.110455 224.64 \r\nL 249.110455 224.64 \r\nL 246.066818 224.64 \r\nz\r\n\" style=\"fill:#1f77b4;\"/>\r\n   </g>\r\n   <g id=\"patch_71\">\r\n    <path clip-path=\"url(#pbb1927e9f9)\" d=\"M 249.110455 224.64 \r\nL 252.154091 224.64 \r\nL 252.154091 224.64 \r\nL 249.110455 224.64 \r\nz\r\n\" style=\"fill:#1f77b4;\"/>\r\n   </g>\r\n   <g id=\"patch_72\">\r\n    <path clip-path=\"url(#pbb1927e9f9)\" d=\"M 252.154091 224.64 \r\nL 255.197727 224.64 \r\nL 255.197727 224.64 \r\nL 252.154091 224.64 \r\nz\r\n\" style=\"fill:#1f77b4;\"/>\r\n   </g>\r\n   <g id=\"patch_73\">\r\n    <path clip-path=\"url(#pbb1927e9f9)\" d=\"M 255.197727 224.64 \r\nL 258.241364 224.64 \r\nL 258.241364 224.64 \r\nL 255.197727 224.64 \r\nz\r\n\" style=\"fill:#1f77b4;\"/>\r\n   </g>\r\n   <g id=\"patch_74\">\r\n    <path clip-path=\"url(#pbb1927e9f9)\" d=\"M 258.241364 224.64 \r\nL 261.285 224.64 \r\nL 261.285 224.64 \r\nL 258.241364 224.64 \r\nz\r\n\" style=\"fill:#1f77b4;\"/>\r\n   </g>\r\n   <g id=\"patch_75\">\r\n    <path clip-path=\"url(#pbb1927e9f9)\" d=\"M 261.285 224.64 \r\nL 264.328636 224.64 \r\nL 264.328636 224.64 \r\nL 261.285 224.64 \r\nz\r\n\" style=\"fill:#1f77b4;\"/>\r\n   </g>\r\n   <g id=\"patch_76\">\r\n    <path clip-path=\"url(#pbb1927e9f9)\" d=\"M 264.328636 224.64 \r\nL 267.372273 224.64 \r\nL 267.372273 224.64 \r\nL 264.328636 224.64 \r\nz\r\n\" style=\"fill:#1f77b4;\"/>\r\n   </g>\r\n   <g id=\"patch_77\">\r\n    <path clip-path=\"url(#pbb1927e9f9)\" d=\"M 267.372273 224.64 \r\nL 270.415909 224.64 \r\nL 270.415909 224.64 \r\nL 267.372273 224.64 \r\nz\r\n\" style=\"fill:#1f77b4;\"/>\r\n   </g>\r\n   <g id=\"patch_78\">\r\n    <path clip-path=\"url(#pbb1927e9f9)\" d=\"M 270.415909 224.64 \r\nL 273.459545 224.64 \r\nL 273.459545 224.64 \r\nL 270.415909 224.64 \r\nz\r\n\" style=\"fill:#1f77b4;\"/>\r\n   </g>\r\n   <g id=\"patch_79\">\r\n    <path clip-path=\"url(#pbb1927e9f9)\" d=\"M 273.459545 224.64 \r\nL 276.503182 224.64 \r\nL 276.503182 215.227013 \r\nL 273.459545 215.227013 \r\nz\r\n\" style=\"fill:#1f77b4;\"/>\r\n   </g>\r\n   <g id=\"patch_80\">\r\n    <path clip-path=\"url(#pbb1927e9f9)\" d=\"M 276.503182 224.64 \r\nL 279.546818 224.64 \r\nL 279.546818 224.64 \r\nL 276.503182 224.64 \r\nz\r\n\" style=\"fill:#1f77b4;\"/>\r\n   </g>\r\n   <g id=\"patch_81\">\r\n    <path clip-path=\"url(#pbb1927e9f9)\" d=\"M 279.546818 224.64 \r\nL 282.590455 224.64 \r\nL 282.590455 224.64 \r\nL 279.546818 224.64 \r\nz\r\n\" style=\"fill:#1f77b4;\"/>\r\n   </g>\r\n   <g id=\"patch_82\">\r\n    <path clip-path=\"url(#pbb1927e9f9)\" d=\"M 282.590455 224.64 \r\nL 285.634091 224.64 \r\nL 285.634091 224.64 \r\nL 282.590455 224.64 \r\nz\r\n\" style=\"fill:#1f77b4;\"/>\r\n   </g>\r\n   <g id=\"patch_83\">\r\n    <path clip-path=\"url(#pbb1927e9f9)\" d=\"M 285.634091 224.64 \r\nL 288.677727 224.64 \r\nL 288.677727 224.64 \r\nL 285.634091 224.64 \r\nz\r\n\" style=\"fill:#1f77b4;\"/>\r\n   </g>\r\n   <g id=\"patch_84\">\r\n    <path clip-path=\"url(#pbb1927e9f9)\" d=\"M 288.677727 224.64 \r\nL 291.721364 224.64 \r\nL 291.721364 224.64 \r\nL 288.677727 224.64 \r\nz\r\n\" style=\"fill:#1f77b4;\"/>\r\n   </g>\r\n   <g id=\"patch_85\">\r\n    <path clip-path=\"url(#pbb1927e9f9)\" d=\"M 291.721364 224.64 \r\nL 294.765 224.64 \r\nL 294.765 224.64 \r\nL 291.721364 224.64 \r\nz\r\n\" style=\"fill:#1f77b4;\"/>\r\n   </g>\r\n   <g id=\"patch_86\">\r\n    <path clip-path=\"url(#pbb1927e9f9)\" d=\"M 294.765 224.64 \r\nL 297.808636 224.64 \r\nL 297.808636 224.64 \r\nL 294.765 224.64 \r\nz\r\n\" style=\"fill:#1f77b4;\"/>\r\n   </g>\r\n   <g id=\"patch_87\">\r\n    <path clip-path=\"url(#pbb1927e9f9)\" d=\"M 297.808636 224.64 \r\nL 300.852273 224.64 \r\nL 300.852273 224.64 \r\nL 297.808636 224.64 \r\nz\r\n\" style=\"fill:#1f77b4;\"/>\r\n   </g>\r\n   <g id=\"patch_88\">\r\n    <path clip-path=\"url(#pbb1927e9f9)\" d=\"M 300.852273 224.64 \r\nL 303.895909 224.64 \r\nL 303.895909 224.64 \r\nL 300.852273 224.64 \r\nz\r\n\" style=\"fill:#1f77b4;\"/>\r\n   </g>\r\n   <g id=\"patch_89\">\r\n    <path clip-path=\"url(#pbb1927e9f9)\" d=\"M 303.895909 224.64 \r\nL 306.939545 224.64 \r\nL 306.939545 224.64 \r\nL 303.895909 224.64 \r\nz\r\n\" style=\"fill:#1f77b4;\"/>\r\n   </g>\r\n   <g id=\"patch_90\">\r\n    <path clip-path=\"url(#pbb1927e9f9)\" d=\"M 306.939545 224.64 \r\nL 309.983182 224.64 \r\nL 309.983182 224.64 \r\nL 306.939545 224.64 \r\nz\r\n\" style=\"fill:#1f77b4;\"/>\r\n   </g>\r\n   <g id=\"patch_91\">\r\n    <path clip-path=\"url(#pbb1927e9f9)\" d=\"M 309.983182 224.64 \r\nL 313.026818 224.64 \r\nL 313.026818 224.64 \r\nL 309.983182 224.64 \r\nz\r\n\" style=\"fill:#1f77b4;\"/>\r\n   </g>\r\n   <g id=\"patch_92\">\r\n    <path clip-path=\"url(#pbb1927e9f9)\" d=\"M 313.026818 224.64 \r\nL 316.070455 224.64 \r\nL 316.070455 224.64 \r\nL 313.026818 224.64 \r\nz\r\n\" style=\"fill:#1f77b4;\"/>\r\n   </g>\r\n   <g id=\"patch_93\">\r\n    <path clip-path=\"url(#pbb1927e9f9)\" d=\"M 316.070455 224.64 \r\nL 319.114091 224.64 \r\nL 319.114091 224.64 \r\nL 316.070455 224.64 \r\nz\r\n\" style=\"fill:#1f77b4;\"/>\r\n   </g>\r\n   <g id=\"patch_94\">\r\n    <path clip-path=\"url(#pbb1927e9f9)\" d=\"M 319.114091 224.64 \r\nL 322.157727 224.64 \r\nL 322.157727 224.64 \r\nL 319.114091 224.64 \r\nz\r\n\" style=\"fill:#1f77b4;\"/>\r\n   </g>\r\n   <g id=\"patch_95\">\r\n    <path clip-path=\"url(#pbb1927e9f9)\" d=\"M 322.157727 224.64 \r\nL 325.201364 224.64 \r\nL 325.201364 224.64 \r\nL 322.157727 224.64 \r\nz\r\n\" style=\"fill:#1f77b4;\"/>\r\n   </g>\r\n   <g id=\"patch_96\">\r\n    <path clip-path=\"url(#pbb1927e9f9)\" d=\"M 325.201364 224.64 \r\nL 328.245 224.64 \r\nL 328.245 224.64 \r\nL 325.201364 224.64 \r\nz\r\n\" style=\"fill:#1f77b4;\"/>\r\n   </g>\r\n   <g id=\"patch_97\">\r\n    <path clip-path=\"url(#pbb1927e9f9)\" d=\"M 328.245 224.64 \r\nL 331.288636 224.64 \r\nL 331.288636 224.64 \r\nL 328.245 224.64 \r\nz\r\n\" style=\"fill:#1f77b4;\"/>\r\n   </g>\r\n   <g id=\"patch_98\">\r\n    <path clip-path=\"url(#pbb1927e9f9)\" d=\"M 331.288636 224.64 \r\nL 334.332273 224.64 \r\nL 334.332273 224.64 \r\nL 331.288636 224.64 \r\nz\r\n\" style=\"fill:#1f77b4;\"/>\r\n   </g>\r\n   <g id=\"patch_99\">\r\n    <path clip-path=\"url(#pbb1927e9f9)\" d=\"M 334.332273 224.64 \r\nL 337.375909 224.64 \r\nL 337.375909 224.64 \r\nL 334.332273 224.64 \r\nz\r\n\" style=\"fill:#1f77b4;\"/>\r\n   </g>\r\n   <g id=\"patch_100\">\r\n    <path clip-path=\"url(#pbb1927e9f9)\" d=\"M 337.375909 224.64 \r\nL 340.419545 224.64 \r\nL 340.419545 224.64 \r\nL 337.375909 224.64 \r\nz\r\n\" style=\"fill:#1f77b4;\"/>\r\n   </g>\r\n   <g id=\"patch_101\">\r\n    <path clip-path=\"url(#pbb1927e9f9)\" d=\"M 340.419545 224.64 \r\nL 343.463182 224.64 \r\nL 343.463182 224.64 \r\nL 340.419545 224.64 \r\nz\r\n\" style=\"fill:#1f77b4;\"/>\r\n   </g>\r\n   <g id=\"patch_102\">\r\n    <path clip-path=\"url(#pbb1927e9f9)\" d=\"M 343.463182 224.64 \r\nL 346.506818 224.64 \r\nL 346.506818 102.271169 \r\nL 343.463182 102.271169 \r\nz\r\n\" style=\"fill:#1f77b4;\"/>\r\n   </g>\r\n   <g id=\"matplotlib.axis_1\">\r\n    <g id=\"xtick_1\">\r\n     <g id=\"line2d_1\">\r\n      <defs>\r\n       <path d=\"M 0 0 \r\nL 0 3.5 \r\n\" id=\"m422fd8bfee\" style=\"stroke:#000000;stroke-width:0.8;\"/>\r\n      </defs>\r\n      <g>\r\n       <use style=\"stroke:#000000;stroke-width:0.8;\" x=\"34.133612\" xlink:href=\"#m422fd8bfee\" y=\"224.64\"/>\r\n      </g>\r\n     </g>\r\n     <g id=\"text_1\">\r\n      <!-- 0 -->\r\n      <g transform=\"translate(30.952362 239.238437)scale(0.1 -0.1)\">\r\n       <defs>\r\n        <path d=\"M 2034 4250 \r\nQ 1547 4250 1301 3770 \r\nQ 1056 3291 1056 2328 \r\nQ 1056 1369 1301 889 \r\nQ 1547 409 2034 409 \r\nQ 2525 409 2770 889 \r\nQ 3016 1369 3016 2328 \r\nQ 3016 3291 2770 3770 \r\nQ 2525 4250 2034 4250 \r\nz\r\nM 2034 4750 \r\nQ 2819 4750 3233 4129 \r\nQ 3647 3509 3647 2328 \r\nQ 3647 1150 3233 529 \r\nQ 2819 -91 2034 -91 \r\nQ 1250 -91 836 529 \r\nQ 422 1150 422 2328 \r\nQ 422 3509 836 4129 \r\nQ 1250 4750 2034 4750 \r\nz\r\n\" id=\"DejaVuSans-30\" transform=\"scale(0.015625)\"/>\r\n       </defs>\r\n       <use xlink:href=\"#DejaVuSans-30\"/>\r\n      </g>\r\n     </g>\r\n    </g>\r\n    <g id=\"xtick_2\">\r\n     <g id=\"line2d_2\">\r\n      <g>\r\n       <use style=\"stroke:#000000;stroke-width:0.8;\" x=\"74.181459\" xlink:href=\"#m422fd8bfee\" y=\"224.64\"/>\r\n      </g>\r\n     </g>\r\n     <g id=\"text_2\">\r\n      <!-- 5 -->\r\n      <g transform=\"translate(71.000209 239.238437)scale(0.1 -0.1)\">\r\n       <defs>\r\n        <path d=\"M 691 4666 \r\nL 3169 4666 \r\nL 3169 4134 \r\nL 1269 4134 \r\nL 1269 2991 \r\nQ 1406 3038 1543 3061 \r\nQ 1681 3084 1819 3084 \r\nQ 2600 3084 3056 2656 \r\nQ 3513 2228 3513 1497 \r\nQ 3513 744 3044 326 \r\nQ 2575 -91 1722 -91 \r\nQ 1428 -91 1123 -41 \r\nQ 819 9 494 109 \r\nL 494 744 \r\nQ 775 591 1075 516 \r\nQ 1375 441 1709 441 \r\nQ 2250 441 2565 725 \r\nQ 2881 1009 2881 1497 \r\nQ 2881 1984 2565 2268 \r\nQ 2250 2553 1709 2553 \r\nQ 1456 2553 1204 2497 \r\nQ 953 2441 691 2322 \r\nL 691 4666 \r\nz\r\n\" id=\"DejaVuSans-35\" transform=\"scale(0.015625)\"/>\r\n       </defs>\r\n       <use xlink:href=\"#DejaVuSans-35\"/>\r\n      </g>\r\n     </g>\r\n    </g>\r\n    <g id=\"xtick_3\">\r\n     <g id=\"line2d_3\">\r\n      <g>\r\n       <use style=\"stroke:#000000;stroke-width:0.8;\" x=\"114.229306\" xlink:href=\"#m422fd8bfee\" y=\"224.64\"/>\r\n      </g>\r\n     </g>\r\n     <g id=\"text_3\">\r\n      <!-- 10 -->\r\n      <g transform=\"translate(107.866806 239.238437)scale(0.1 -0.1)\">\r\n       <defs>\r\n        <path d=\"M 794 531 \r\nL 1825 531 \r\nL 1825 4091 \r\nL 703 3866 \r\nL 703 4441 \r\nL 1819 4666 \r\nL 2450 4666 \r\nL 2450 531 \r\nL 3481 531 \r\nL 3481 0 \r\nL 794 0 \r\nL 794 531 \r\nz\r\n\" id=\"DejaVuSans-31\" transform=\"scale(0.015625)\"/>\r\n       </defs>\r\n       <use xlink:href=\"#DejaVuSans-31\"/>\r\n       <use x=\"63.623047\" xlink:href=\"#DejaVuSans-30\"/>\r\n      </g>\r\n     </g>\r\n    </g>\r\n    <g id=\"xtick_4\">\r\n     <g id=\"line2d_4\">\r\n      <g>\r\n       <use style=\"stroke:#000000;stroke-width:0.8;\" x=\"154.277153\" xlink:href=\"#m422fd8bfee\" y=\"224.64\"/>\r\n      </g>\r\n     </g>\r\n     <g id=\"text_4\">\r\n      <!-- 15 -->\r\n      <g transform=\"translate(147.914653 239.238437)scale(0.1 -0.1)\">\r\n       <use xlink:href=\"#DejaVuSans-31\"/>\r\n       <use x=\"63.623047\" xlink:href=\"#DejaVuSans-35\"/>\r\n      </g>\r\n     </g>\r\n    </g>\r\n    <g id=\"xtick_5\">\r\n     <g id=\"line2d_5\">\r\n      <g>\r\n       <use style=\"stroke:#000000;stroke-width:0.8;\" x=\"194.325\" xlink:href=\"#m422fd8bfee\" y=\"224.64\"/>\r\n      </g>\r\n     </g>\r\n     <g id=\"text_5\">\r\n      <!-- 20 -->\r\n      <g transform=\"translate(187.9625 239.238437)scale(0.1 -0.1)\">\r\n       <defs>\r\n        <path d=\"M 1228 531 \r\nL 3431 531 \r\nL 3431 0 \r\nL 469 0 \r\nL 469 531 \r\nQ 828 903 1448 1529 \r\nQ 2069 2156 2228 2338 \r\nQ 2531 2678 2651 2914 \r\nQ 2772 3150 2772 3378 \r\nQ 2772 3750 2511 3984 \r\nQ 2250 4219 1831 4219 \r\nQ 1534 4219 1204 4116 \r\nQ 875 4013 500 3803 \r\nL 500 4441 \r\nQ 881 4594 1212 4672 \r\nQ 1544 4750 1819 4750 \r\nQ 2544 4750 2975 4387 \r\nQ 3406 4025 3406 3419 \r\nQ 3406 3131 3298 2873 \r\nQ 3191 2616 2906 2266 \r\nQ 2828 2175 2409 1742 \r\nQ 1991 1309 1228 531 \r\nz\r\n\" id=\"DejaVuSans-32\" transform=\"scale(0.015625)\"/>\r\n       </defs>\r\n       <use xlink:href=\"#DejaVuSans-32\"/>\r\n       <use x=\"63.623047\" xlink:href=\"#DejaVuSans-30\"/>\r\n      </g>\r\n     </g>\r\n    </g>\r\n    <g id=\"xtick_6\">\r\n     <g id=\"line2d_6\">\r\n      <g>\r\n       <use style=\"stroke:#000000;stroke-width:0.8;\" x=\"234.372847\" xlink:href=\"#m422fd8bfee\" y=\"224.64\"/>\r\n      </g>\r\n     </g>\r\n     <g id=\"text_6\">\r\n      <!-- 25 -->\r\n      <g transform=\"translate(228.010347 239.238437)scale(0.1 -0.1)\">\r\n       <use xlink:href=\"#DejaVuSans-32\"/>\r\n       <use x=\"63.623047\" xlink:href=\"#DejaVuSans-35\"/>\r\n      </g>\r\n     </g>\r\n    </g>\r\n    <g id=\"xtick_7\">\r\n     <g id=\"line2d_7\">\r\n      <g>\r\n       <use style=\"stroke:#000000;stroke-width:0.8;\" x=\"274.420694\" xlink:href=\"#m422fd8bfee\" y=\"224.64\"/>\r\n      </g>\r\n     </g>\r\n     <g id=\"text_7\">\r\n      <!-- 30 -->\r\n      <g transform=\"translate(268.058194 239.238437)scale(0.1 -0.1)\">\r\n       <defs>\r\n        <path d=\"M 2597 2516 \r\nQ 3050 2419 3304 2112 \r\nQ 3559 1806 3559 1356 \r\nQ 3559 666 3084 287 \r\nQ 2609 -91 1734 -91 \r\nQ 1441 -91 1130 -33 \r\nQ 819 25 488 141 \r\nL 488 750 \r\nQ 750 597 1062 519 \r\nQ 1375 441 1716 441 \r\nQ 2309 441 2620 675 \r\nQ 2931 909 2931 1356 \r\nQ 2931 1769 2642 2001 \r\nQ 2353 2234 1838 2234 \r\nL 1294 2234 \r\nL 1294 2753 \r\nL 1863 2753 \r\nQ 2328 2753 2575 2939 \r\nQ 2822 3125 2822 3475 \r\nQ 2822 3834 2567 4026 \r\nQ 2313 4219 1838 4219 \r\nQ 1578 4219 1281 4162 \r\nQ 984 4106 628 3988 \r\nL 628 4550 \r\nQ 988 4650 1302 4700 \r\nQ 1616 4750 1894 4750 \r\nQ 2613 4750 3031 4423 \r\nQ 3450 4097 3450 3541 \r\nQ 3450 3153 3228 2886 \r\nQ 3006 2619 2597 2516 \r\nz\r\n\" id=\"DejaVuSans-33\" transform=\"scale(0.015625)\"/>\r\n       </defs>\r\n       <use xlink:href=\"#DejaVuSans-33\"/>\r\n       <use x=\"63.623047\" xlink:href=\"#DejaVuSans-30\"/>\r\n      </g>\r\n     </g>\r\n    </g>\r\n    <g id=\"xtick_8\">\r\n     <g id=\"line2d_8\">\r\n      <g>\r\n       <use style=\"stroke:#000000;stroke-width:0.8;\" x=\"314.468541\" xlink:href=\"#m422fd8bfee\" y=\"224.64\"/>\r\n      </g>\r\n     </g>\r\n     <g id=\"text_8\">\r\n      <!-- 35 -->\r\n      <g transform=\"translate(308.106041 239.238437)scale(0.1 -0.1)\">\r\n       <use xlink:href=\"#DejaVuSans-33\"/>\r\n       <use x=\"63.623047\" xlink:href=\"#DejaVuSans-35\"/>\r\n      </g>\r\n     </g>\r\n    </g>\r\n    <g id=\"xtick_9\">\r\n     <g id=\"line2d_9\">\r\n      <g>\r\n       <use style=\"stroke:#000000;stroke-width:0.8;\" x=\"354.516388\" xlink:href=\"#m422fd8bfee\" y=\"224.64\"/>\r\n      </g>\r\n     </g>\r\n     <g id=\"text_9\">\r\n      <!-- 40 -->\r\n      <g transform=\"translate(348.153888 239.238437)scale(0.1 -0.1)\">\r\n       <defs>\r\n        <path d=\"M 2419 4116 \r\nL 825 1625 \r\nL 2419 1625 \r\nL 2419 4116 \r\nz\r\nM 2253 4666 \r\nL 3047 4666 \r\nL 3047 1625 \r\nL 3713 1625 \r\nL 3713 1100 \r\nL 3047 1100 \r\nL 3047 0 \r\nL 2419 0 \r\nL 2419 1100 \r\nL 313 1100 \r\nL 313 1709 \r\nL 2253 4666 \r\nz\r\n\" id=\"DejaVuSans-34\" transform=\"scale(0.015625)\"/>\r\n       </defs>\r\n       <use xlink:href=\"#DejaVuSans-34\"/>\r\n       <use x=\"63.623047\" xlink:href=\"#DejaVuSans-30\"/>\r\n      </g>\r\n     </g>\r\n    </g>\r\n    <g id=\"text_10\">\r\n     <!-- ManagerID -->\r\n     <g transform=\"translate(167.082813 252.916562)scale(0.1 -0.1)\">\r\n      <defs>\r\n       <path d=\"M 628 4666 \r\nL 1569 4666 \r\nL 2759 1491 \r\nL 3956 4666 \r\nL 4897 4666 \r\nL 4897 0 \r\nL 4281 0 \r\nL 4281 4097 \r\nL 3078 897 \r\nL 2444 897 \r\nL 1241 4097 \r\nL 1241 0 \r\nL 628 0 \r\nL 628 4666 \r\nz\r\n\" id=\"DejaVuSans-4d\" transform=\"scale(0.015625)\"/>\r\n       <path d=\"M 2194 1759 \r\nQ 1497 1759 1228 1600 \r\nQ 959 1441 959 1056 \r\nQ 959 750 1161 570 \r\nQ 1363 391 1709 391 \r\nQ 2188 391 2477 730 \r\nQ 2766 1069 2766 1631 \r\nL 2766 1759 \r\nL 2194 1759 \r\nz\r\nM 3341 1997 \r\nL 3341 0 \r\nL 2766 0 \r\nL 2766 531 \r\nQ 2569 213 2275 61 \r\nQ 1981 -91 1556 -91 \r\nQ 1019 -91 701 211 \r\nQ 384 513 384 1019 \r\nQ 384 1609 779 1909 \r\nQ 1175 2209 1959 2209 \r\nL 2766 2209 \r\nL 2766 2266 \r\nQ 2766 2663 2505 2880 \r\nQ 2244 3097 1772 3097 \r\nQ 1472 3097 1187 3025 \r\nQ 903 2953 641 2809 \r\nL 641 3341 \r\nQ 956 3463 1253 3523 \r\nQ 1550 3584 1831 3584 \r\nQ 2591 3584 2966 3190 \r\nQ 3341 2797 3341 1997 \r\nz\r\n\" id=\"DejaVuSans-61\" transform=\"scale(0.015625)\"/>\r\n       <path d=\"M 3513 2113 \r\nL 3513 0 \r\nL 2938 0 \r\nL 2938 2094 \r\nQ 2938 2591 2744 2837 \r\nQ 2550 3084 2163 3084 \r\nQ 1697 3084 1428 2787 \r\nQ 1159 2491 1159 1978 \r\nL 1159 0 \r\nL 581 0 \r\nL 581 3500 \r\nL 1159 3500 \r\nL 1159 2956 \r\nQ 1366 3272 1645 3428 \r\nQ 1925 3584 2291 3584 \r\nQ 2894 3584 3203 3211 \r\nQ 3513 2838 3513 2113 \r\nz\r\n\" id=\"DejaVuSans-6e\" transform=\"scale(0.015625)\"/>\r\n       <path d=\"M 2906 1791 \r\nQ 2906 2416 2648 2759 \r\nQ 2391 3103 1925 3103 \r\nQ 1463 3103 1205 2759 \r\nQ 947 2416 947 1791 \r\nQ 947 1169 1205 825 \r\nQ 1463 481 1925 481 \r\nQ 2391 481 2648 825 \r\nQ 2906 1169 2906 1791 \r\nz\r\nM 3481 434 \r\nQ 3481 -459 3084 -895 \r\nQ 2688 -1331 1869 -1331 \r\nQ 1566 -1331 1297 -1286 \r\nQ 1028 -1241 775 -1147 \r\nL 775 -588 \r\nQ 1028 -725 1275 -790 \r\nQ 1522 -856 1778 -856 \r\nQ 2344 -856 2625 -561 \r\nQ 2906 -266 2906 331 \r\nL 2906 616 \r\nQ 2728 306 2450 153 \r\nQ 2172 0 1784 0 \r\nQ 1141 0 747 490 \r\nQ 353 981 353 1791 \r\nQ 353 2603 747 3093 \r\nQ 1141 3584 1784 3584 \r\nQ 2172 3584 2450 3431 \r\nQ 2728 3278 2906 2969 \r\nL 2906 3500 \r\nL 3481 3500 \r\nL 3481 434 \r\nz\r\n\" id=\"DejaVuSans-67\" transform=\"scale(0.015625)\"/>\r\n       <path d=\"M 3597 1894 \r\nL 3597 1613 \r\nL 953 1613 \r\nQ 991 1019 1311 708 \r\nQ 1631 397 2203 397 \r\nQ 2534 397 2845 478 \r\nQ 3156 559 3463 722 \r\nL 3463 178 \r\nQ 3153 47 2828 -22 \r\nQ 2503 -91 2169 -91 \r\nQ 1331 -91 842 396 \r\nQ 353 884 353 1716 \r\nQ 353 2575 817 3079 \r\nQ 1281 3584 2069 3584 \r\nQ 2775 3584 3186 3129 \r\nQ 3597 2675 3597 1894 \r\nz\r\nM 3022 2063 \r\nQ 3016 2534 2758 2815 \r\nQ 2500 3097 2075 3097 \r\nQ 1594 3097 1305 2825 \r\nQ 1016 2553 972 2059 \r\nL 3022 2063 \r\nz\r\n\" id=\"DejaVuSans-65\" transform=\"scale(0.015625)\"/>\r\n       <path d=\"M 2631 2963 \r\nQ 2534 3019 2420 3045 \r\nQ 2306 3072 2169 3072 \r\nQ 1681 3072 1420 2755 \r\nQ 1159 2438 1159 1844 \r\nL 1159 0 \r\nL 581 0 \r\nL 581 3500 \r\nL 1159 3500 \r\nL 1159 2956 \r\nQ 1341 3275 1631 3429 \r\nQ 1922 3584 2338 3584 \r\nQ 2397 3584 2469 3576 \r\nQ 2541 3569 2628 3553 \r\nL 2631 2963 \r\nz\r\n\" id=\"DejaVuSans-72\" transform=\"scale(0.015625)\"/>\r\n       <path d=\"M 628 4666 \r\nL 1259 4666 \r\nL 1259 0 \r\nL 628 0 \r\nL 628 4666 \r\nz\r\n\" id=\"DejaVuSans-49\" transform=\"scale(0.015625)\"/>\r\n       <path d=\"M 1259 4147 \r\nL 1259 519 \r\nL 2022 519 \r\nQ 2988 519 3436 956 \r\nQ 3884 1394 3884 2338 \r\nQ 3884 3275 3436 3711 \r\nQ 2988 4147 2022 4147 \r\nL 1259 4147 \r\nz\r\nM 628 4666 \r\nL 1925 4666 \r\nQ 3281 4666 3915 4102 \r\nQ 4550 3538 4550 2338 \r\nQ 4550 1131 3912 565 \r\nQ 3275 0 1925 0 \r\nL 628 0 \r\nL 628 4666 \r\nz\r\n\" id=\"DejaVuSans-44\" transform=\"scale(0.015625)\"/>\r\n      </defs>\r\n      <use xlink:href=\"#DejaVuSans-4d\"/>\r\n      <use x=\"86.279297\" xlink:href=\"#DejaVuSans-61\"/>\r\n      <use x=\"147.558594\" xlink:href=\"#DejaVuSans-6e\"/>\r\n      <use x=\"210.9375\" xlink:href=\"#DejaVuSans-61\"/>\r\n      <use x=\"272.216797\" xlink:href=\"#DejaVuSans-67\"/>\r\n      <use x=\"335.693359\" xlink:href=\"#DejaVuSans-65\"/>\r\n      <use x=\"397.216797\" xlink:href=\"#DejaVuSans-72\"/>\r\n      <use x=\"438.330078\" xlink:href=\"#DejaVuSans-49\"/>\r\n      <use x=\"467.822266\" xlink:href=\"#DejaVuSans-44\"/>\r\n     </g>\r\n    </g>\r\n   </g>\r\n   <g id=\"matplotlib.axis_2\">\r\n    <g id=\"ytick_1\">\r\n     <g id=\"line2d_10\">\r\n      <defs>\r\n       <path d=\"M 0 0 \r\nL -3.5 0 \r\n\" id=\"mf6abdb2510\" style=\"stroke:#000000;stroke-width:0.8;\"/>\r\n      </defs>\r\n      <g>\r\n       <use style=\"stroke:#000000;stroke-width:0.8;\" x=\"26.925\" xlink:href=\"#mf6abdb2510\" y=\"224.64\"/>\r\n      </g>\r\n     </g>\r\n     <g id=\"text_11\">\r\n      <!-- 0 -->\r\n      <g transform=\"translate(13.5625 228.439219)scale(0.1 -0.1)\">\r\n       <use xlink:href=\"#DejaVuSans-30\"/>\r\n      </g>\r\n     </g>\r\n    </g>\r\n    <g id=\"ytick_2\">\r\n     <g id=\"line2d_11\">\r\n      <g>\r\n       <use style=\"stroke:#000000;stroke-width:0.8;\" x=\"26.925\" xlink:href=\"#mf6abdb2510\" y=\"177.575065\"/>\r\n      </g>\r\n     </g>\r\n     <g id=\"text_12\">\r\n      <!-- 5 -->\r\n      <g transform=\"translate(13.5625 181.374284)scale(0.1 -0.1)\">\r\n       <use xlink:href=\"#DejaVuSans-35\"/>\r\n      </g>\r\n     </g>\r\n    </g>\r\n    <g id=\"ytick_3\">\r\n     <g id=\"line2d_12\">\r\n      <g>\r\n       <use style=\"stroke:#000000;stroke-width:0.8;\" x=\"26.925\" xlink:href=\"#mf6abdb2510\" y=\"130.51013\"/>\r\n      </g>\r\n     </g>\r\n     <g id=\"text_13\">\r\n      <!-- 10 -->\r\n      <g transform=\"translate(7.2 134.309349)scale(0.1 -0.1)\">\r\n       <use xlink:href=\"#DejaVuSans-31\"/>\r\n       <use x=\"63.623047\" xlink:href=\"#DejaVuSans-30\"/>\r\n      </g>\r\n     </g>\r\n    </g>\r\n    <g id=\"ytick_4\">\r\n     <g id=\"line2d_13\">\r\n      <g>\r\n       <use style=\"stroke:#000000;stroke-width:0.8;\" x=\"26.925\" xlink:href=\"#mf6abdb2510\" y=\"83.445195\"/>\r\n      </g>\r\n     </g>\r\n     <g id=\"text_14\">\r\n      <!-- 15 -->\r\n      <g transform=\"translate(7.2 87.244414)scale(0.1 -0.1)\">\r\n       <use xlink:href=\"#DejaVuSans-31\"/>\r\n       <use x=\"63.623047\" xlink:href=\"#DejaVuSans-35\"/>\r\n      </g>\r\n     </g>\r\n    </g>\r\n    <g id=\"ytick_5\">\r\n     <g id=\"line2d_14\">\r\n      <g>\r\n       <use style=\"stroke:#000000;stroke-width:0.8;\" x=\"26.925\" xlink:href=\"#mf6abdb2510\" y=\"36.38026\"/>\r\n      </g>\r\n     </g>\r\n     <g id=\"text_15\">\r\n      <!-- 20 -->\r\n      <g transform=\"translate(7.2 40.179478)scale(0.1 -0.1)\">\r\n       <use xlink:href=\"#DejaVuSans-32\"/>\r\n       <use x=\"63.623047\" xlink:href=\"#DejaVuSans-30\"/>\r\n      </g>\r\n     </g>\r\n    </g>\r\n   </g>\r\n   <g id=\"patch_103\">\r\n    <path d=\"M 26.925 224.64 \r\nL 26.925 7.2 \r\n\" style=\"fill:none;stroke:#000000;stroke-linecap:square;stroke-linejoin:miter;stroke-width:0.8;\"/>\r\n   </g>\r\n   <g id=\"patch_104\">\r\n    <path d=\"M 361.725 224.64 \r\nL 361.725 7.2 \r\n\" style=\"fill:none;stroke:#000000;stroke-linecap:square;stroke-linejoin:miter;stroke-width:0.8;\"/>\r\n   </g>\r\n   <g id=\"patch_105\">\r\n    <path d=\"M 26.925 224.64 \r\nL 361.725 224.64 \r\n\" style=\"fill:none;stroke:#000000;stroke-linecap:square;stroke-linejoin:miter;stroke-width:0.8;\"/>\r\n   </g>\r\n   <g id=\"patch_106\">\r\n    <path d=\"M 26.925 7.2 \r\nL 361.725 7.2 \r\n\" style=\"fill:none;stroke:#000000;stroke-linecap:square;stroke-linejoin:miter;stroke-width:0.8;\"/>\r\n   </g>\r\n  </g>\r\n </g>\r\n <defs>\r\n  <clipPath id=\"pbb1927e9f9\">\r\n   <rect height=\"217.44\" width=\"334.8\" x=\"26.925\" y=\"7.2\"/>\r\n  </clipPath>\r\n </defs>\r\n</svg>\r\n",
      "image/png": "[encoded data removed]"
     },
     "metadata": {
      "needs_background": "light"
     }
    }
   ],
   "source": [
    "for key in mass2:\n",
    "    plt.hist(data[key[0]], 100)\n",
    "    plt.xlabel(key[0])\n",
    "    plt.show()"
   ]
  },
  {
   "source": [
    "# SimpleImputer"
   ],
   "cell_type": "markdown",
   "metadata": {}
  },
  {
   "cell_type": "code",
   "execution_count": 15,
   "metadata": {},
   "outputs": [],
   "source": [
    "from sklearn.impute import SimpleImputer\n",
    "from sklearn.impute import MissingIndicator"
   ]
  },
  {
   "cell_type": "code",
   "execution_count": 16,
   "metadata": {},
   "outputs": [
    {
     "output_type": "execute_result",
     "data": {
      "text/plain": [
       "   MarriedID\n",
       "0        0.0\n",
       "1        NaN\n",
       "2        NaN\n",
       "3        1.0\n",
       "4        0.0"
      ],
      "text/html": "<div>\n<style scoped>\n    .dataframe tbody tr th:only-of-type {\n        vertical-align: middle;\n    }\n\n    .dataframe tbody tr th {\n        vertical-align: top;\n    }\n\n    .dataframe thead th {\n        text-align: right;\n    }\n</style>\n<table border=\"1\" class=\"dataframe\">\n  <thead>\n    <tr style=\"text-align: right;\">\n      <th></th>\n      <th>MarriedID</th>\n    </tr>\n  </thead>\n  <tbody>\n    <tr>\n      <th>0</th>\n      <td>0.0</td>\n    </tr>\n    <tr>\n      <th>1</th>\n      <td>NaN</td>\n    </tr>\n    <tr>\n      <th>2</th>\n      <td>NaN</td>\n    </tr>\n    <tr>\n      <th>3</th>\n      <td>1.0</td>\n    </tr>\n    <tr>\n      <th>4</th>\n      <td>0.0</td>\n    </tr>\n  </tbody>\n</table>\n</div>"
     },
     "metadata": {},
     "execution_count": 16
    }
   ],
   "source": [
    "sort_null_data = data[data_num]\n",
    "data_MarriedID = sort_null_data[['MarriedID']]\n",
    "data_MarriedID.head()"
   ]
  },
  {
   "cell_type": "code",
   "execution_count": 17,
   "metadata": {},
   "outputs": [
    {
     "output_type": "execute_result",
     "data": {
      "text/plain": [
       "array([[False],\n",
       "       [ True],\n",
       "       [ True],\n",
       "       [False],\n",
       "       [False],\n",
       "       [False],\n",
       "       [False],\n",
       "       [False],\n",
       "       [False],\n",
       "       [ True],\n",
       "       [False],\n",
       "       [False],\n",
       "       [False],\n",
       "       [False],\n",
       "       [False],\n",
       "       [False],\n",
       "       [False],\n",
       "       [False],\n",
       "       [False],\n",
       "       [False],\n",
       "       [False],\n",
       "       [False],\n",
       "       [False],\n",
       "       [False],\n",
       "       [False],\n",
       "       [False],\n",
       "       [False],\n",
       "       [False],\n",
       "       [False],\n",
       "       [False],\n",
       "       [False],\n",
       "       [False],\n",
       "       [False],\n",
       "       [False],\n",
       "       [False],\n",
       "       [False],\n",
       "       [False],\n",
       "       [False],\n",
       "       [False],\n",
       "       [False],\n",
       "       [False],\n",
       "       [False],\n",
       "       [False],\n",
       "       [False],\n",
       "       [False],\n",
       "       [ True],\n",
       "       [False],\n",
       "       [False],\n",
       "       [False],\n",
       "       [False],\n",
       "       [False],\n",
       "       [False],\n",
       "       [False],\n",
       "       [False],\n",
       "       [False],\n",
       "       [False],\n",
       "       [False],\n",
       "       [False],\n",
       "       [False],\n",
       "       [False],\n",
       "       [ True],\n",
       "       [False],\n",
       "       [False],\n",
       "       [False],\n",
       "       [False],\n",
       "       [False],\n",
       "       [False],\n",
       "       [False],\n",
       "       [False],\n",
       "       [False],\n",
       "       [ True],\n",
       "       [False],\n",
       "       [False],\n",
       "       [False],\n",
       "       [False],\n",
       "       [False],\n",
       "       [False],\n",
       "       [False],\n",
       "       [False],\n",
       "       [False],\n",
       "       [False],\n",
       "       [False],\n",
       "       [False],\n",
       "       [ True],\n",
       "       [False],\n",
       "       [False],\n",
       "       [False],\n",
       "       [False],\n",
       "       [False],\n",
       "       [False],\n",
       "       [False],\n",
       "       [ True],\n",
       "       [False],\n",
       "       [False],\n",
       "       [False],\n",
       "       [False],\n",
       "       [False],\n",
       "       [False],\n",
       "       [False],\n",
       "       [ True],\n",
       "       [False],\n",
       "       [False],\n",
       "       [False],\n",
       "       [ True],\n",
       "       [False],\n",
       "       [False],\n",
       "       [False],\n",
       "       [ True],\n",
       "       [False],\n",
       "       [False],\n",
       "       [False],\n",
       "       [False],\n",
       "       [False],\n",
       "       [False],\n",
       "       [False],\n",
       "       [False],\n",
       "       [False],\n",
       "       [False],\n",
       "       [False],\n",
       "       [False],\n",
       "       [False],\n",
       "       [False],\n",
       "       [False],\n",
       "       [False],\n",
       "       [False],\n",
       "       [False],\n",
       "       [False],\n",
       "       [False],\n",
       "       [False],\n",
       "       [False],\n",
       "       [False],\n",
       "       [False],\n",
       "       [False],\n",
       "       [False],\n",
       "       [False],\n",
       "       [False],\n",
       "       [False],\n",
       "       [False],\n",
       "       [False],\n",
       "       [False],\n",
       "       [False],\n",
       "       [False],\n",
       "       [ True],\n",
       "       [False],\n",
       "       [False],\n",
       "       [False],\n",
       "       [False],\n",
       "       [False],\n",
       "       [False],\n",
       "       [False],\n",
       "       [False],\n",
       "       [False],\n",
       "       [False],\n",
       "       [False],\n",
       "       [False],\n",
       "       [False],\n",
       "       [False],\n",
       "       [False],\n",
       "       [False],\n",
       "       [False],\n",
       "       [False],\n",
       "       [False],\n",
       "       [False],\n",
       "       [False],\n",
       "       [False],\n",
       "       [False],\n",
       "       [False],\n",
       "       [False],\n",
       "       [ True],\n",
       "       [False],\n",
       "       [False],\n",
       "       [False],\n",
       "       [False],\n",
       "       [False],\n",
       "       [False],\n",
       "       [False],\n",
       "       [False],\n",
       "       [False],\n",
       "       [False],\n",
       "       [False],\n",
       "       [False],\n",
       "       [False],\n",
       "       [False],\n",
       "       [False],\n",
       "       [False],\n",
       "       [False],\n",
       "       [False],\n",
       "       [False],\n",
       "       [False],\n",
       "       [False],\n",
       "       [False],\n",
       "       [False],\n",
       "       [False],\n",
       "       [False],\n",
       "       [ True],\n",
       "       [False],\n",
       "       [False],\n",
       "       [False],\n",
       "       [False],\n",
       "       [False],\n",
       "       [False],\n",
       "       [False],\n",
       "       [False],\n",
       "       [False],\n",
       "       [False],\n",
       "       [False],\n",
       "       [False],\n",
       "       [False],\n",
       "       [False],\n",
       "       [False],\n",
       "       [False],\n",
       "       [False],\n",
       "       [ True],\n",
       "       [False],\n",
       "       [False],\n",
       "       [False],\n",
       "       [False],\n",
       "       [False],\n",
       "       [False],\n",
       "       [False],\n",
       "       [False],\n",
       "       [False],\n",
       "       [False],\n",
       "       [False],\n",
       "       [False],\n",
       "       [False],\n",
       "       [False],\n",
       "       [False],\n",
       "       [False],\n",
       "       [ True],\n",
       "       [False],\n",
       "       [False],\n",
       "       [False],\n",
       "       [False],\n",
       "       [False],\n",
       "       [False],\n",
       "       [False],\n",
       "       [False],\n",
       "       [False],\n",
       "       [False],\n",
       "       [False],\n",
       "       [False],\n",
       "       [False],\n",
       "       [False],\n",
       "       [False],\n",
       "       [False],\n",
       "       [False],\n",
       "       [False],\n",
       "       [False],\n",
       "       [False],\n",
       "       [False],\n",
       "       [False],\n",
       "       [False],\n",
       "       [ True],\n",
       "       [False],\n",
       "       [False],\n",
       "       [False],\n",
       "       [False],\n",
       "       [False],\n",
       "       [False],\n",
       "       [False],\n",
       "       [False],\n",
       "       [False],\n",
       "       [False],\n",
       "       [False],\n",
       "       [False],\n",
       "       [False],\n",
       "       [False],\n",
       "       [False],\n",
       "       [False],\n",
       "       [ True],\n",
       "       [False],\n",
       "       [False],\n",
       "       [False],\n",
       "       [False],\n",
       "       [False],\n",
       "       [False],\n",
       "       [False],\n",
       "       [False],\n",
       "       [False],\n",
       "       [False],\n",
       "       [False],\n",
       "       [False],\n",
       "       [False],\n",
       "       [False],\n",
       "       [False],\n",
       "       [False],\n",
       "       [False],\n",
       "       [ True],\n",
       "       [False],\n",
       "       [False],\n",
       "       [False],\n",
       "       [False],\n",
       "       [False],\n",
       "       [False],\n",
       "       [False],\n",
       "       [False],\n",
       "       [False],\n",
       "       [False],\n",
       "       [False],\n",
       "       [False],\n",
       "       [False],\n",
       "       [False],\n",
       "       [False],\n",
       "       [ True],\n",
       "       [False],\n",
       "       [False],\n",
       "       [False],\n",
       "       [False],\n",
       "       [False],\n",
       "       [False]])"
      ]
     },
     "metadata": {},
     "execution_count": 17
    }
   ],
   "source": [
    "implicator = MissingIndicator()\n",
    "values = implicator.fit_transform(data_MarriedID)\n",
    "values"
   ]
  },
  {
   "cell_type": "code",
   "execution_count": 18,
   "metadata": {},
   "outputs": [],
   "source": [
    "strategies = ['mean', 'median', 'most_frequent']"
   ]
  },
  {
   "cell_type": "code",
   "execution_count": 19,
   "metadata": {},
   "outputs": [],
   "source": [
    "def test_num_impute(strategy_param):\n",
    "    imp_num = SimpleImputer(strategy=strategy_param)\n",
    "    data_num_imp = imp_num.fit_transform(data_MarriedID)\n",
    "    return data_num_imp[values]"
   ]
  },
  {
   "cell_type": "code",
   "execution_count": 20,
   "metadata": {},
   "outputs": [
    {
     "output_type": "execute_result",
     "data": {
      "text/plain": [
       "('mean',\n",
       " array([0.40549828, 0.40549828, 0.40549828, 0.40549828, 0.40549828,\n",
       "        0.40549828, 0.40549828, 0.40549828, 0.40549828, 0.40549828,\n",
       "        0.40549828, 0.40549828, 0.40549828, 0.40549828, 0.40549828,\n",
       "        0.40549828, 0.40549828, 0.40549828, 0.40549828, 0.40549828]))"
      ]
     },
     "metadata": {},
     "execution_count": 20
    }
   ],
   "source": [
    "strategies[0], test_num_impute(strategies[0])"
   ]
  },
  {
   "cell_type": "code",
   "execution_count": 21,
   "metadata": {},
   "outputs": [
    {
     "output_type": "execute_result",
     "data": {
      "text/plain": [
       "('median',\n",
       " array([0., 0., 0., 0., 0., 0., 0., 0., 0., 0., 0., 0., 0., 0., 0., 0., 0.,\n",
       "        0., 0., 0.]))"
      ]
     },
     "metadata": {},
     "execution_count": 21
    }
   ],
   "source": [
    "strategies[1], test_num_impute(strategies[1])"
   ]
  },
  {
   "cell_type": "code",
   "execution_count": 22,
   "metadata": {},
   "outputs": [
    {
     "output_type": "execute_result",
     "data": {
      "text/plain": [
       "('most_frequent',\n",
       " array([0., 0., 0., 0., 0., 0., 0., 0., 0., 0., 0., 0., 0., 0., 0., 0., 0.,\n",
       "        0., 0., 0.]))"
      ]
     },
     "metadata": {},
     "execution_count": 22
    }
   ],
   "source": [
    "strategies[2], test_num_impute(strategies[2])"
   ]
  },
  {
   "source": [
    "# Обработка категориальных признаков"
   ],
   "cell_type": "markdown",
   "metadata": {}
  },
  {
   "cell_type": "code",
   "execution_count": 24,
   "metadata": {},
   "outputs": [
    {
     "output_type": "stream",
     "name": "stdout",
     "text": [
      "RaceDesc - object - (20) 6.43087%\nDateofTermination - object - (207) 66.55949%\nTermReason - object - (207) 66.55949%\n"
     ]
    }
   ],
   "source": [
    "for key in mass3:\n",
    "    print(\"{} - {} - ({}) {}%\".format(key[0], key[1], key[2], key[3]))"
   ]
  },
  {
   "cell_type": "code",
   "execution_count": 25,
   "metadata": {},
   "outputs": [
    {
     "output_type": "execute_result",
     "data": {
      "text/plain": [
       "  RaceDesc\n",
       "0    White\n",
       "1      NaN\n",
       "2    White\n",
       "3    White\n",
       "4    White"
      ],
      "text/html": "<div>\n<style scoped>\n    .dataframe tbody tr th:only-of-type {\n        vertical-align: middle;\n    }\n\n    .dataframe tbody tr th {\n        vertical-align: top;\n    }\n\n    .dataframe thead th {\n        text-align: right;\n    }\n</style>\n<table border=\"1\" class=\"dataframe\">\n  <thead>\n    <tr style=\"text-align: right;\">\n      <th></th>\n      <th>RaceDesc</th>\n    </tr>\n  </thead>\n  <tbody>\n    <tr>\n      <th>0</th>\n      <td>White</td>\n    </tr>\n    <tr>\n      <th>1</th>\n      <td>NaN</td>\n    </tr>\n    <tr>\n      <th>2</th>\n      <td>White</td>\n    </tr>\n    <tr>\n      <th>3</th>\n      <td>White</td>\n    </tr>\n    <tr>\n      <th>4</th>\n      <td>White</td>\n    </tr>\n  </tbody>\n</table>\n</div>"
     },
     "metadata": {},
     "execution_count": 25
    }
   ],
   "source": [
    "sort_null_data_obj = data[data_num_obj]\n",
    "data_RaceDesc = sort_null_data_obj[['RaceDesc']]\n",
    "data_RaceDesc.head()"
   ]
  },
  {
   "cell_type": "code",
   "execution_count": 26,
   "metadata": {},
   "outputs": [
    {
     "output_type": "execute_result",
     "data": {
      "text/plain": [
       "array([['White'],\n",
       "       ['NA'],\n",
       "       ['White'],\n",
       "       ['White'],\n",
       "       ['White'],\n",
       "       ['White'],\n",
       "       ['White'],\n",
       "       ['NA'],\n",
       "       ['Black or African American'],\n",
       "       ['White'],\n",
       "       ['Black or African American'],\n",
       "       ['Black or African American'],\n",
       "       ['Black or African American'],\n",
       "       ['Two or more races'],\n",
       "       ['White'],\n",
       "       ['White'],\n",
       "       ['White'],\n",
       "       ['White'],\n",
       "       ['White'],\n",
       "       ['NA'],\n",
       "       ['White'],\n",
       "       ['Asian'],\n",
       "       ['White'],\n",
       "       ['NA'],\n",
       "       ['White'],\n",
       "       ['Black or African American'],\n",
       "       ['NA'],\n",
       "       ['Asian'],\n",
       "       ['White'],\n",
       "       ['Black or African American'],\n",
       "       ['White'],\n",
       "       ['Black or African American'],\n",
       "       ['Black or African American'],\n",
       "       ['Black or African American'],\n",
       "       ['White'],\n",
       "       ['White'],\n",
       "       ['White'],\n",
       "       ['White'],\n",
       "       ['Black or African American'],\n",
       "       ['Black or African American'],\n",
       "       ['White'],\n",
       "       ['White'],\n",
       "       ['White'],\n",
       "       ['White'],\n",
       "       ['White'],\n",
       "       ['Black or African American'],\n",
       "       ['White'],\n",
       "       ['Black or African American'],\n",
       "       ['White'],\n",
       "       ['White'],\n",
       "       ['White'],\n",
       "       ['White'],\n",
       "       ['White'],\n",
       "       ['Black or African American'],\n",
       "       ['White'],\n",
       "       ['NA'],\n",
       "       ['White'],\n",
       "       ['White'],\n",
       "       ['White'],\n",
       "       ['White'],\n",
       "       ['White'],\n",
       "       ['White'],\n",
       "       ['White'],\n",
       "       ['Two or more races'],\n",
       "       ['White'],\n",
       "       ['White'],\n",
       "       ['Black or African American'],\n",
       "       ['Two or more races'],\n",
       "       ['NA'],\n",
       "       ['White'],\n",
       "       ['White'],\n",
       "       ['White'],\n",
       "       ['White'],\n",
       "       ['Black or African American'],\n",
       "       ['White'],\n",
       "       ['White'],\n",
       "       ['Black or African American'],\n",
       "       ['White'],\n",
       "       ['White'],\n",
       "       ['White'],\n",
       "       ['White'],\n",
       "       ['White'],\n",
       "       ['White'],\n",
       "       ['White'],\n",
       "       ['White'],\n",
       "       ['White'],\n",
       "       ['NA'],\n",
       "       ['Black or African American'],\n",
       "       ['Black or African American'],\n",
       "       ['White'],\n",
       "       ['White'],\n",
       "       ['White'],\n",
       "       ['White'],\n",
       "       ['White'],\n",
       "       ['White'],\n",
       "       ['White'],\n",
       "       ['Black or African American'],\n",
       "       ['White'],\n",
       "       ['Black or African American'],\n",
       "       ['White'],\n",
       "       ['White'],\n",
       "       ['Black or African American'],\n",
       "       ['Black or African American'],\n",
       "       ['Black or African American'],\n",
       "       ['Black or African American'],\n",
       "       ['Black or African American'],\n",
       "       ['Two or more races'],\n",
       "       ['White'],\n",
       "       ['White'],\n",
       "       ['White'],\n",
       "       ['White'],\n",
       "       ['Black or African American'],\n",
       "       ['Black or African American'],\n",
       "       ['White'],\n",
       "       ['White'],\n",
       "       ['White'],\n",
       "       ['NA'],\n",
       "       ['Asian'],\n",
       "       ['White'],\n",
       "       ['White'],\n",
       "       ['Black or African American'],\n",
       "       ['Two or more races'],\n",
       "       ['White'],\n",
       "       ['White'],\n",
       "       ['White'],\n",
       "       ['White'],\n",
       "       ['White'],\n",
       "       ['White'],\n",
       "       ['American Indian or Alaska Native'],\n",
       "       ['White'],\n",
       "       ['White'],\n",
       "       ['White'],\n",
       "       ['Black or African American'],\n",
       "       ['White'],\n",
       "       ['White'],\n",
       "       ['White'],\n",
       "       ['White'],\n",
       "       ['Asian'],\n",
       "       ['White'],\n",
       "       ['Black or African American'],\n",
       "       ['White'],\n",
       "       ['American Indian or Alaska Native'],\n",
       "       ['White'],\n",
       "       ['White'],\n",
       "       ['Asian'],\n",
       "       ['White'],\n",
       "       ['Black or African American'],\n",
       "       ['White'],\n",
       "       ['White'],\n",
       "       ['White'],\n",
       "       ['White'],\n",
       "       ['White'],\n",
       "       ['White'],\n",
       "       ['Black or African American'],\n",
       "       ['Asian'],\n",
       "       ['Black or African American'],\n",
       "       ['White'],\n",
       "       ['White'],\n",
       "       ['Asian'],\n",
       "       ['White'],\n",
       "       ['Black or African American'],\n",
       "       ['White'],\n",
       "       ['Asian'],\n",
       "       ['Asian'],\n",
       "       ['White'],\n",
       "       ['Asian'],\n",
       "       ['Black or African American'],\n",
       "       ['White'],\n",
       "       ['White'],\n",
       "       ['White'],\n",
       "       ['Black or African American'],\n",
       "       ['White'],\n",
       "       ['Black or African American'],\n",
       "       ['Black or African American'],\n",
       "       ['Black or African American'],\n",
       "       ['White'],\n",
       "       ['White'],\n",
       "       ['White'],\n",
       "       ['Two or more races'],\n",
       "       ['White'],\n",
       "       ['Asian'],\n",
       "       ['White'],\n",
       "       ['Black or African American'],\n",
       "       ['Black or African American'],\n",
       "       ['Two or more races'],\n",
       "       ['Black or African American'],\n",
       "       ['White'],\n",
       "       ['Hispanic'],\n",
       "       ['NA'],\n",
       "       ['White'],\n",
       "       ['Black or African American'],\n",
       "       ['Black or African American'],\n",
       "       ['Black or African American'],\n",
       "       ['White'],\n",
       "       ['White'],\n",
       "       ['Black or African American'],\n",
       "       ['Asian'],\n",
       "       ['Asian'],\n",
       "       ['Black or African American'],\n",
       "       ['White'],\n",
       "       ['White'],\n",
       "       ['Black or African American'],\n",
       "       ['Two or more races'],\n",
       "       ['White'],\n",
       "       ['White'],\n",
       "       ['Two or more races'],\n",
       "       ['Asian'],\n",
       "       ['White'],\n",
       "       ['White'],\n",
       "       ['Black or African American'],\n",
       "       ['White'],\n",
       "       ['White'],\n",
       "       ['Black or African American'],\n",
       "       ['White'],\n",
       "       ['Black or African American'],\n",
       "       ['Asian'],\n",
       "       ['White'],\n",
       "       ['White'],\n",
       "       ['White'],\n",
       "       ['Asian'],\n",
       "       ['NA'],\n",
       "       ['Asian'],\n",
       "       ['NA'],\n",
       "       ['Black or African American'],\n",
       "       ['Asian'],\n",
       "       ['White'],\n",
       "       ['NA'],\n",
       "       ['Black or African American'],\n",
       "       ['Black or African American'],\n",
       "       ['White'],\n",
       "       ['White'],\n",
       "       ['NA'],\n",
       "       ['Asian'],\n",
       "       ['NA'],\n",
       "       ['White'],\n",
       "       ['Black or African American'],\n",
       "       ['White'],\n",
       "       ['White'],\n",
       "       ['White'],\n",
       "       ['White'],\n",
       "       ['Black or African American'],\n",
       "       ['White'],\n",
       "       ['White'],\n",
       "       ['White'],\n",
       "       ['Black or African American'],\n",
       "       ['White'],\n",
       "       ['NA'],\n",
       "       ['White'],\n",
       "       ['White'],\n",
       "       ['Black or African American'],\n",
       "       ['Black or African American'],\n",
       "       ['Asian'],\n",
       "       ['White'],\n",
       "       ['White'],\n",
       "       ['White'],\n",
       "       ['White'],\n",
       "       ['White'],\n",
       "       ['White'],\n",
       "       ['Black or African American'],\n",
       "       ['Black or African American'],\n",
       "       ['White'],\n",
       "       ['Black or African American'],\n",
       "       ['Asian'],\n",
       "       ['White'],\n",
       "       ['White'],\n",
       "       ['White'],\n",
       "       ['Two or more races'],\n",
       "       ['White'],\n",
       "       ['White'],\n",
       "       ['Asian'],\n",
       "       ['NA'],\n",
       "       ['Black or African American'],\n",
       "       ['White'],\n",
       "       ['Asian'],\n",
       "       ['White'],\n",
       "       ['White'],\n",
       "       ['Black or African American'],\n",
       "       ['White'],\n",
       "       ['Black or African American'],\n",
       "       ['White'],\n",
       "       ['White'],\n",
       "       ['Black or African American'],\n",
       "       ['White'],\n",
       "       ['White'],\n",
       "       ['White'],\n",
       "       ['Black or African American'],\n",
       "       ['White'],\n",
       "       ['White'],\n",
       "       ['Two or more races'],\n",
       "       ['White'],\n",
       "       ['White'],\n",
       "       ['Asian'],\n",
       "       ['NA'],\n",
       "       ['White'],\n",
       "       ['White'],\n",
       "       ['Black or African American'],\n",
       "       ['Black or African American'],\n",
       "       ['White'],\n",
       "       ['Asian'],\n",
       "       ['Asian'],\n",
       "       ['White'],\n",
       "       ['White'],\n",
       "       ['White'],\n",
       "       ['NA'],\n",
       "       ['White'],\n",
       "       ['White'],\n",
       "       ['White'],\n",
       "       ['NA'],\n",
       "       ['White'],\n",
       "       ['White'],\n",
       "       ['Asian']], dtype=object)"
      ]
     },
     "metadata": {},
     "execution_count": 26
    }
   ],
   "source": [
    "implicator = SimpleImputer(missing_values=np.nan, strategy='constant', fill_value='NA')\n",
    "RaceDesc_values = implicator.fit_transform(data_RaceDesc)\n",
    "RaceDesc_values"
   ]
  },
  {
   "cell_type": "code",
   "execution_count": 27,
   "metadata": {},
   "outputs": [
    {
     "output_type": "execute_result",
     "data": {
      "text/plain": [
       "array(['American Indian or Alaska Native', 'Asian',\n",
       "       'Black or African American', 'Hispanic', 'NA', 'Two or more races',\n",
       "       'White'], dtype=object)"
      ]
     },
     "metadata": {},
     "execution_count": 27
    }
   ],
   "source": [
    "np.unique(RaceDesc_values)"
   ]
  },
  {
   "source": [
    "# Кодирование категориальных признаков"
   ],
   "cell_type": "markdown",
   "metadata": {}
  },
  {
   "cell_type": "code",
   "execution_count": 30,
   "metadata": {},
   "outputs": [],
   "source": [
    "data_frame = pd.DataFrame({'RaceDesc': RaceDesc_values.T[0]})"
   ]
  },
  {
   "cell_type": "code",
   "execution_count": 31,
   "metadata": {},
   "outputs": [],
   "source": [
    "from sklearn.preprocessing import LabelEncoder, OneHotEncoder"
   ]
  },
  {
   "cell_type": "code",
   "execution_count": 33,
   "metadata": {},
   "outputs": [],
   "source": [
    "le = LabelEncoder()\n",
    "data_label_en = le.fit_transform(data_frame)"
   ]
  },
  {
   "cell_type": "code",
   "execution_count": 34,
   "metadata": {},
   "outputs": [
    {
     "output_type": "execute_result",
     "data": {
      "text/plain": [
       "array(['White', 'NA', 'Black or African American', 'Two or more races',\n",
       "       'Asian', 'American Indian or Alaska Native', 'Hispanic'],\n",
       "      dtype=object)"
      ]
     },
     "metadata": {},
     "execution_count": 34
    }
   ],
   "source": [
    "data_frame['RaceDesc'].unique()"
   ]
  },
  {
   "cell_type": "code",
   "execution_count": 35,
   "metadata": {},
   "outputs": [
    {
     "output_type": "execute_result",
     "data": {
      "text/plain": [
       "array([6, 4, 6, 6, 6, 6, 6, 4, 2, 6, 2, 2, 2, 5, 6, 6, 6, 6, 6, 4, 6, 1,\n",
       "       6, 4, 6, 2, 4, 1, 6, 2, 6, 2, 2, 2, 6, 6, 6, 6, 2, 2, 6, 6, 6, 6,\n",
       "       6, 2, 6, 2, 6, 6, 6, 6, 6, 2, 6, 4, 6, 6, 6, 6, 6, 6, 6, 5, 6, 6,\n",
       "       2, 5, 4, 6, 6, 6, 6, 2, 6, 6, 2, 6, 6, 6, 6, 6, 6, 6, 6, 6, 4, 2,\n",
       "       2, 6, 6, 6, 6, 6, 6, 6, 2, 6, 2, 6, 6, 2, 2, 2, 2, 2, 5, 6, 6, 6,\n",
       "       6, 2, 2, 6, 6, 6, 4, 1, 6, 6, 2, 5, 6, 6, 6, 6, 6, 6, 0, 6, 6, 6,\n",
       "       2, 6, 6, 6, 6, 1, 6, 2, 6, 0, 6, 6, 1, 6, 2, 6, 6, 6, 6, 6, 6, 2,\n",
       "       1, 2, 6, 6, 1, 6, 2, 6, 1, 1, 6, 1, 2, 6, 6, 6, 2, 6, 2, 2, 2, 6,\n",
       "       6, 6, 5, 6, 1, 6, 2, 2, 5, 2, 6, 3, 4, 6, 2, 2, 2, 6, 6, 2, 1, 1,\n",
       "       2, 6, 6, 2, 5, 6, 6, 5, 1, 6, 6, 2, 6, 6, 2, 6, 2, 1, 6, 6, 6, 1,\n",
       "       4, 1, 4, 2, 1, 6, 4, 2, 2, 6, 6, 4, 1, 4, 6, 2, 6, 6, 6, 6, 2, 6,\n",
       "       6, 6, 2, 6, 4, 6, 6, 2, 2, 1, 6, 6, 6, 6, 6, 6, 2, 2, 6, 2, 1, 6,\n",
       "       6, 6, 5, 6, 6, 1, 4, 2, 6, 1, 6, 6, 2, 6, 2, 6, 6, 2, 6, 6, 6, 2,\n",
       "       6, 6, 5, 6, 6, 1, 4, 6, 6, 2, 2, 6, 1, 1, 6, 6, 6, 4, 6, 6, 6, 4,\n",
       "       6, 6, 1])"
      ]
     },
     "metadata": {},
     "execution_count": 35
    }
   ],
   "source": [
    "data_label_en"
   ]
  },
  {
   "cell_type": "code",
   "execution_count": 36,
   "metadata": {},
   "outputs": [],
   "source": [
    "one = OneHotEncoder()\n",
    "data_label_hot = one.fit_transform(data_frame)"
   ]
  },
  {
   "cell_type": "code",
   "execution_count": 37,
   "metadata": {},
   "outputs": [
    {
     "output_type": "execute_result",
     "data": {
      "text/plain": [
       "<311x7 sparse matrix of type '<class 'numpy.float64'>'\n",
       "\twith 311 stored elements in Compressed Sparse Row format>"
      ]
     },
     "metadata": {},
     "execution_count": 37
    }
   ],
   "source": [
    "data_label_hot"
   ]
  },
  {
   "cell_type": "code",
   "execution_count": 38,
   "metadata": {},
   "outputs": [
    {
     "output_type": "execute_result",
     "data": {
      "text/plain": [
       "matrix([[0., 0., 0., 0., 0., 0., 1.],\n",
       "        [0., 0., 0., 0., 1., 0., 0.],\n",
       "        [0., 0., 0., 0., 0., 0., 1.],\n",
       "        [0., 0., 0., 0., 0., 0., 1.],\n",
       "        [0., 0., 0., 0., 0., 0., 1.],\n",
       "        [0., 0., 0., 0., 0., 0., 1.],\n",
       "        [0., 0., 0., 0., 0., 0., 1.],\n",
       "        [0., 0., 0., 0., 1., 0., 0.],\n",
       "        [0., 0., 1., 0., 0., 0., 0.],\n",
       "        [0., 0., 0., 0., 0., 0., 1.]])"
      ]
     },
     "metadata": {},
     "execution_count": 38
    }
   ],
   "source": [
    "data_label_hot.todense()[0:10]"
   ]
  },
  {
   "cell_type": "code",
   "execution_count": 39,
   "metadata": {},
   "outputs": [
    {
     "output_type": "execute_result",
     "data": {
      "text/plain": [
       "                    RaceDesc\n",
       "0                      White\n",
       "1                         NA\n",
       "2                      White\n",
       "3                      White\n",
       "4                      White\n",
       "5                      White\n",
       "6                      White\n",
       "7                         NA\n",
       "8  Black or African American\n",
       "9                      White"
      ],
      "text/html": "<div>\n<style scoped>\n    .dataframe tbody tr th:only-of-type {\n        vertical-align: middle;\n    }\n\n    .dataframe tbody tr th {\n        vertical-align: top;\n    }\n\n    .dataframe thead th {\n        text-align: right;\n    }\n</style>\n<table border=\"1\" class=\"dataframe\">\n  <thead>\n    <tr style=\"text-align: right;\">\n      <th></th>\n      <th>RaceDesc</th>\n    </tr>\n  </thead>\n  <tbody>\n    <tr>\n      <th>0</th>\n      <td>White</td>\n    </tr>\n    <tr>\n      <th>1</th>\n      <td>NA</td>\n    </tr>\n    <tr>\n      <th>2</th>\n      <td>White</td>\n    </tr>\n    <tr>\n      <th>3</th>\n      <td>White</td>\n    </tr>\n    <tr>\n      <th>4</th>\n      <td>White</td>\n    </tr>\n    <tr>\n      <th>5</th>\n      <td>White</td>\n    </tr>\n    <tr>\n      <th>6</th>\n      <td>White</td>\n    </tr>\n    <tr>\n      <th>7</th>\n      <td>NA</td>\n    </tr>\n    <tr>\n      <th>8</th>\n      <td>Black or African American</td>\n    </tr>\n    <tr>\n      <th>9</th>\n      <td>White</td>\n    </tr>\n  </tbody>\n</table>\n</div>"
     },
     "metadata": {},
     "execution_count": 39
    }
   ],
   "source": [
    "data_frame.head(10)"
   ]
  },
  {
   "source": [
    "### С помощью Pands"
   ],
   "cell_type": "markdown",
   "metadata": {}
  },
  {
   "cell_type": "code",
   "execution_count": 41,
   "metadata": {},
   "outputs": [
    {
     "output_type": "execute_result",
     "data": {
      "text/plain": [
       "   RaceDesc_American Indian or Alaska Native  RaceDesc_Asian  \\\n",
       "0                                          0               0   \n",
       "1                                          0               0   \n",
       "2                                          0               0   \n",
       "3                                          0               0   \n",
       "4                                          0               0   \n",
       "\n",
       "   RaceDesc_Black or African American  RaceDesc_Hispanic  RaceDesc_NA  \\\n",
       "0                                   0                  0            0   \n",
       "1                                   0                  0            1   \n",
       "2                                   0                  0            0   \n",
       "3                                   0                  0            0   \n",
       "4                                   0                  0            0   \n",
       "\n",
       "   RaceDesc_Two or more races  RaceDesc_White  \n",
       "0                           0               1  \n",
       "1                           0               0  \n",
       "2                           0               1  \n",
       "3                           0               1  \n",
       "4                           0               1  "
      ],
      "text/html": "<div>\n<style scoped>\n    .dataframe tbody tr th:only-of-type {\n        vertical-align: middle;\n    }\n\n    .dataframe tbody tr th {\n        vertical-align: top;\n    }\n\n    .dataframe thead th {\n        text-align: right;\n    }\n</style>\n<table border=\"1\" class=\"dataframe\">\n  <thead>\n    <tr style=\"text-align: right;\">\n      <th></th>\n      <th>RaceDesc_American Indian or Alaska Native</th>\n      <th>RaceDesc_Asian</th>\n      <th>RaceDesc_Black or African American</th>\n      <th>RaceDesc_Hispanic</th>\n      <th>RaceDesc_NA</th>\n      <th>RaceDesc_Two or more races</th>\n      <th>RaceDesc_White</th>\n    </tr>\n  </thead>\n  <tbody>\n    <tr>\n      <th>0</th>\n      <td>0</td>\n      <td>0</td>\n      <td>0</td>\n      <td>0</td>\n      <td>0</td>\n      <td>0</td>\n      <td>1</td>\n    </tr>\n    <tr>\n      <th>1</th>\n      <td>0</td>\n      <td>0</td>\n      <td>0</td>\n      <td>0</td>\n      <td>1</td>\n      <td>0</td>\n      <td>0</td>\n    </tr>\n    <tr>\n      <th>2</th>\n      <td>0</td>\n      <td>0</td>\n      <td>0</td>\n      <td>0</td>\n      <td>0</td>\n      <td>0</td>\n      <td>1</td>\n    </tr>\n    <tr>\n      <th>3</th>\n      <td>0</td>\n      <td>0</td>\n      <td>0</td>\n      <td>0</td>\n      <td>0</td>\n      <td>0</td>\n      <td>1</td>\n    </tr>\n    <tr>\n      <th>4</th>\n      <td>0</td>\n      <td>0</td>\n      <td>0</td>\n      <td>0</td>\n      <td>0</td>\n      <td>0</td>\n      <td>1</td>\n    </tr>\n  </tbody>\n</table>\n</div>"
     },
     "metadata": {},
     "execution_count": 41
    }
   ],
   "source": [
    "pd.get_dummies(data_frame).head()"
   ]
  },
  {
   "cell_type": "code",
   "execution_count": 42,
   "metadata": {},
   "outputs": [
    {
     "output_type": "execute_result",
     "data": {
      "text/plain": [
       "   RaceDesc_American Indian or Alaska Native  RaceDesc_Asian  \\\n",
       "0                                          0               0   \n",
       "1                                          0               0   \n",
       "2                                          0               0   \n",
       "3                                          0               0   \n",
       "4                                          0               0   \n",
       "\n",
       "   RaceDesc_Black or African American  RaceDesc_Hispanic  RaceDesc_NA  \\\n",
       "0                                   0                  0            0   \n",
       "1                                   0                  0            1   \n",
       "2                                   0                  0            0   \n",
       "3                                   0                  0            0   \n",
       "4                                   0                  0            0   \n",
       "\n",
       "   RaceDesc_Two or more races  RaceDesc_White  RaceDesc_nan  \n",
       "0                           0               1             0  \n",
       "1                           0               0             0  \n",
       "2                           0               1             0  \n",
       "3                           0               1             0  \n",
       "4                           0               1             0  "
      ],
      "text/html": "<div>\n<style scoped>\n    .dataframe tbody tr th:only-of-type {\n        vertical-align: middle;\n    }\n\n    .dataframe tbody tr th {\n        vertical-align: top;\n    }\n\n    .dataframe thead th {\n        text-align: right;\n    }\n</style>\n<table border=\"1\" class=\"dataframe\">\n  <thead>\n    <tr style=\"text-align: right;\">\n      <th></th>\n      <th>RaceDesc_American Indian or Alaska Native</th>\n      <th>RaceDesc_Asian</th>\n      <th>RaceDesc_Black or African American</th>\n      <th>RaceDesc_Hispanic</th>\n      <th>RaceDesc_NA</th>\n      <th>RaceDesc_Two or more races</th>\n      <th>RaceDesc_White</th>\n      <th>RaceDesc_nan</th>\n    </tr>\n  </thead>\n  <tbody>\n    <tr>\n      <th>0</th>\n      <td>0</td>\n      <td>0</td>\n      <td>0</td>\n      <td>0</td>\n      <td>0</td>\n      <td>0</td>\n      <td>1</td>\n      <td>0</td>\n    </tr>\n    <tr>\n      <th>1</th>\n      <td>0</td>\n      <td>0</td>\n      <td>0</td>\n      <td>0</td>\n      <td>1</td>\n      <td>0</td>\n      <td>0</td>\n      <td>0</td>\n    </tr>\n    <tr>\n      <th>2</th>\n      <td>0</td>\n      <td>0</td>\n      <td>0</td>\n      <td>0</td>\n      <td>0</td>\n      <td>0</td>\n      <td>1</td>\n      <td>0</td>\n    </tr>\n    <tr>\n      <th>3</th>\n      <td>0</td>\n      <td>0</td>\n      <td>0</td>\n      <td>0</td>\n      <td>0</td>\n      <td>0</td>\n      <td>1</td>\n      <td>0</td>\n    </tr>\n    <tr>\n      <th>4</th>\n      <td>0</td>\n      <td>0</td>\n      <td>0</td>\n      <td>0</td>\n      <td>0</td>\n      <td>0</td>\n      <td>1</td>\n      <td>0</td>\n    </tr>\n  </tbody>\n</table>\n</div>"
     },
     "metadata": {},
     "execution_count": 42
    }
   ],
   "source": [
    "pd.get_dummies(data_frame, dummy_na=True).head()"
   ]
  },
  {
   "source": [
    "# Маштабирование данных"
   ],
   "cell_type": "markdown",
   "metadata": {}
  },
  {
   "cell_type": "code",
   "execution_count": 44,
   "metadata": {},
   "outputs": [],
   "source": [
    "from sklearn.preprocessing import MinMaxScaler, StandardScaler, Normalizer"
   ]
  },
  {
   "cell_type": "code",
   "execution_count": 45,
   "metadata": {},
   "outputs": [],
   "source": [
    "sc1 = MinMaxScaler()\n",
    "sc1_data = sc1.fit_transform(data[['Salary']])"
   ]
  },
  {
   "cell_type": "code",
   "execution_count": 46,
   "metadata": {},
   "outputs": [
    {
     "output_type": "display_data",
     "data": {
      "text/plain": "<Figure size 432x288 with 1 Axes>",
      "image/svg+xml": "<?xml version=\"1.0\" encoding=\"utf-8\" standalone=\"no\"?>\r\n<!DOCTYPE svg PUBLIC \"-//W3C//DTD SVG 1.1//EN\"\r\n  \"http://www.w3.org/Graphics/SVG/1.1/DTD/svg11.dtd\">\r\n<svg height=\"248.518125pt\" version=\"1.1\" viewBox=\"0 0 372.794318 248.518125\" width=\"372.794318pt\" xmlns=\"http://www.w3.org/2000/svg\" xmlns:xlink=\"http://www.w3.org/1999/xlink\">\r\n <metadata>\r\n  <rdf:RDF xmlns:cc=\"http://creativecommons.org/ns#\" xmlns:dc=\"http://purl.org/dc/elements/1.1/\" xmlns:rdf=\"http://www.w3.org/1999/02/22-rdf-syntax-ns#\">\r\n   <cc:Work>\r\n    <dc:type rdf:resource=\"http://purl.org/dc/dcmitype/StillImage\"/>\r\n    <dc:date>2021-04-21T14:47:03.966259</dc:date>\r\n    <dc:format>image/svg+xml</dc:format>\r\n    <dc:creator>\r\n     <cc:Agent>\r\n      <dc:title>Matplotlib v3.4.0, https://matplotlib.org/</dc:title>\r\n     </cc:Agent>\r\n    </dc:creator>\r\n   </cc:Work>\r\n  </rdf:RDF>\r\n </metadata>\r\n <defs>\r\n  <style type=\"text/css\">*{stroke-linecap:butt;stroke-linejoin:round;}</style>\r\n </defs>\r\n <g id=\"figure_1\">\r\n  <g id=\"patch_1\">\r\n   <path d=\"M -0 248.518125 \r\nL 372.794318 248.518125 \r\nL 372.794318 0 \r\nL -0 0 \r\nz\r\n\" style=\"fill:none;\"/>\r\n  </g>\r\n  <g id=\"axes_1\">\r\n   <g id=\"patch_2\">\r\n    <path d=\"M 26.925 224.64 \r\nL 361.725 224.64 \r\nL 361.725 7.2 \r\nL 26.925 7.2 \r\nz\r\n\" style=\"fill:#ffffff;\"/>\r\n   </g>\r\n   <g id=\"patch_3\">\r\n    <path clip-path=\"url(#pd90e5746cd)\" d=\"M 42.143182 224.64 \r\nL 45.186818 224.64 \r\nL 45.186818 117.959481 \r\nL 42.143182 117.959481 \r\nz\r\n\" style=\"fill:#1f77b4;\"/>\r\n   </g>\r\n   <g id=\"patch_4\">\r\n    <path clip-path=\"url(#pd90e5746cd)\" d=\"M 45.186818 224.64 \r\nL 48.230455 224.64 \r\nL 48.230455 155.611429 \r\nL 45.186818 155.611429 \r\nz\r\n\" style=\"fill:#1f77b4;\"/>\r\n   </g>\r\n   <g id=\"patch_5\">\r\n    <path clip-path=\"url(#pd90e5746cd)\" d=\"M 48.230455 224.64 \r\nL 51.274091 224.64 \r\nL 51.274091 143.060779 \r\nL 48.230455 143.060779 \r\nz\r\n\" style=\"fill:#1f77b4;\"/>\r\n   </g>\r\n   <g id=\"patch_6\">\r\n    <path clip-path=\"url(#pd90e5746cd)\" d=\"M 51.274091 224.64 \r\nL 54.317727 224.64 \r\nL 54.317727 86.582857 \r\nL 51.274091 86.582857 \r\nz\r\n\" style=\"fill:#1f77b4;\"/>\r\n   </g>\r\n   <g id=\"patch_7\">\r\n    <path clip-path=\"url(#pd90e5746cd)\" d=\"M 54.317727 224.64 \r\nL 57.361364 224.64 \r\nL 57.361364 143.060779 \r\nL 54.317727 143.060779 \r\nz\r\n\" style=\"fill:#1f77b4;\"/>\r\n   </g>\r\n   <g id=\"patch_8\">\r\n    <path clip-path=\"url(#pd90e5746cd)\" d=\"M 57.361364 224.64 \r\nL 60.405 224.64 \r\nL 60.405 136.785455 \r\nL 57.361364 136.785455 \r\nz\r\n\" style=\"fill:#1f77b4;\"/>\r\n   </g>\r\n   <g id=\"patch_9\">\r\n    <path clip-path=\"url(#pd90e5746cd)\" d=\"M 60.405 224.64 \r\nL 63.448636 224.64 \r\nL 63.448636 48.930909 \r\nL 60.405 48.930909 \r\nz\r\n\" style=\"fill:#1f77b4;\"/>\r\n   </g>\r\n   <g id=\"patch_10\">\r\n    <path clip-path=\"url(#pd90e5746cd)\" d=\"M 63.448636 224.64 \r\nL 66.492273 224.64 \r\nL 66.492273 99.133506 \r\nL 63.448636 99.133506 \r\nz\r\n\" style=\"fill:#1f77b4;\"/>\r\n   </g>\r\n   <g id=\"patch_11\">\r\n    <path clip-path=\"url(#pd90e5746cd)\" d=\"M 66.492273 224.64 \r\nL 69.535909 224.64 \r\nL 69.535909 17.554286 \r\nL 66.492273 17.554286 \r\nz\r\n\" style=\"fill:#1f77b4;\"/>\r\n   </g>\r\n   <g id=\"patch_12\">\r\n    <path clip-path=\"url(#pd90e5746cd)\" d=\"M 69.535909 224.64 \r\nL 72.579545 224.64 \r\nL 72.579545 61.481558 \r\nL 69.535909 61.481558 \r\nz\r\n\" style=\"fill:#1f77b4;\"/>\r\n   </g>\r\n   <g id=\"patch_13\">\r\n    <path clip-path=\"url(#pd90e5746cd)\" d=\"M 72.579545 224.64 \r\nL 75.623182 224.64 \r\nL 75.623182 124.234805 \r\nL 72.579545 124.234805 \r\nz\r\n\" style=\"fill:#1f77b4;\"/>\r\n   </g>\r\n   <g id=\"patch_14\">\r\n    <path clip-path=\"url(#pd90e5746cd)\" d=\"M 75.623182 224.64 \r\nL 78.666818 224.64 \r\nL 78.666818 168.162078 \r\nL 75.623182 168.162078 \r\nz\r\n\" style=\"fill:#1f77b4;\"/>\r\n   </g>\r\n   <g id=\"patch_15\">\r\n    <path clip-path=\"url(#pd90e5746cd)\" d=\"M 78.666818 224.64 \r\nL 81.710455 224.64 \r\nL 81.710455 180.712727 \r\nL 78.666818 180.712727 \r\nz\r\n\" style=\"fill:#1f77b4;\"/>\r\n   </g>\r\n   <g id=\"patch_16\">\r\n    <path clip-path=\"url(#pd90e5746cd)\" d=\"M 81.710455 224.64 \r\nL 84.754091 224.64 \r\nL 84.754091 155.611429 \r\nL 81.710455 155.611429 \r\nz\r\n\" style=\"fill:#1f77b4;\"/>\r\n   </g>\r\n   <g id=\"patch_17\">\r\n    <path clip-path=\"url(#pd90e5746cd)\" d=\"M 84.754091 224.64 \r\nL 87.797727 224.64 \r\nL 87.797727 161.886753 \r\nL 84.754091 161.886753 \r\nz\r\n\" style=\"fill:#1f77b4;\"/>\r\n   </g>\r\n   <g id=\"patch_18\">\r\n    <path clip-path=\"url(#pd90e5746cd)\" d=\"M 87.797727 224.64 \r\nL 90.841364 224.64 \r\nL 90.841364 212.089351 \r\nL 87.797727 212.089351 \r\nz\r\n\" style=\"fill:#1f77b4;\"/>\r\n   </g>\r\n   <g id=\"patch_19\">\r\n    <path clip-path=\"url(#pd90e5746cd)\" d=\"M 90.841364 224.64 \r\nL 93.885 224.64 \r\nL 93.885 218.364675 \r\nL 90.841364 218.364675 \r\nz\r\n\" style=\"fill:#1f77b4;\"/>\r\n   </g>\r\n   <g id=\"patch_20\">\r\n    <path clip-path=\"url(#pd90e5746cd)\" d=\"M 93.885 224.64 \r\nL 96.928636 224.64 \r\nL 96.928636 212.089351 \r\nL 93.885 212.089351 \r\nz\r\n\" style=\"fill:#1f77b4;\"/>\r\n   </g>\r\n   <g id=\"patch_21\">\r\n    <path clip-path=\"url(#pd90e5746cd)\" d=\"M 96.928636 224.64 \r\nL 99.972273 224.64 \r\nL 99.972273 193.263377 \r\nL 96.928636 193.263377 \r\nz\r\n\" style=\"fill:#1f77b4;\"/>\r\n   </g>\r\n   <g id=\"patch_22\">\r\n    <path clip-path=\"url(#pd90e5746cd)\" d=\"M 99.972273 224.64 \r\nL 103.015909 224.64 \r\nL 103.015909 212.089351 \r\nL 99.972273 212.089351 \r\nz\r\n\" style=\"fill:#1f77b4;\"/>\r\n   </g>\r\n   <g id=\"patch_23\">\r\n    <path clip-path=\"url(#pd90e5746cd)\" d=\"M 103.015909 224.64 \r\nL 106.059545 224.64 \r\nL 106.059545 199.538701 \r\nL 103.015909 199.538701 \r\nz\r\n\" style=\"fill:#1f77b4;\"/>\r\n   </g>\r\n   <g id=\"patch_24\">\r\n    <path clip-path=\"url(#pd90e5746cd)\" d=\"M 106.059545 224.64 \r\nL 109.103182 224.64 \r\nL 109.103182 193.263377 \r\nL 106.059545 193.263377 \r\nz\r\n\" style=\"fill:#1f77b4;\"/>\r\n   </g>\r\n   <g id=\"patch_25\">\r\n    <path clip-path=\"url(#pd90e5746cd)\" d=\"M 109.103182 224.64 \r\nL 112.146818 224.64 \r\nL 112.146818 224.64 \r\nL 109.103182 224.64 \r\nz\r\n\" style=\"fill:#1f77b4;\"/>\r\n   </g>\r\n   <g id=\"patch_26\">\r\n    <path clip-path=\"url(#pd90e5746cd)\" d=\"M 112.146818 224.64 \r\nL 115.190455 224.64 \r\nL 115.190455 174.437403 \r\nL 112.146818 174.437403 \r\nz\r\n\" style=\"fill:#1f77b4;\"/>\r\n   </g>\r\n   <g id=\"patch_27\">\r\n    <path clip-path=\"url(#pd90e5746cd)\" d=\"M 115.190455 224.64 \r\nL 118.234091 224.64 \r\nL 118.234091 212.089351 \r\nL 115.190455 212.089351 \r\nz\r\n\" style=\"fill:#1f77b4;\"/>\r\n   </g>\r\n   <g id=\"patch_28\">\r\n    <path clip-path=\"url(#pd90e5746cd)\" d=\"M 118.234091 224.64 \r\nL 121.277727 224.64 \r\nL 121.277727 212.089351 \r\nL 118.234091 212.089351 \r\nz\r\n\" style=\"fill:#1f77b4;\"/>\r\n   </g>\r\n   <g id=\"patch_29\">\r\n    <path clip-path=\"url(#pd90e5746cd)\" d=\"M 121.277727 224.64 \r\nL 124.321364 224.64 \r\nL 124.321364 199.538701 \r\nL 121.277727 199.538701 \r\nz\r\n\" style=\"fill:#1f77b4;\"/>\r\n   </g>\r\n   <g id=\"patch_30\">\r\n    <path clip-path=\"url(#pd90e5746cd)\" d=\"M 124.321364 224.64 \r\nL 127.365 224.64 \r\nL 127.365 212.089351 \r\nL 124.321364 212.089351 \r\nz\r\n\" style=\"fill:#1f77b4;\"/>\r\n   </g>\r\n   <g id=\"patch_31\">\r\n    <path clip-path=\"url(#pd90e5746cd)\" d=\"M 127.365 224.64 \r\nL 130.408636 224.64 \r\nL 130.408636 212.089351 \r\nL 127.365 212.089351 \r\nz\r\n\" style=\"fill:#1f77b4;\"/>\r\n   </g>\r\n   <g id=\"patch_32\">\r\n    <path clip-path=\"url(#pd90e5746cd)\" d=\"M 130.408636 224.64 \r\nL 133.452273 224.64 \r\nL 133.452273 205.814026 \r\nL 130.408636 205.814026 \r\nz\r\n\" style=\"fill:#1f77b4;\"/>\r\n   </g>\r\n   <g id=\"patch_33\">\r\n    <path clip-path=\"url(#pd90e5746cd)\" d=\"M 133.452273 224.64 \r\nL 136.495909 224.64 \r\nL 136.495909 218.364675 \r\nL 133.452273 218.364675 \r\nz\r\n\" style=\"fill:#1f77b4;\"/>\r\n   </g>\r\n   <g id=\"patch_34\">\r\n    <path clip-path=\"url(#pd90e5746cd)\" d=\"M 136.495909 224.64 \r\nL 139.539545 224.64 \r\nL 139.539545 212.089351 \r\nL 136.495909 212.089351 \r\nz\r\n\" style=\"fill:#1f77b4;\"/>\r\n   </g>\r\n   <g id=\"patch_35\">\r\n    <path clip-path=\"url(#pd90e5746cd)\" d=\"M 139.539545 224.64 \r\nL 142.583182 224.64 \r\nL 142.583182 218.364675 \r\nL 139.539545 218.364675 \r\nz\r\n\" style=\"fill:#1f77b4;\"/>\r\n   </g>\r\n   <g id=\"patch_36\">\r\n    <path clip-path=\"url(#pd90e5746cd)\" d=\"M 142.583182 224.64 \r\nL 145.626818 224.64 \r\nL 145.626818 218.364675 \r\nL 142.583182 218.364675 \r\nz\r\n\" style=\"fill:#1f77b4;\"/>\r\n   </g>\r\n   <g id=\"patch_37\">\r\n    <path clip-path=\"url(#pd90e5746cd)\" d=\"M 145.626818 224.64 \r\nL 148.670455 224.64 \r\nL 148.670455 218.364675 \r\nL 145.626818 218.364675 \r\nz\r\n\" style=\"fill:#1f77b4;\"/>\r\n   </g>\r\n   <g id=\"patch_38\">\r\n    <path clip-path=\"url(#pd90e5746cd)\" d=\"M 148.670455 224.64 \r\nL 151.714091 224.64 \r\nL 151.714091 224.64 \r\nL 148.670455 224.64 \r\nz\r\n\" style=\"fill:#1f77b4;\"/>\r\n   </g>\r\n   <g id=\"patch_39\">\r\n    <path clip-path=\"url(#pd90e5746cd)\" d=\"M 151.714091 224.64 \r\nL 154.757727 224.64 \r\nL 154.757727 218.364675 \r\nL 151.714091 218.364675 \r\nz\r\n\" style=\"fill:#1f77b4;\"/>\r\n   </g>\r\n   <g id=\"patch_40\">\r\n    <path clip-path=\"url(#pd90e5746cd)\" d=\"M 154.757727 224.64 \r\nL 157.801364 224.64 \r\nL 157.801364 224.64 \r\nL 154.757727 224.64 \r\nz\r\n\" style=\"fill:#1f77b4;\"/>\r\n   </g>\r\n   <g id=\"patch_41\">\r\n    <path clip-path=\"url(#pd90e5746cd)\" d=\"M 157.801364 224.64 \r\nL 160.845 224.64 \r\nL 160.845 224.64 \r\nL 157.801364 224.64 \r\nz\r\n\" style=\"fill:#1f77b4;\"/>\r\n   </g>\r\n   <g id=\"patch_42\">\r\n    <path clip-path=\"url(#pd90e5746cd)\" d=\"M 160.845 224.64 \r\nL 163.888636 224.64 \r\nL 163.888636 224.64 \r\nL 160.845 224.64 \r\nz\r\n\" style=\"fill:#1f77b4;\"/>\r\n   </g>\r\n   <g id=\"patch_43\">\r\n    <path clip-path=\"url(#pd90e5746cd)\" d=\"M 163.888636 224.64 \r\nL 166.932273 224.64 \r\nL 166.932273 224.64 \r\nL 163.888636 224.64 \r\nz\r\n\" style=\"fill:#1f77b4;\"/>\r\n   </g>\r\n   <g id=\"patch_44\">\r\n    <path clip-path=\"url(#pd90e5746cd)\" d=\"M 166.932273 224.64 \r\nL 169.975909 224.64 \r\nL 169.975909 224.64 \r\nL 166.932273 224.64 \r\nz\r\n\" style=\"fill:#1f77b4;\"/>\r\n   </g>\r\n   <g id=\"patch_45\">\r\n    <path clip-path=\"url(#pd90e5746cd)\" d=\"M 169.975909 224.64 \r\nL 173.019545 224.64 \r\nL 173.019545 224.64 \r\nL 169.975909 224.64 \r\nz\r\n\" style=\"fill:#1f77b4;\"/>\r\n   </g>\r\n   <g id=\"patch_46\">\r\n    <path clip-path=\"url(#pd90e5746cd)\" d=\"M 173.019545 224.64 \r\nL 176.063182 224.64 \r\nL 176.063182 224.64 \r\nL 173.019545 224.64 \r\nz\r\n\" style=\"fill:#1f77b4;\"/>\r\n   </g>\r\n   <g id=\"patch_47\">\r\n    <path clip-path=\"url(#pd90e5746cd)\" d=\"M 176.063182 224.64 \r\nL 179.106818 224.64 \r\nL 179.106818 224.64 \r\nL 176.063182 224.64 \r\nz\r\n\" style=\"fill:#1f77b4;\"/>\r\n   </g>\r\n   <g id=\"patch_48\">\r\n    <path clip-path=\"url(#pd90e5746cd)\" d=\"M 179.106818 224.64 \r\nL 182.150455 224.64 \r\nL 182.150455 218.364675 \r\nL 179.106818 218.364675 \r\nz\r\n\" style=\"fill:#1f77b4;\"/>\r\n   </g>\r\n   <g id=\"patch_49\">\r\n    <path clip-path=\"url(#pd90e5746cd)\" d=\"M 182.150455 224.64 \r\nL 185.194091 224.64 \r\nL 185.194091 218.364675 \r\nL 182.150455 218.364675 \r\nz\r\n\" style=\"fill:#1f77b4;\"/>\r\n   </g>\r\n   <g id=\"patch_50\">\r\n    <path clip-path=\"url(#pd90e5746cd)\" d=\"M 185.194091 224.64 \r\nL 188.237727 224.64 \r\nL 188.237727 224.64 \r\nL 185.194091 224.64 \r\nz\r\n\" style=\"fill:#1f77b4;\"/>\r\n   </g>\r\n   <g id=\"patch_51\">\r\n    <path clip-path=\"url(#pd90e5746cd)\" d=\"M 188.237727 224.64 \r\nL 191.281364 224.64 \r\nL 191.281364 224.64 \r\nL 188.237727 224.64 \r\nz\r\n\" style=\"fill:#1f77b4;\"/>\r\n   </g>\r\n   <g id=\"patch_52\">\r\n    <path clip-path=\"url(#pd90e5746cd)\" d=\"M 191.281364 224.64 \r\nL 194.325 224.64 \r\nL 194.325 224.64 \r\nL 191.281364 224.64 \r\nz\r\n\" style=\"fill:#1f77b4;\"/>\r\n   </g>\r\n   <g id=\"patch_53\">\r\n    <path clip-path=\"url(#pd90e5746cd)\" d=\"M 194.325 224.64 \r\nL 197.368636 224.64 \r\nL 197.368636 218.364675 \r\nL 194.325 218.364675 \r\nz\r\n\" style=\"fill:#1f77b4;\"/>\r\n   </g>\r\n   <g id=\"patch_54\">\r\n    <path clip-path=\"url(#pd90e5746cd)\" d=\"M 197.368636 224.64 \r\nL 200.412273 224.64 \r\nL 200.412273 218.364675 \r\nL 197.368636 218.364675 \r\nz\r\n\" style=\"fill:#1f77b4;\"/>\r\n   </g>\r\n   <g id=\"patch_55\">\r\n    <path clip-path=\"url(#pd90e5746cd)\" d=\"M 200.412273 224.64 \r\nL 203.455909 224.64 \r\nL 203.455909 224.64 \r\nL 200.412273 224.64 \r\nz\r\n\" style=\"fill:#1f77b4;\"/>\r\n   </g>\r\n   <g id=\"patch_56\">\r\n    <path clip-path=\"url(#pd90e5746cd)\" d=\"M 203.455909 224.64 \r\nL 206.499545 224.64 \r\nL 206.499545 224.64 \r\nL 203.455909 224.64 \r\nz\r\n\" style=\"fill:#1f77b4;\"/>\r\n   </g>\r\n   <g id=\"patch_57\">\r\n    <path clip-path=\"url(#pd90e5746cd)\" d=\"M 206.499545 224.64 \r\nL 209.543182 224.64 \r\nL 209.543182 218.364675 \r\nL 206.499545 218.364675 \r\nz\r\n\" style=\"fill:#1f77b4;\"/>\r\n   </g>\r\n   <g id=\"patch_58\">\r\n    <path clip-path=\"url(#pd90e5746cd)\" d=\"M 209.543182 224.64 \r\nL 212.586818 224.64 \r\nL 212.586818 224.64 \r\nL 209.543182 224.64 \r\nz\r\n\" style=\"fill:#1f77b4;\"/>\r\n   </g>\r\n   <g id=\"patch_59\">\r\n    <path clip-path=\"url(#pd90e5746cd)\" d=\"M 212.586818 224.64 \r\nL 215.630455 224.64 \r\nL 215.630455 224.64 \r\nL 212.586818 224.64 \r\nz\r\n\" style=\"fill:#1f77b4;\"/>\r\n   </g>\r\n   <g id=\"patch_60\">\r\n    <path clip-path=\"url(#pd90e5746cd)\" d=\"M 215.630455 224.64 \r\nL 218.674091 224.64 \r\nL 218.674091 224.64 \r\nL 215.630455 224.64 \r\nz\r\n\" style=\"fill:#1f77b4;\"/>\r\n   </g>\r\n   <g id=\"patch_61\">\r\n    <path clip-path=\"url(#pd90e5746cd)\" d=\"M 218.674091 224.64 \r\nL 221.717727 224.64 \r\nL 221.717727 224.64 \r\nL 218.674091 224.64 \r\nz\r\n\" style=\"fill:#1f77b4;\"/>\r\n   </g>\r\n   <g id=\"patch_62\">\r\n    <path clip-path=\"url(#pd90e5746cd)\" d=\"M 221.717727 224.64 \r\nL 224.761364 224.64 \r\nL 224.761364 224.64 \r\nL 221.717727 224.64 \r\nz\r\n\" style=\"fill:#1f77b4;\"/>\r\n   </g>\r\n   <g id=\"patch_63\">\r\n    <path clip-path=\"url(#pd90e5746cd)\" d=\"M 224.761364 224.64 \r\nL 227.805 224.64 \r\nL 227.805 224.64 \r\nL 224.761364 224.64 \r\nz\r\n\" style=\"fill:#1f77b4;\"/>\r\n   </g>\r\n   <g id=\"patch_64\">\r\n    <path clip-path=\"url(#pd90e5746cd)\" d=\"M 227.805 224.64 \r\nL 230.848636 224.64 \r\nL 230.848636 218.364675 \r\nL 227.805 218.364675 \r\nz\r\n\" style=\"fill:#1f77b4;\"/>\r\n   </g>\r\n   <g id=\"patch_65\">\r\n    <path clip-path=\"url(#pd90e5746cd)\" d=\"M 230.848636 224.64 \r\nL 233.892273 224.64 \r\nL 233.892273 224.64 \r\nL 230.848636 224.64 \r\nz\r\n\" style=\"fill:#1f77b4;\"/>\r\n   </g>\r\n   <g id=\"patch_66\">\r\n    <path clip-path=\"url(#pd90e5746cd)\" d=\"M 233.892273 224.64 \r\nL 236.935909 224.64 \r\nL 236.935909 224.64 \r\nL 233.892273 224.64 \r\nz\r\n\" style=\"fill:#1f77b4;\"/>\r\n   </g>\r\n   <g id=\"patch_67\">\r\n    <path clip-path=\"url(#pd90e5746cd)\" d=\"M 236.935909 224.64 \r\nL 239.979545 224.64 \r\nL 239.979545 218.364675 \r\nL 236.935909 218.364675 \r\nz\r\n\" style=\"fill:#1f77b4;\"/>\r\n   </g>\r\n   <g id=\"patch_68\">\r\n    <path clip-path=\"url(#pd90e5746cd)\" d=\"M 239.979545 224.64 \r\nL 243.023182 224.64 \r\nL 243.023182 218.364675 \r\nL 239.979545 218.364675 \r\nz\r\n\" style=\"fill:#1f77b4;\"/>\r\n   </g>\r\n   <g id=\"patch_69\">\r\n    <path clip-path=\"url(#pd90e5746cd)\" d=\"M 243.023182 224.64 \r\nL 246.066818 224.64 \r\nL 246.066818 224.64 \r\nL 243.023182 224.64 \r\nz\r\n\" style=\"fill:#1f77b4;\"/>\r\n   </g>\r\n   <g id=\"patch_70\">\r\n    <path clip-path=\"url(#pd90e5746cd)\" d=\"M 246.066818 224.64 \r\nL 249.110455 224.64 \r\nL 249.110455 224.64 \r\nL 246.066818 224.64 \r\nz\r\n\" style=\"fill:#1f77b4;\"/>\r\n   </g>\r\n   <g id=\"patch_71\">\r\n    <path clip-path=\"url(#pd90e5746cd)\" d=\"M 249.110455 224.64 \r\nL 252.154091 224.64 \r\nL 252.154091 224.64 \r\nL 249.110455 224.64 \r\nz\r\n\" style=\"fill:#1f77b4;\"/>\r\n   </g>\r\n   <g id=\"patch_72\">\r\n    <path clip-path=\"url(#pd90e5746cd)\" d=\"M 252.154091 224.64 \r\nL 255.197727 224.64 \r\nL 255.197727 224.64 \r\nL 252.154091 224.64 \r\nz\r\n\" style=\"fill:#1f77b4;\"/>\r\n   </g>\r\n   <g id=\"patch_73\">\r\n    <path clip-path=\"url(#pd90e5746cd)\" d=\"M 255.197727 224.64 \r\nL 258.241364 224.64 \r\nL 258.241364 224.64 \r\nL 255.197727 224.64 \r\nz\r\n\" style=\"fill:#1f77b4;\"/>\r\n   </g>\r\n   <g id=\"patch_74\">\r\n    <path clip-path=\"url(#pd90e5746cd)\" d=\"M 258.241364 224.64 \r\nL 261.285 224.64 \r\nL 261.285 224.64 \r\nL 258.241364 224.64 \r\nz\r\n\" style=\"fill:#1f77b4;\"/>\r\n   </g>\r\n   <g id=\"patch_75\">\r\n    <path clip-path=\"url(#pd90e5746cd)\" d=\"M 261.285 224.64 \r\nL 264.328636 224.64 \r\nL 264.328636 224.64 \r\nL 261.285 224.64 \r\nz\r\n\" style=\"fill:#1f77b4;\"/>\r\n   </g>\r\n   <g id=\"patch_76\">\r\n    <path clip-path=\"url(#pd90e5746cd)\" d=\"M 264.328636 224.64 \r\nL 267.372273 224.64 \r\nL 267.372273 224.64 \r\nL 264.328636 224.64 \r\nz\r\n\" style=\"fill:#1f77b4;\"/>\r\n   </g>\r\n   <g id=\"patch_77\">\r\n    <path clip-path=\"url(#pd90e5746cd)\" d=\"M 267.372273 224.64 \r\nL 270.415909 224.64 \r\nL 270.415909 224.64 \r\nL 267.372273 224.64 \r\nz\r\n\" style=\"fill:#1f77b4;\"/>\r\n   </g>\r\n   <g id=\"patch_78\">\r\n    <path clip-path=\"url(#pd90e5746cd)\" d=\"M 270.415909 224.64 \r\nL 273.459545 224.64 \r\nL 273.459545 224.64 \r\nL 270.415909 224.64 \r\nz\r\n\" style=\"fill:#1f77b4;\"/>\r\n   </g>\r\n   <g id=\"patch_79\">\r\n    <path clip-path=\"url(#pd90e5746cd)\" d=\"M 273.459545 224.64 \r\nL 276.503182 224.64 \r\nL 276.503182 224.64 \r\nL 273.459545 224.64 \r\nz\r\n\" style=\"fill:#1f77b4;\"/>\r\n   </g>\r\n   <g id=\"patch_80\">\r\n    <path clip-path=\"url(#pd90e5746cd)\" d=\"M 276.503182 224.64 \r\nL 279.546818 224.64 \r\nL 279.546818 224.64 \r\nL 276.503182 224.64 \r\nz\r\n\" style=\"fill:#1f77b4;\"/>\r\n   </g>\r\n   <g id=\"patch_81\">\r\n    <path clip-path=\"url(#pd90e5746cd)\" d=\"M 279.546818 224.64 \r\nL 282.590455 224.64 \r\nL 282.590455 224.64 \r\nL 279.546818 224.64 \r\nz\r\n\" style=\"fill:#1f77b4;\"/>\r\n   </g>\r\n   <g id=\"patch_82\">\r\n    <path clip-path=\"url(#pd90e5746cd)\" d=\"M 282.590455 224.64 \r\nL 285.634091 224.64 \r\nL 285.634091 224.64 \r\nL 282.590455 224.64 \r\nz\r\n\" style=\"fill:#1f77b4;\"/>\r\n   </g>\r\n   <g id=\"patch_83\">\r\n    <path clip-path=\"url(#pd90e5746cd)\" d=\"M 285.634091 224.64 \r\nL 288.677727 224.64 \r\nL 288.677727 224.64 \r\nL 285.634091 224.64 \r\nz\r\n\" style=\"fill:#1f77b4;\"/>\r\n   </g>\r\n   <g id=\"patch_84\">\r\n    <path clip-path=\"url(#pd90e5746cd)\" d=\"M 288.677727 224.64 \r\nL 291.721364 224.64 \r\nL 291.721364 224.64 \r\nL 288.677727 224.64 \r\nz\r\n\" style=\"fill:#1f77b4;\"/>\r\n   </g>\r\n   <g id=\"patch_85\">\r\n    <path clip-path=\"url(#pd90e5746cd)\" d=\"M 291.721364 224.64 \r\nL 294.765 224.64 \r\nL 294.765 224.64 \r\nL 291.721364 224.64 \r\nz\r\n\" style=\"fill:#1f77b4;\"/>\r\n   </g>\r\n   <g id=\"patch_86\">\r\n    <path clip-path=\"url(#pd90e5746cd)\" d=\"M 294.765 224.64 \r\nL 297.808636 224.64 \r\nL 297.808636 224.64 \r\nL 294.765 224.64 \r\nz\r\n\" style=\"fill:#1f77b4;\"/>\r\n   </g>\r\n   <g id=\"patch_87\">\r\n    <path clip-path=\"url(#pd90e5746cd)\" d=\"M 297.808636 224.64 \r\nL 300.852273 224.64 \r\nL 300.852273 224.64 \r\nL 297.808636 224.64 \r\nz\r\n\" style=\"fill:#1f77b4;\"/>\r\n   </g>\r\n   <g id=\"patch_88\">\r\n    <path clip-path=\"url(#pd90e5746cd)\" d=\"M 300.852273 224.64 \r\nL 303.895909 224.64 \r\nL 303.895909 218.364675 \r\nL 300.852273 218.364675 \r\nz\r\n\" style=\"fill:#1f77b4;\"/>\r\n   </g>\r\n   <g id=\"patch_89\">\r\n    <path clip-path=\"url(#pd90e5746cd)\" d=\"M 303.895909 224.64 \r\nL 306.939545 224.64 \r\nL 306.939545 224.64 \r\nL 303.895909 224.64 \r\nz\r\n\" style=\"fill:#1f77b4;\"/>\r\n   </g>\r\n   <g id=\"patch_90\">\r\n    <path clip-path=\"url(#pd90e5746cd)\" d=\"M 306.939545 224.64 \r\nL 309.983182 224.64 \r\nL 309.983182 224.64 \r\nL 306.939545 224.64 \r\nz\r\n\" style=\"fill:#1f77b4;\"/>\r\n   </g>\r\n   <g id=\"patch_91\">\r\n    <path clip-path=\"url(#pd90e5746cd)\" d=\"M 309.983182 224.64 \r\nL 313.026818 224.64 \r\nL 313.026818 224.64 \r\nL 309.983182 224.64 \r\nz\r\n\" style=\"fill:#1f77b4;\"/>\r\n   </g>\r\n   <g id=\"patch_92\">\r\n    <path clip-path=\"url(#pd90e5746cd)\" d=\"M 313.026818 224.64 \r\nL 316.070455 224.64 \r\nL 316.070455 224.64 \r\nL 313.026818 224.64 \r\nz\r\n\" style=\"fill:#1f77b4;\"/>\r\n   </g>\r\n   <g id=\"patch_93\">\r\n    <path clip-path=\"url(#pd90e5746cd)\" d=\"M 316.070455 224.64 \r\nL 319.114091 224.64 \r\nL 319.114091 224.64 \r\nL 316.070455 224.64 \r\nz\r\n\" style=\"fill:#1f77b4;\"/>\r\n   </g>\r\n   <g id=\"patch_94\">\r\n    <path clip-path=\"url(#pd90e5746cd)\" d=\"M 319.114091 224.64 \r\nL 322.157727 224.64 \r\nL 322.157727 224.64 \r\nL 319.114091 224.64 \r\nz\r\n\" style=\"fill:#1f77b4;\"/>\r\n   </g>\r\n   <g id=\"patch_95\">\r\n    <path clip-path=\"url(#pd90e5746cd)\" d=\"M 322.157727 224.64 \r\nL 325.201364 224.64 \r\nL 325.201364 224.64 \r\nL 322.157727 224.64 \r\nz\r\n\" style=\"fill:#1f77b4;\"/>\r\n   </g>\r\n   <g id=\"patch_96\">\r\n    <path clip-path=\"url(#pd90e5746cd)\" d=\"M 325.201364 224.64 \r\nL 328.245 224.64 \r\nL 328.245 224.64 \r\nL 325.201364 224.64 \r\nz\r\n\" style=\"fill:#1f77b4;\"/>\r\n   </g>\r\n   <g id=\"patch_97\">\r\n    <path clip-path=\"url(#pd90e5746cd)\" d=\"M 328.245 224.64 \r\nL 331.288636 224.64 \r\nL 331.288636 224.64 \r\nL 328.245 224.64 \r\nz\r\n\" style=\"fill:#1f77b4;\"/>\r\n   </g>\r\n   <g id=\"patch_98\">\r\n    <path clip-path=\"url(#pd90e5746cd)\" d=\"M 331.288636 224.64 \r\nL 334.332273 224.64 \r\nL 334.332273 224.64 \r\nL 331.288636 224.64 \r\nz\r\n\" style=\"fill:#1f77b4;\"/>\r\n   </g>\r\n   <g id=\"patch_99\">\r\n    <path clip-path=\"url(#pd90e5746cd)\" d=\"M 334.332273 224.64 \r\nL 337.375909 224.64 \r\nL 337.375909 224.64 \r\nL 334.332273 224.64 \r\nz\r\n\" style=\"fill:#1f77b4;\"/>\r\n   </g>\r\n   <g id=\"patch_100\">\r\n    <path clip-path=\"url(#pd90e5746cd)\" d=\"M 337.375909 224.64 \r\nL 340.419545 224.64 \r\nL 340.419545 224.64 \r\nL 337.375909 224.64 \r\nz\r\n\" style=\"fill:#1f77b4;\"/>\r\n   </g>\r\n   <g id=\"patch_101\">\r\n    <path clip-path=\"url(#pd90e5746cd)\" d=\"M 340.419545 224.64 \r\nL 343.463182 224.64 \r\nL 343.463182 224.64 \r\nL 340.419545 224.64 \r\nz\r\n\" style=\"fill:#1f77b4;\"/>\r\n   </g>\r\n   <g id=\"patch_102\">\r\n    <path clip-path=\"url(#pd90e5746cd)\" d=\"M 343.463182 224.64 \r\nL 346.506818 224.64 \r\nL 346.506818 218.364675 \r\nL 343.463182 218.364675 \r\nz\r\n\" style=\"fill:#1f77b4;\"/>\r\n   </g>\r\n   <g id=\"matplotlib.axis_1\">\r\n    <g id=\"xtick_1\">\r\n     <g id=\"line2d_1\">\r\n      <defs>\r\n       <path d=\"M 0 0 \r\nL 0 3.5 \r\n\" id=\"m28acd57a8c\" style=\"stroke:#000000;stroke-width:0.8;\"/>\r\n      </defs>\r\n      <g>\r\n       <use style=\"stroke:#000000;stroke-width:0.8;\" x=\"49.50004\" xlink:href=\"#m28acd57a8c\" y=\"224.64\"/>\r\n      </g>\r\n     </g>\r\n     <g id=\"text_1\">\r\n      <!-- 50000 -->\r\n      <g transform=\"translate(33.59379 239.238437)scale(0.1 -0.1)\">\r\n       <defs>\r\n        <path d=\"M 691 4666 \r\nL 3169 4666 \r\nL 3169 4134 \r\nL 1269 4134 \r\nL 1269 2991 \r\nQ 1406 3038 1543 3061 \r\nQ 1681 3084 1819 3084 \r\nQ 2600 3084 3056 2656 \r\nQ 3513 2228 3513 1497 \r\nQ 3513 744 3044 326 \r\nQ 2575 -91 1722 -91 \r\nQ 1428 -91 1123 -41 \r\nQ 819 9 494 109 \r\nL 494 744 \r\nQ 775 591 1075 516 \r\nQ 1375 441 1709 441 \r\nQ 2250 441 2565 725 \r\nQ 2881 1009 2881 1497 \r\nQ 2881 1984 2565 2268 \r\nQ 2250 2553 1709 2553 \r\nQ 1456 2553 1204 2497 \r\nQ 953 2441 691 2322 \r\nL 691 4666 \r\nz\r\n\" id=\"DejaVuSans-35\" transform=\"scale(0.015625)\"/>\r\n        <path d=\"M 2034 4250 \r\nQ 1547 4250 1301 3770 \r\nQ 1056 3291 1056 2328 \r\nQ 1056 1369 1301 889 \r\nQ 1547 409 2034 409 \r\nQ 2525 409 2770 889 \r\nQ 3016 1369 3016 2328 \r\nQ 3016 3291 2770 3770 \r\nQ 2525 4250 2034 4250 \r\nz\r\nM 2034 4750 \r\nQ 2819 4750 3233 4129 \r\nQ 3647 3509 3647 2328 \r\nQ 3647 1150 3233 529 \r\nQ 2819 -91 2034 -91 \r\nQ 1250 -91 836 529 \r\nQ 422 1150 422 2328 \r\nQ 422 3509 836 4129 \r\nQ 1250 4750 2034 4750 \r\nz\r\n\" id=\"DejaVuSans-30\" transform=\"scale(0.015625)\"/>\r\n       </defs>\r\n       <use xlink:href=\"#DejaVuSans-35\"/>\r\n       <use x=\"63.623047\" xlink:href=\"#DejaVuSans-30\"/>\r\n       <use x=\"127.246094\" xlink:href=\"#DejaVuSans-30\"/>\r\n       <use x=\"190.869141\" xlink:href=\"#DejaVuSans-30\"/>\r\n       <use x=\"254.492188\" xlink:href=\"#DejaVuSans-30\"/>\r\n      </g>\r\n     </g>\r\n    </g>\r\n    <g id=\"xtick_2\">\r\n     <g id=\"line2d_2\">\r\n      <g>\r\n       <use style=\"stroke:#000000;stroke-width:0.8;\" x=\"123.751734\" xlink:href=\"#m28acd57a8c\" y=\"224.64\"/>\r\n      </g>\r\n     </g>\r\n     <g id=\"text_2\">\r\n      <!-- 100000 -->\r\n      <g transform=\"translate(104.664234 239.238437)scale(0.1 -0.1)\">\r\n       <defs>\r\n        <path d=\"M 794 531 \r\nL 1825 531 \r\nL 1825 4091 \r\nL 703 3866 \r\nL 703 4441 \r\nL 1819 4666 \r\nL 2450 4666 \r\nL 2450 531 \r\nL 3481 531 \r\nL 3481 0 \r\nL 794 0 \r\nL 794 531 \r\nz\r\n\" id=\"DejaVuSans-31\" transform=\"scale(0.015625)\"/>\r\n       </defs>\r\n       <use xlink:href=\"#DejaVuSans-31\"/>\r\n       <use x=\"63.623047\" xlink:href=\"#DejaVuSans-30\"/>\r\n       <use x=\"127.246094\" xlink:href=\"#DejaVuSans-30\"/>\r\n       <use x=\"190.869141\" xlink:href=\"#DejaVuSans-30\"/>\r\n       <use x=\"254.492188\" xlink:href=\"#DejaVuSans-30\"/>\r\n       <use x=\"318.115234\" xlink:href=\"#DejaVuSans-30\"/>\r\n      </g>\r\n     </g>\r\n    </g>\r\n    <g id=\"xtick_3\">\r\n     <g id=\"line2d_3\">\r\n      <g>\r\n       <use style=\"stroke:#000000;stroke-width:0.8;\" x=\"198.003429\" xlink:href=\"#m28acd57a8c\" y=\"224.64\"/>\r\n      </g>\r\n     </g>\r\n     <g id=\"text_3\">\r\n      <!-- 150000 -->\r\n      <g transform=\"translate(178.915929 239.238437)scale(0.1 -0.1)\">\r\n       <use xlink:href=\"#DejaVuSans-31\"/>\r\n       <use x=\"63.623047\" xlink:href=\"#DejaVuSans-35\"/>\r\n       <use x=\"127.246094\" xlink:href=\"#DejaVuSans-30\"/>\r\n       <use x=\"190.869141\" xlink:href=\"#DejaVuSans-30\"/>\r\n       <use x=\"254.492188\" xlink:href=\"#DejaVuSans-30\"/>\r\n       <use x=\"318.115234\" xlink:href=\"#DejaVuSans-30\"/>\r\n      </g>\r\n     </g>\r\n    </g>\r\n    <g id=\"xtick_4\">\r\n     <g id=\"line2d_4\">\r\n      <g>\r\n       <use style=\"stroke:#000000;stroke-width:0.8;\" x=\"272.255124\" xlink:href=\"#m28acd57a8c\" y=\"224.64\"/>\r\n      </g>\r\n     </g>\r\n     <g id=\"text_4\">\r\n      <!-- 200000 -->\r\n      <g transform=\"translate(253.167624 239.238437)scale(0.1 -0.1)\">\r\n       <defs>\r\n        <path d=\"M 1228 531 \r\nL 3431 531 \r\nL 3431 0 \r\nL 469 0 \r\nL 469 531 \r\nQ 828 903 1448 1529 \r\nQ 2069 2156 2228 2338 \r\nQ 2531 2678 2651 2914 \r\nQ 2772 3150 2772 3378 \r\nQ 2772 3750 2511 3984 \r\nQ 2250 4219 1831 4219 \r\nQ 1534 4219 1204 4116 \r\nQ 875 4013 500 3803 \r\nL 500 4441 \r\nQ 881 4594 1212 4672 \r\nQ 1544 4750 1819 4750 \r\nQ 2544 4750 2975 4387 \r\nQ 3406 4025 3406 3419 \r\nQ 3406 3131 3298 2873 \r\nQ 3191 2616 2906 2266 \r\nQ 2828 2175 2409 1742 \r\nQ 1991 1309 1228 531 \r\nz\r\n\" id=\"DejaVuSans-32\" transform=\"scale(0.015625)\"/>\r\n       </defs>\r\n       <use xlink:href=\"#DejaVuSans-32\"/>\r\n       <use x=\"63.623047\" xlink:href=\"#DejaVuSans-30\"/>\r\n       <use x=\"127.246094\" xlink:href=\"#DejaVuSans-30\"/>\r\n       <use x=\"190.869141\" xlink:href=\"#DejaVuSans-30\"/>\r\n       <use x=\"254.492188\" xlink:href=\"#DejaVuSans-30\"/>\r\n       <use x=\"318.115234\" xlink:href=\"#DejaVuSans-30\"/>\r\n      </g>\r\n     </g>\r\n    </g>\r\n    <g id=\"xtick_5\">\r\n     <g id=\"line2d_5\">\r\n      <g>\r\n       <use style=\"stroke:#000000;stroke-width:0.8;\" x=\"346.506818\" xlink:href=\"#m28acd57a8c\" y=\"224.64\"/>\r\n      </g>\r\n     </g>\r\n     <g id=\"text_5\">\r\n      <!-- 250000 -->\r\n      <g transform=\"translate(327.419318 239.238437)scale(0.1 -0.1)\">\r\n       <use xlink:href=\"#DejaVuSans-32\"/>\r\n       <use x=\"63.623047\" xlink:href=\"#DejaVuSans-35\"/>\r\n       <use x=\"127.246094\" xlink:href=\"#DejaVuSans-30\"/>\r\n       <use x=\"190.869141\" xlink:href=\"#DejaVuSans-30\"/>\r\n       <use x=\"254.492188\" xlink:href=\"#DejaVuSans-30\"/>\r\n       <use x=\"318.115234\" xlink:href=\"#DejaVuSans-30\"/>\r\n      </g>\r\n     </g>\r\n    </g>\r\n   </g>\r\n   <g id=\"matplotlib.axis_2\">\r\n    <g id=\"ytick_1\">\r\n     <g id=\"line2d_6\">\r\n      <defs>\r\n       <path d=\"M 0 0 \r\nL -3.5 0 \r\n\" id=\"m3df32986a4\" style=\"stroke:#000000;stroke-width:0.8;\"/>\r\n      </defs>\r\n      <g>\r\n       <use style=\"stroke:#000000;stroke-width:0.8;\" x=\"26.925\" xlink:href=\"#m3df32986a4\" y=\"224.64\"/>\r\n      </g>\r\n     </g>\r\n     <g id=\"text_6\">\r\n      <!-- 0 -->\r\n      <g transform=\"translate(13.5625 228.439219)scale(0.1 -0.1)\">\r\n       <use xlink:href=\"#DejaVuSans-30\"/>\r\n      </g>\r\n     </g>\r\n    </g>\r\n    <g id=\"ytick_2\">\r\n     <g id=\"line2d_7\">\r\n      <g>\r\n       <use style=\"stroke:#000000;stroke-width:0.8;\" x=\"26.925\" xlink:href=\"#m3df32986a4\" y=\"193.263377\"/>\r\n      </g>\r\n     </g>\r\n     <g id=\"text_7\">\r\n      <!-- 5 -->\r\n      <g transform=\"translate(13.5625 197.062595)scale(0.1 -0.1)\">\r\n       <use xlink:href=\"#DejaVuSans-35\"/>\r\n      </g>\r\n     </g>\r\n    </g>\r\n    <g id=\"ytick_3\">\r\n     <g id=\"line2d_8\">\r\n      <g>\r\n       <use style=\"stroke:#000000;stroke-width:0.8;\" x=\"26.925\" xlink:href=\"#m3df32986a4\" y=\"161.886753\"/>\r\n      </g>\r\n     </g>\r\n     <g id=\"text_8\">\r\n      <!-- 10 -->\r\n      <g transform=\"translate(7.2 165.685972)scale(0.1 -0.1)\">\r\n       <use xlink:href=\"#DejaVuSans-31\"/>\r\n       <use x=\"63.623047\" xlink:href=\"#DejaVuSans-30\"/>\r\n      </g>\r\n     </g>\r\n    </g>\r\n    <g id=\"ytick_4\">\r\n     <g id=\"line2d_9\">\r\n      <g>\r\n       <use style=\"stroke:#000000;stroke-width:0.8;\" x=\"26.925\" xlink:href=\"#m3df32986a4\" y=\"130.51013\"/>\r\n      </g>\r\n     </g>\r\n     <g id=\"text_9\">\r\n      <!-- 15 -->\r\n      <g transform=\"translate(7.2 134.309349)scale(0.1 -0.1)\">\r\n       <use xlink:href=\"#DejaVuSans-31\"/>\r\n       <use x=\"63.623047\" xlink:href=\"#DejaVuSans-35\"/>\r\n      </g>\r\n     </g>\r\n    </g>\r\n    <g id=\"ytick_5\">\r\n     <g id=\"line2d_10\">\r\n      <g>\r\n       <use style=\"stroke:#000000;stroke-width:0.8;\" x=\"26.925\" xlink:href=\"#m3df32986a4\" y=\"99.133506\"/>\r\n      </g>\r\n     </g>\r\n     <g id=\"text_10\">\r\n      <!-- 20 -->\r\n      <g transform=\"translate(7.2 102.932725)scale(0.1 -0.1)\">\r\n       <use xlink:href=\"#DejaVuSans-32\"/>\r\n       <use x=\"63.623047\" xlink:href=\"#DejaVuSans-30\"/>\r\n      </g>\r\n     </g>\r\n    </g>\r\n    <g id=\"ytick_6\">\r\n     <g id=\"line2d_11\">\r\n      <g>\r\n       <use style=\"stroke:#000000;stroke-width:0.8;\" x=\"26.925\" xlink:href=\"#m3df32986a4\" y=\"67.756883\"/>\r\n      </g>\r\n     </g>\r\n     <g id=\"text_11\">\r\n      <!-- 25 -->\r\n      <g transform=\"translate(7.2 71.556102)scale(0.1 -0.1)\">\r\n       <use xlink:href=\"#DejaVuSans-32\"/>\r\n       <use x=\"63.623047\" xlink:href=\"#DejaVuSans-35\"/>\r\n      </g>\r\n     </g>\r\n    </g>\r\n    <g id=\"ytick_7\">\r\n     <g id=\"line2d_12\">\r\n      <g>\r\n       <use style=\"stroke:#000000;stroke-width:0.8;\" x=\"26.925\" xlink:href=\"#m3df32986a4\" y=\"36.38026\"/>\r\n      </g>\r\n     </g>\r\n     <g id=\"text_12\">\r\n      <!-- 30 -->\r\n      <g transform=\"translate(7.2 40.179478)scale(0.1 -0.1)\">\r\n       <defs>\r\n        <path d=\"M 2597 2516 \r\nQ 3050 2419 3304 2112 \r\nQ 3559 1806 3559 1356 \r\nQ 3559 666 3084 287 \r\nQ 2609 -91 1734 -91 \r\nQ 1441 -91 1130 -33 \r\nQ 819 25 488 141 \r\nL 488 750 \r\nQ 750 597 1062 519 \r\nQ 1375 441 1716 441 \r\nQ 2309 441 2620 675 \r\nQ 2931 909 2931 1356 \r\nQ 2931 1769 2642 2001 \r\nQ 2353 2234 1838 2234 \r\nL 1294 2234 \r\nL 1294 2753 \r\nL 1863 2753 \r\nQ 2328 2753 2575 2939 \r\nQ 2822 3125 2822 3475 \r\nQ 2822 3834 2567 4026 \r\nQ 2313 4219 1838 4219 \r\nQ 1578 4219 1281 4162 \r\nQ 984 4106 628 3988 \r\nL 628 4550 \r\nQ 988 4650 1302 4700 \r\nQ 1616 4750 1894 4750 \r\nQ 2613 4750 3031 4423 \r\nQ 3450 4097 3450 3541 \r\nQ 3450 3153 3228 2886 \r\nQ 3006 2619 2597 2516 \r\nz\r\n\" id=\"DejaVuSans-33\" transform=\"scale(0.015625)\"/>\r\n       </defs>\r\n       <use xlink:href=\"#DejaVuSans-33\"/>\r\n       <use x=\"63.623047\" xlink:href=\"#DejaVuSans-30\"/>\r\n      </g>\r\n     </g>\r\n    </g>\r\n   </g>\r\n   <g id=\"patch_103\">\r\n    <path d=\"M 26.925 224.64 \r\nL 26.925 7.2 \r\n\" style=\"fill:none;stroke:#000000;stroke-linecap:square;stroke-linejoin:miter;stroke-width:0.8;\"/>\r\n   </g>\r\n   <g id=\"patch_104\">\r\n    <path d=\"M 361.725 224.64 \r\nL 361.725 7.2 \r\n\" style=\"fill:none;stroke:#000000;stroke-linecap:square;stroke-linejoin:miter;stroke-width:0.8;\"/>\r\n   </g>\r\n   <g id=\"patch_105\">\r\n    <path d=\"M 26.925 224.64 \r\nL 361.725 224.64 \r\n\" style=\"fill:none;stroke:#000000;stroke-linecap:square;stroke-linejoin:miter;stroke-width:0.8;\"/>\r\n   </g>\r\n   <g id=\"patch_106\">\r\n    <path d=\"M 26.925 7.2 \r\nL 361.725 7.2 \r\n\" style=\"fill:none;stroke:#000000;stroke-linecap:square;stroke-linejoin:miter;stroke-width:0.8;\"/>\r\n   </g>\r\n  </g>\r\n </g>\r\n <defs>\r\n  <clipPath id=\"pd90e5746cd\">\r\n   <rect height=\"217.44\" width=\"334.8\" x=\"26.925\" y=\"7.2\"/>\r\n  </clipPath>\r\n </defs>\r\n</svg>\r\n",
      "image/png": "[encoded data removed]"
     },
     "metadata": {
      "needs_background": "light"
     }
    }
   ],
   "source": [
    "plt.hist(data[['Salary']], 100)\n",
    "plt.show()"
   ]
  },
  {
   "cell_type": "code",
   "execution_count": 47,
   "metadata": {},
   "outputs": [
    {
     "output_type": "display_data",
     "data": {
      "text/plain": "<Figure size 432x288 with 1 Axes>",
      "image/svg+xml": "<?xml version=\"1.0\" encoding=\"utf-8\" standalone=\"no\"?>\r\n<!DOCTYPE svg PUBLIC \"-//W3C//DTD SVG 1.1//EN\"\r\n  \"http://www.w3.org/Graphics/SVG/1.1/DTD/svg11.dtd\">\r\n<svg height=\"248.518125pt\" version=\"1.1\" viewBox=\"0 0 368.925 248.518125\" width=\"368.925pt\" xmlns=\"http://www.w3.org/2000/svg\" xmlns:xlink=\"http://www.w3.org/1999/xlink\">\r\n <metadata>\r\n  <rdf:RDF xmlns:cc=\"http://creativecommons.org/ns#\" xmlns:dc=\"http://purl.org/dc/elements/1.1/\" xmlns:rdf=\"http://www.w3.org/1999/02/22-rdf-syntax-ns#\">\r\n   <cc:Work>\r\n    <dc:type rdf:resource=\"http://purl.org/dc/dcmitype/StillImage\"/>\r\n    <dc:date>2021-04-21T14:47:16.467439</dc:date>\r\n    <dc:format>image/svg+xml</dc:format>\r\n    <dc:creator>\r\n     <cc:Agent>\r\n      <dc:title>Matplotlib v3.4.0, https://matplotlib.org/</dc:title>\r\n     </cc:Agent>\r\n    </dc:creator>\r\n   </cc:Work>\r\n  </rdf:RDF>\r\n </metadata>\r\n <defs>\r\n  <style type=\"text/css\">*{stroke-linecap:butt;stroke-linejoin:round;}</style>\r\n </defs>\r\n <g id=\"figure_1\">\r\n  <g id=\"patch_1\">\r\n   <path d=\"M -0 248.518125 \r\nL 368.925 248.518125 \r\nL 368.925 0 \r\nL -0 0 \r\nz\r\n\" style=\"fill:none;\"/>\r\n  </g>\r\n  <g id=\"axes_1\">\r\n   <g id=\"patch_2\">\r\n    <path d=\"M 26.925 224.64 \r\nL 361.725 224.64 \r\nL 361.725 7.2 \r\nL 26.925 7.2 \r\nz\r\n\" style=\"fill:#ffffff;\"/>\r\n   </g>\r\n   <g id=\"patch_3\">\r\n    <path clip-path=\"url(#p28b45e5a93)\" d=\"M 42.143182 224.64 \r\nL 45.186818 224.64 \r\nL 45.186818 117.959481 \r\nL 42.143182 117.959481 \r\nz\r\n\" style=\"fill:#1f77b4;\"/>\r\n   </g>\r\n   <g id=\"patch_4\">\r\n    <path clip-path=\"url(#p28b45e5a93)\" d=\"M 45.186818 224.64 \r\nL 48.230455 224.64 \r\nL 48.230455 155.611429 \r\nL 45.186818 155.611429 \r\nz\r\n\" style=\"fill:#1f77b4;\"/>\r\n   </g>\r\n   <g id=\"patch_5\">\r\n    <path clip-path=\"url(#p28b45e5a93)\" d=\"M 48.230455 224.64 \r\nL 51.274091 224.64 \r\nL 51.274091 143.060779 \r\nL 48.230455 143.060779 \r\nz\r\n\" style=\"fill:#1f77b4;\"/>\r\n   </g>\r\n   <g id=\"patch_6\">\r\n    <path clip-path=\"url(#p28b45e5a93)\" d=\"M 51.274091 224.64 \r\nL 54.317727 224.64 \r\nL 54.317727 86.582857 \r\nL 51.274091 86.582857 \r\nz\r\n\" style=\"fill:#1f77b4;\"/>\r\n   </g>\r\n   <g id=\"patch_7\">\r\n    <path clip-path=\"url(#p28b45e5a93)\" d=\"M 54.317727 224.64 \r\nL 57.361364 224.64 \r\nL 57.361364 143.060779 \r\nL 54.317727 143.060779 \r\nz\r\n\" style=\"fill:#1f77b4;\"/>\r\n   </g>\r\n   <g id=\"patch_8\">\r\n    <path clip-path=\"url(#p28b45e5a93)\" d=\"M 57.361364 224.64 \r\nL 60.405 224.64 \r\nL 60.405 136.785455 \r\nL 57.361364 136.785455 \r\nz\r\n\" style=\"fill:#1f77b4;\"/>\r\n   </g>\r\n   <g id=\"patch_9\">\r\n    <path clip-path=\"url(#p28b45e5a93)\" d=\"M 60.405 224.64 \r\nL 63.448636 224.64 \r\nL 63.448636 48.930909 \r\nL 60.405 48.930909 \r\nz\r\n\" style=\"fill:#1f77b4;\"/>\r\n   </g>\r\n   <g id=\"patch_10\">\r\n    <path clip-path=\"url(#p28b45e5a93)\" d=\"M 63.448636 224.64 \r\nL 66.492273 224.64 \r\nL 66.492273 99.133506 \r\nL 63.448636 99.133506 \r\nz\r\n\" style=\"fill:#1f77b4;\"/>\r\n   </g>\r\n   <g id=\"patch_11\">\r\n    <path clip-path=\"url(#p28b45e5a93)\" d=\"M 66.492273 224.64 \r\nL 69.535909 224.64 \r\nL 69.535909 17.554286 \r\nL 66.492273 17.554286 \r\nz\r\n\" style=\"fill:#1f77b4;\"/>\r\n   </g>\r\n   <g id=\"patch_12\">\r\n    <path clip-path=\"url(#p28b45e5a93)\" d=\"M 69.535909 224.64 \r\nL 72.579545 224.64 \r\nL 72.579545 61.481558 \r\nL 69.535909 61.481558 \r\nz\r\n\" style=\"fill:#1f77b4;\"/>\r\n   </g>\r\n   <g id=\"patch_13\">\r\n    <path clip-path=\"url(#p28b45e5a93)\" d=\"M 72.579545 224.64 \r\nL 75.623182 224.64 \r\nL 75.623182 124.234805 \r\nL 72.579545 124.234805 \r\nz\r\n\" style=\"fill:#1f77b4;\"/>\r\n   </g>\r\n   <g id=\"patch_14\">\r\n    <path clip-path=\"url(#p28b45e5a93)\" d=\"M 75.623182 224.64 \r\nL 78.666818 224.64 \r\nL 78.666818 168.162078 \r\nL 75.623182 168.162078 \r\nz\r\n\" style=\"fill:#1f77b4;\"/>\r\n   </g>\r\n   <g id=\"patch_15\">\r\n    <path clip-path=\"url(#p28b45e5a93)\" d=\"M 78.666818 224.64 \r\nL 81.710455 224.64 \r\nL 81.710455 180.712727 \r\nL 78.666818 180.712727 \r\nz\r\n\" style=\"fill:#1f77b4;\"/>\r\n   </g>\r\n   <g id=\"patch_16\">\r\n    <path clip-path=\"url(#p28b45e5a93)\" d=\"M 81.710455 224.64 \r\nL 84.754091 224.64 \r\nL 84.754091 155.611429 \r\nL 81.710455 155.611429 \r\nz\r\n\" style=\"fill:#1f77b4;\"/>\r\n   </g>\r\n   <g id=\"patch_17\">\r\n    <path clip-path=\"url(#p28b45e5a93)\" d=\"M 84.754091 224.64 \r\nL 87.797727 224.64 \r\nL 87.797727 161.886753 \r\nL 84.754091 161.886753 \r\nz\r\n\" style=\"fill:#1f77b4;\"/>\r\n   </g>\r\n   <g id=\"patch_18\">\r\n    <path clip-path=\"url(#p28b45e5a93)\" d=\"M 87.797727 224.64 \r\nL 90.841364 224.64 \r\nL 90.841364 212.089351 \r\nL 87.797727 212.089351 \r\nz\r\n\" style=\"fill:#1f77b4;\"/>\r\n   </g>\r\n   <g id=\"patch_19\">\r\n    <path clip-path=\"url(#p28b45e5a93)\" d=\"M 90.841364 224.64 \r\nL 93.885 224.64 \r\nL 93.885 218.364675 \r\nL 90.841364 218.364675 \r\nz\r\n\" style=\"fill:#1f77b4;\"/>\r\n   </g>\r\n   <g id=\"patch_20\">\r\n    <path clip-path=\"url(#p28b45e5a93)\" d=\"M 93.885 224.64 \r\nL 96.928636 224.64 \r\nL 96.928636 212.089351 \r\nL 93.885 212.089351 \r\nz\r\n\" style=\"fill:#1f77b4;\"/>\r\n   </g>\r\n   <g id=\"patch_21\">\r\n    <path clip-path=\"url(#p28b45e5a93)\" d=\"M 96.928636 224.64 \r\nL 99.972273 224.64 \r\nL 99.972273 193.263377 \r\nL 96.928636 193.263377 \r\nz\r\n\" style=\"fill:#1f77b4;\"/>\r\n   </g>\r\n   <g id=\"patch_22\">\r\n    <path clip-path=\"url(#p28b45e5a93)\" d=\"M 99.972273 224.64 \r\nL 103.015909 224.64 \r\nL 103.015909 212.089351 \r\nL 99.972273 212.089351 \r\nz\r\n\" style=\"fill:#1f77b4;\"/>\r\n   </g>\r\n   <g id=\"patch_23\">\r\n    <path clip-path=\"url(#p28b45e5a93)\" d=\"M 103.015909 224.64 \r\nL 106.059545 224.64 \r\nL 106.059545 199.538701 \r\nL 103.015909 199.538701 \r\nz\r\n\" style=\"fill:#1f77b4;\"/>\r\n   </g>\r\n   <g id=\"patch_24\">\r\n    <path clip-path=\"url(#p28b45e5a93)\" d=\"M 106.059545 224.64 \r\nL 109.103182 224.64 \r\nL 109.103182 193.263377 \r\nL 106.059545 193.263377 \r\nz\r\n\" style=\"fill:#1f77b4;\"/>\r\n   </g>\r\n   <g id=\"patch_25\">\r\n    <path clip-path=\"url(#p28b45e5a93)\" d=\"M 109.103182 224.64 \r\nL 112.146818 224.64 \r\nL 112.146818 224.64 \r\nL 109.103182 224.64 \r\nz\r\n\" style=\"fill:#1f77b4;\"/>\r\n   </g>\r\n   <g id=\"patch_26\">\r\n    <path clip-path=\"url(#p28b45e5a93)\" d=\"M 112.146818 224.64 \r\nL 115.190455 224.64 \r\nL 115.190455 174.437403 \r\nL 112.146818 174.437403 \r\nz\r\n\" style=\"fill:#1f77b4;\"/>\r\n   </g>\r\n   <g id=\"patch_27\">\r\n    <path clip-path=\"url(#p28b45e5a93)\" d=\"M 115.190455 224.64 \r\nL 118.234091 224.64 \r\nL 118.234091 212.089351 \r\nL 115.190455 212.089351 \r\nz\r\n\" style=\"fill:#1f77b4;\"/>\r\n   </g>\r\n   <g id=\"patch_28\">\r\n    <path clip-path=\"url(#p28b45e5a93)\" d=\"M 118.234091 224.64 \r\nL 121.277727 224.64 \r\nL 121.277727 212.089351 \r\nL 118.234091 212.089351 \r\nz\r\n\" style=\"fill:#1f77b4;\"/>\r\n   </g>\r\n   <g id=\"patch_29\">\r\n    <path clip-path=\"url(#p28b45e5a93)\" d=\"M 121.277727 224.64 \r\nL 124.321364 224.64 \r\nL 124.321364 199.538701 \r\nL 121.277727 199.538701 \r\nz\r\n\" style=\"fill:#1f77b4;\"/>\r\n   </g>\r\n   <g id=\"patch_30\">\r\n    <path clip-path=\"url(#p28b45e5a93)\" d=\"M 124.321364 224.64 \r\nL 127.365 224.64 \r\nL 127.365 212.089351 \r\nL 124.321364 212.089351 \r\nz\r\n\" style=\"fill:#1f77b4;\"/>\r\n   </g>\r\n   <g id=\"patch_31\">\r\n    <path clip-path=\"url(#p28b45e5a93)\" d=\"M 127.365 224.64 \r\nL 130.408636 224.64 \r\nL 130.408636 212.089351 \r\nL 127.365 212.089351 \r\nz\r\n\" style=\"fill:#1f77b4;\"/>\r\n   </g>\r\n   <g id=\"patch_32\">\r\n    <path clip-path=\"url(#p28b45e5a93)\" d=\"M 130.408636 224.64 \r\nL 133.452273 224.64 \r\nL 133.452273 205.814026 \r\nL 130.408636 205.814026 \r\nz\r\n\" style=\"fill:#1f77b4;\"/>\r\n   </g>\r\n   <g id=\"patch_33\">\r\n    <path clip-path=\"url(#p28b45e5a93)\" d=\"M 133.452273 224.64 \r\nL 136.495909 224.64 \r\nL 136.495909 218.364675 \r\nL 133.452273 218.364675 \r\nz\r\n\" style=\"fill:#1f77b4;\"/>\r\n   </g>\r\n   <g id=\"patch_34\">\r\n    <path clip-path=\"url(#p28b45e5a93)\" d=\"M 136.495909 224.64 \r\nL 139.539545 224.64 \r\nL 139.539545 212.089351 \r\nL 136.495909 212.089351 \r\nz\r\n\" style=\"fill:#1f77b4;\"/>\r\n   </g>\r\n   <g id=\"patch_35\">\r\n    <path clip-path=\"url(#p28b45e5a93)\" d=\"M 139.539545 224.64 \r\nL 142.583182 224.64 \r\nL 142.583182 218.364675 \r\nL 139.539545 218.364675 \r\nz\r\n\" style=\"fill:#1f77b4;\"/>\r\n   </g>\r\n   <g id=\"patch_36\">\r\n    <path clip-path=\"url(#p28b45e5a93)\" d=\"M 142.583182 224.64 \r\nL 145.626818 224.64 \r\nL 145.626818 218.364675 \r\nL 142.583182 218.364675 \r\nz\r\n\" style=\"fill:#1f77b4;\"/>\r\n   </g>\r\n   <g id=\"patch_37\">\r\n    <path clip-path=\"url(#p28b45e5a93)\" d=\"M 145.626818 224.64 \r\nL 148.670455 224.64 \r\nL 148.670455 218.364675 \r\nL 145.626818 218.364675 \r\nz\r\n\" style=\"fill:#1f77b4;\"/>\r\n   </g>\r\n   <g id=\"patch_38\">\r\n    <path clip-path=\"url(#p28b45e5a93)\" d=\"M 148.670455 224.64 \r\nL 151.714091 224.64 \r\nL 151.714091 224.64 \r\nL 148.670455 224.64 \r\nz\r\n\" style=\"fill:#1f77b4;\"/>\r\n   </g>\r\n   <g id=\"patch_39\">\r\n    <path clip-path=\"url(#p28b45e5a93)\" d=\"M 151.714091 224.64 \r\nL 154.757727 224.64 \r\nL 154.757727 218.364675 \r\nL 151.714091 218.364675 \r\nz\r\n\" style=\"fill:#1f77b4;\"/>\r\n   </g>\r\n   <g id=\"patch_40\">\r\n    <path clip-path=\"url(#p28b45e5a93)\" d=\"M 154.757727 224.64 \r\nL 157.801364 224.64 \r\nL 157.801364 224.64 \r\nL 154.757727 224.64 \r\nz\r\n\" style=\"fill:#1f77b4;\"/>\r\n   </g>\r\n   <g id=\"patch_41\">\r\n    <path clip-path=\"url(#p28b45e5a93)\" d=\"M 157.801364 224.64 \r\nL 160.845 224.64 \r\nL 160.845 224.64 \r\nL 157.801364 224.64 \r\nz\r\n\" style=\"fill:#1f77b4;\"/>\r\n   </g>\r\n   <g id=\"patch_42\">\r\n    <path clip-path=\"url(#p28b45e5a93)\" d=\"M 160.845 224.64 \r\nL 163.888636 224.64 \r\nL 163.888636 224.64 \r\nL 160.845 224.64 \r\nz\r\n\" style=\"fill:#1f77b4;\"/>\r\n   </g>\r\n   <g id=\"patch_43\">\r\n    <path clip-path=\"url(#p28b45e5a93)\" d=\"M 163.888636 224.64 \r\nL 166.932273 224.64 \r\nL 166.932273 224.64 \r\nL 163.888636 224.64 \r\nz\r\n\" style=\"fill:#1f77b4;\"/>\r\n   </g>\r\n   <g id=\"patch_44\">\r\n    <path clip-path=\"url(#p28b45e5a93)\" d=\"M 166.932273 224.64 \r\nL 169.975909 224.64 \r\nL 169.975909 224.64 \r\nL 166.932273 224.64 \r\nz\r\n\" style=\"fill:#1f77b4;\"/>\r\n   </g>\r\n   <g id=\"patch_45\">\r\n    <path clip-path=\"url(#p28b45e5a93)\" d=\"M 169.975909 224.64 \r\nL 173.019545 224.64 \r\nL 173.019545 224.64 \r\nL 169.975909 224.64 \r\nz\r\n\" style=\"fill:#1f77b4;\"/>\r\n   </g>\r\n   <g id=\"patch_46\">\r\n    <path clip-path=\"url(#p28b45e5a93)\" d=\"M 173.019545 224.64 \r\nL 176.063182 224.64 \r\nL 176.063182 224.64 \r\nL 173.019545 224.64 \r\nz\r\n\" style=\"fill:#1f77b4;\"/>\r\n   </g>\r\n   <g id=\"patch_47\">\r\n    <path clip-path=\"url(#p28b45e5a93)\" d=\"M 176.063182 224.64 \r\nL 179.106818 224.64 \r\nL 179.106818 224.64 \r\nL 176.063182 224.64 \r\nz\r\n\" style=\"fill:#1f77b4;\"/>\r\n   </g>\r\n   <g id=\"patch_48\">\r\n    <path clip-path=\"url(#p28b45e5a93)\" d=\"M 179.106818 224.64 \r\nL 182.150455 224.64 \r\nL 182.150455 218.364675 \r\nL 179.106818 218.364675 \r\nz\r\n\" style=\"fill:#1f77b4;\"/>\r\n   </g>\r\n   <g id=\"patch_49\">\r\n    <path clip-path=\"url(#p28b45e5a93)\" d=\"M 182.150455 224.64 \r\nL 185.194091 224.64 \r\nL 185.194091 218.364675 \r\nL 182.150455 218.364675 \r\nz\r\n\" style=\"fill:#1f77b4;\"/>\r\n   </g>\r\n   <g id=\"patch_50\">\r\n    <path clip-path=\"url(#p28b45e5a93)\" d=\"M 185.194091 224.64 \r\nL 188.237727 224.64 \r\nL 188.237727 224.64 \r\nL 185.194091 224.64 \r\nz\r\n\" style=\"fill:#1f77b4;\"/>\r\n   </g>\r\n   <g id=\"patch_51\">\r\n    <path clip-path=\"url(#p28b45e5a93)\" d=\"M 188.237727 224.64 \r\nL 191.281364 224.64 \r\nL 191.281364 224.64 \r\nL 188.237727 224.64 \r\nz\r\n\" style=\"fill:#1f77b4;\"/>\r\n   </g>\r\n   <g id=\"patch_52\">\r\n    <path clip-path=\"url(#p28b45e5a93)\" d=\"M 191.281364 224.64 \r\nL 194.325 224.64 \r\nL 194.325 224.64 \r\nL 191.281364 224.64 \r\nz\r\n\" style=\"fill:#1f77b4;\"/>\r\n   </g>\r\n   <g id=\"patch_53\">\r\n    <path clip-path=\"url(#p28b45e5a93)\" d=\"M 194.325 224.64 \r\nL 197.368636 224.64 \r\nL 197.368636 218.364675 \r\nL 194.325 218.364675 \r\nz\r\n\" style=\"fill:#1f77b4;\"/>\r\n   </g>\r\n   <g id=\"patch_54\">\r\n    <path clip-path=\"url(#p28b45e5a93)\" d=\"M 197.368636 224.64 \r\nL 200.412273 224.64 \r\nL 200.412273 218.364675 \r\nL 197.368636 218.364675 \r\nz\r\n\" style=\"fill:#1f77b4;\"/>\r\n   </g>\r\n   <g id=\"patch_55\">\r\n    <path clip-path=\"url(#p28b45e5a93)\" d=\"M 200.412273 224.64 \r\nL 203.455909 224.64 \r\nL 203.455909 224.64 \r\nL 200.412273 224.64 \r\nz\r\n\" style=\"fill:#1f77b4;\"/>\r\n   </g>\r\n   <g id=\"patch_56\">\r\n    <path clip-path=\"url(#p28b45e5a93)\" d=\"M 203.455909 224.64 \r\nL 206.499545 224.64 \r\nL 206.499545 224.64 \r\nL 203.455909 224.64 \r\nz\r\n\" style=\"fill:#1f77b4;\"/>\r\n   </g>\r\n   <g id=\"patch_57\">\r\n    <path clip-path=\"url(#p28b45e5a93)\" d=\"M 206.499545 224.64 \r\nL 209.543182 224.64 \r\nL 209.543182 218.364675 \r\nL 206.499545 218.364675 \r\nz\r\n\" style=\"fill:#1f77b4;\"/>\r\n   </g>\r\n   <g id=\"patch_58\">\r\n    <path clip-path=\"url(#p28b45e5a93)\" d=\"M 209.543182 224.64 \r\nL 212.586818 224.64 \r\nL 212.586818 224.64 \r\nL 209.543182 224.64 \r\nz\r\n\" style=\"fill:#1f77b4;\"/>\r\n   </g>\r\n   <g id=\"patch_59\">\r\n    <path clip-path=\"url(#p28b45e5a93)\" d=\"M 212.586818 224.64 \r\nL 215.630455 224.64 \r\nL 215.630455 224.64 \r\nL 212.586818 224.64 \r\nz\r\n\" style=\"fill:#1f77b4;\"/>\r\n   </g>\r\n   <g id=\"patch_60\">\r\n    <path clip-path=\"url(#p28b45e5a93)\" d=\"M 215.630455 224.64 \r\nL 218.674091 224.64 \r\nL 218.674091 224.64 \r\nL 215.630455 224.64 \r\nz\r\n\" style=\"fill:#1f77b4;\"/>\r\n   </g>\r\n   <g id=\"patch_61\">\r\n    <path clip-path=\"url(#p28b45e5a93)\" d=\"M 218.674091 224.64 \r\nL 221.717727 224.64 \r\nL 221.717727 224.64 \r\nL 218.674091 224.64 \r\nz\r\n\" style=\"fill:#1f77b4;\"/>\r\n   </g>\r\n   <g id=\"patch_62\">\r\n    <path clip-path=\"url(#p28b45e5a93)\" d=\"M 221.717727 224.64 \r\nL 224.761364 224.64 \r\nL 224.761364 224.64 \r\nL 221.717727 224.64 \r\nz\r\n\" style=\"fill:#1f77b4;\"/>\r\n   </g>\r\n   <g id=\"patch_63\">\r\n    <path clip-path=\"url(#p28b45e5a93)\" d=\"M 224.761364 224.64 \r\nL 227.805 224.64 \r\nL 227.805 224.64 \r\nL 224.761364 224.64 \r\nz\r\n\" style=\"fill:#1f77b4;\"/>\r\n   </g>\r\n   <g id=\"patch_64\">\r\n    <path clip-path=\"url(#p28b45e5a93)\" d=\"M 227.805 224.64 \r\nL 230.848636 224.64 \r\nL 230.848636 218.364675 \r\nL 227.805 218.364675 \r\nz\r\n\" style=\"fill:#1f77b4;\"/>\r\n   </g>\r\n   <g id=\"patch_65\">\r\n    <path clip-path=\"url(#p28b45e5a93)\" d=\"M 230.848636 224.64 \r\nL 233.892273 224.64 \r\nL 233.892273 224.64 \r\nL 230.848636 224.64 \r\nz\r\n\" style=\"fill:#1f77b4;\"/>\r\n   </g>\r\n   <g id=\"patch_66\">\r\n    <path clip-path=\"url(#p28b45e5a93)\" d=\"M 233.892273 224.64 \r\nL 236.935909 224.64 \r\nL 236.935909 224.64 \r\nL 233.892273 224.64 \r\nz\r\n\" style=\"fill:#1f77b4;\"/>\r\n   </g>\r\n   <g id=\"patch_67\">\r\n    <path clip-path=\"url(#p28b45e5a93)\" d=\"M 236.935909 224.64 \r\nL 239.979545 224.64 \r\nL 239.979545 218.364675 \r\nL 236.935909 218.364675 \r\nz\r\n\" style=\"fill:#1f77b4;\"/>\r\n   </g>\r\n   <g id=\"patch_68\">\r\n    <path clip-path=\"url(#p28b45e5a93)\" d=\"M 239.979545 224.64 \r\nL 243.023182 224.64 \r\nL 243.023182 218.364675 \r\nL 239.979545 218.364675 \r\nz\r\n\" style=\"fill:#1f77b4;\"/>\r\n   </g>\r\n   <g id=\"patch_69\">\r\n    <path clip-path=\"url(#p28b45e5a93)\" d=\"M 243.023182 224.64 \r\nL 246.066818 224.64 \r\nL 246.066818 224.64 \r\nL 243.023182 224.64 \r\nz\r\n\" style=\"fill:#1f77b4;\"/>\r\n   </g>\r\n   <g id=\"patch_70\">\r\n    <path clip-path=\"url(#p28b45e5a93)\" d=\"M 246.066818 224.64 \r\nL 249.110455 224.64 \r\nL 249.110455 224.64 \r\nL 246.066818 224.64 \r\nz\r\n\" style=\"fill:#1f77b4;\"/>\r\n   </g>\r\n   <g id=\"patch_71\">\r\n    <path clip-path=\"url(#p28b45e5a93)\" d=\"M 249.110455 224.64 \r\nL 252.154091 224.64 \r\nL 252.154091 224.64 \r\nL 249.110455 224.64 \r\nz\r\n\" style=\"fill:#1f77b4;\"/>\r\n   </g>\r\n   <g id=\"patch_72\">\r\n    <path clip-path=\"url(#p28b45e5a93)\" d=\"M 252.154091 224.64 \r\nL 255.197727 224.64 \r\nL 255.197727 224.64 \r\nL 252.154091 224.64 \r\nz\r\n\" style=\"fill:#1f77b4;\"/>\r\n   </g>\r\n   <g id=\"patch_73\">\r\n    <path clip-path=\"url(#p28b45e5a93)\" d=\"M 255.197727 224.64 \r\nL 258.241364 224.64 \r\nL 258.241364 224.64 \r\nL 255.197727 224.64 \r\nz\r\n\" style=\"fill:#1f77b4;\"/>\r\n   </g>\r\n   <g id=\"patch_74\">\r\n    <path clip-path=\"url(#p28b45e5a93)\" d=\"M 258.241364 224.64 \r\nL 261.285 224.64 \r\nL 261.285 224.64 \r\nL 258.241364 224.64 \r\nz\r\n\" style=\"fill:#1f77b4;\"/>\r\n   </g>\r\n   <g id=\"patch_75\">\r\n    <path clip-path=\"url(#p28b45e5a93)\" d=\"M 261.285 224.64 \r\nL 264.328636 224.64 \r\nL 264.328636 224.64 \r\nL 261.285 224.64 \r\nz\r\n\" style=\"fill:#1f77b4;\"/>\r\n   </g>\r\n   <g id=\"patch_76\">\r\n    <path clip-path=\"url(#p28b45e5a93)\" d=\"M 264.328636 224.64 \r\nL 267.372273 224.64 \r\nL 267.372273 224.64 \r\nL 264.328636 224.64 \r\nz\r\n\" style=\"fill:#1f77b4;\"/>\r\n   </g>\r\n   <g id=\"patch_77\">\r\n    <path clip-path=\"url(#p28b45e5a93)\" d=\"M 267.372273 224.64 \r\nL 270.415909 224.64 \r\nL 270.415909 224.64 \r\nL 267.372273 224.64 \r\nz\r\n\" style=\"fill:#1f77b4;\"/>\r\n   </g>\r\n   <g id=\"patch_78\">\r\n    <path clip-path=\"url(#p28b45e5a93)\" d=\"M 270.415909 224.64 \r\nL 273.459545 224.64 \r\nL 273.459545 224.64 \r\nL 270.415909 224.64 \r\nz\r\n\" style=\"fill:#1f77b4;\"/>\r\n   </g>\r\n   <g id=\"patch_79\">\r\n    <path clip-path=\"url(#p28b45e5a93)\" d=\"M 273.459545 224.64 \r\nL 276.503182 224.64 \r\nL 276.503182 224.64 \r\nL 273.459545 224.64 \r\nz\r\n\" style=\"fill:#1f77b4;\"/>\r\n   </g>\r\n   <g id=\"patch_80\">\r\n    <path clip-path=\"url(#p28b45e5a93)\" d=\"M 276.503182 224.64 \r\nL 279.546818 224.64 \r\nL 279.546818 224.64 \r\nL 276.503182 224.64 \r\nz\r\n\" style=\"fill:#1f77b4;\"/>\r\n   </g>\r\n   <g id=\"patch_81\">\r\n    <path clip-path=\"url(#p28b45e5a93)\" d=\"M 279.546818 224.64 \r\nL 282.590455 224.64 \r\nL 282.590455 224.64 \r\nL 279.546818 224.64 \r\nz\r\n\" style=\"fill:#1f77b4;\"/>\r\n   </g>\r\n   <g id=\"patch_82\">\r\n    <path clip-path=\"url(#p28b45e5a93)\" d=\"M 282.590455 224.64 \r\nL 285.634091 224.64 \r\nL 285.634091 224.64 \r\nL 282.590455 224.64 \r\nz\r\n\" style=\"fill:#1f77b4;\"/>\r\n   </g>\r\n   <g id=\"patch_83\">\r\n    <path clip-path=\"url(#p28b45e5a93)\" d=\"M 285.634091 224.64 \r\nL 288.677727 224.64 \r\nL 288.677727 224.64 \r\nL 285.634091 224.64 \r\nz\r\n\" style=\"fill:#1f77b4;\"/>\r\n   </g>\r\n   <g id=\"patch_84\">\r\n    <path clip-path=\"url(#p28b45e5a93)\" d=\"M 288.677727 224.64 \r\nL 291.721364 224.64 \r\nL 291.721364 224.64 \r\nL 288.677727 224.64 \r\nz\r\n\" style=\"fill:#1f77b4;\"/>\r\n   </g>\r\n   <g id=\"patch_85\">\r\n    <path clip-path=\"url(#p28b45e5a93)\" d=\"M 291.721364 224.64 \r\nL 294.765 224.64 \r\nL 294.765 224.64 \r\nL 291.721364 224.64 \r\nz\r\n\" style=\"fill:#1f77b4;\"/>\r\n   </g>\r\n   <g id=\"patch_86\">\r\n    <path clip-path=\"url(#p28b45e5a93)\" d=\"M 294.765 224.64 \r\nL 297.808636 224.64 \r\nL 297.808636 224.64 \r\nL 294.765 224.64 \r\nz\r\n\" style=\"fill:#1f77b4;\"/>\r\n   </g>\r\n   <g id=\"patch_87\">\r\n    <path clip-path=\"url(#p28b45e5a93)\" d=\"M 297.808636 224.64 \r\nL 300.852273 224.64 \r\nL 300.852273 224.64 \r\nL 297.808636 224.64 \r\nz\r\n\" style=\"fill:#1f77b4;\"/>\r\n   </g>\r\n   <g id=\"patch_88\">\r\n    <path clip-path=\"url(#p28b45e5a93)\" d=\"M 300.852273 224.64 \r\nL 303.895909 224.64 \r\nL 303.895909 218.364675 \r\nL 300.852273 218.364675 \r\nz\r\n\" style=\"fill:#1f77b4;\"/>\r\n   </g>\r\n   <g id=\"patch_89\">\r\n    <path clip-path=\"url(#p28b45e5a93)\" d=\"M 303.895909 224.64 \r\nL 306.939545 224.64 \r\nL 306.939545 224.64 \r\nL 303.895909 224.64 \r\nz\r\n\" style=\"fill:#1f77b4;\"/>\r\n   </g>\r\n   <g id=\"patch_90\">\r\n    <path clip-path=\"url(#p28b45e5a93)\" d=\"M 306.939545 224.64 \r\nL 309.983182 224.64 \r\nL 309.983182 224.64 \r\nL 306.939545 224.64 \r\nz\r\n\" style=\"fill:#1f77b4;\"/>\r\n   </g>\r\n   <g id=\"patch_91\">\r\n    <path clip-path=\"url(#p28b45e5a93)\" d=\"M 309.983182 224.64 \r\nL 313.026818 224.64 \r\nL 313.026818 224.64 \r\nL 309.983182 224.64 \r\nz\r\n\" style=\"fill:#1f77b4;\"/>\r\n   </g>\r\n   <g id=\"patch_92\">\r\n    <path clip-path=\"url(#p28b45e5a93)\" d=\"M 313.026818 224.64 \r\nL 316.070455 224.64 \r\nL 316.070455 224.64 \r\nL 313.026818 224.64 \r\nz\r\n\" style=\"fill:#1f77b4;\"/>\r\n   </g>\r\n   <g id=\"patch_93\">\r\n    <path clip-path=\"url(#p28b45e5a93)\" d=\"M 316.070455 224.64 \r\nL 319.114091 224.64 \r\nL 319.114091 224.64 \r\nL 316.070455 224.64 \r\nz\r\n\" style=\"fill:#1f77b4;\"/>\r\n   </g>\r\n   <g id=\"patch_94\">\r\n    <path clip-path=\"url(#p28b45e5a93)\" d=\"M 319.114091 224.64 \r\nL 322.157727 224.64 \r\nL 322.157727 224.64 \r\nL 319.114091 224.64 \r\nz\r\n\" style=\"fill:#1f77b4;\"/>\r\n   </g>\r\n   <g id=\"patch_95\">\r\n    <path clip-path=\"url(#p28b45e5a93)\" d=\"M 322.157727 224.64 \r\nL 325.201364 224.64 \r\nL 325.201364 224.64 \r\nL 322.157727 224.64 \r\nz\r\n\" style=\"fill:#1f77b4;\"/>\r\n   </g>\r\n   <g id=\"patch_96\">\r\n    <path clip-path=\"url(#p28b45e5a93)\" d=\"M 325.201364 224.64 \r\nL 328.245 224.64 \r\nL 328.245 224.64 \r\nL 325.201364 224.64 \r\nz\r\n\" style=\"fill:#1f77b4;\"/>\r\n   </g>\r\n   <g id=\"patch_97\">\r\n    <path clip-path=\"url(#p28b45e5a93)\" d=\"M 328.245 224.64 \r\nL 331.288636 224.64 \r\nL 331.288636 224.64 \r\nL 328.245 224.64 \r\nz\r\n\" style=\"fill:#1f77b4;\"/>\r\n   </g>\r\n   <g id=\"patch_98\">\r\n    <path clip-path=\"url(#p28b45e5a93)\" d=\"M 331.288636 224.64 \r\nL 334.332273 224.64 \r\nL 334.332273 224.64 \r\nL 331.288636 224.64 \r\nz\r\n\" style=\"fill:#1f77b4;\"/>\r\n   </g>\r\n   <g id=\"patch_99\">\r\n    <path clip-path=\"url(#p28b45e5a93)\" d=\"M 334.332273 224.64 \r\nL 337.375909 224.64 \r\nL 337.375909 224.64 \r\nL 334.332273 224.64 \r\nz\r\n\" style=\"fill:#1f77b4;\"/>\r\n   </g>\r\n   <g id=\"patch_100\">\r\n    <path clip-path=\"url(#p28b45e5a93)\" d=\"M 337.375909 224.64 \r\nL 340.419545 224.64 \r\nL 340.419545 224.64 \r\nL 337.375909 224.64 \r\nz\r\n\" style=\"fill:#1f77b4;\"/>\r\n   </g>\r\n   <g id=\"patch_101\">\r\n    <path clip-path=\"url(#p28b45e5a93)\" d=\"M 340.419545 224.64 \r\nL 343.463182 224.64 \r\nL 343.463182 224.64 \r\nL 340.419545 224.64 \r\nz\r\n\" style=\"fill:#1f77b4;\"/>\r\n   </g>\r\n   <g id=\"patch_102\">\r\n    <path clip-path=\"url(#p28b45e5a93)\" d=\"M 343.463182 224.64 \r\nL 346.506818 224.64 \r\nL 346.506818 218.364675 \r\nL 343.463182 218.364675 \r\nz\r\n\" style=\"fill:#1f77b4;\"/>\r\n   </g>\r\n   <g id=\"matplotlib.axis_1\">\r\n    <g id=\"xtick_1\">\r\n     <g id=\"line2d_1\">\r\n      <defs>\r\n       <path d=\"M 0 0 \r\nL 0 3.5 \r\n\" id=\"mb0a88bdb33\" style=\"stroke:#000000;stroke-width:0.8;\"/>\r\n      </defs>\r\n      <g>\r\n       <use style=\"stroke:#000000;stroke-width:0.8;\" x=\"42.143182\" xlink:href=\"#mb0a88bdb33\" y=\"224.64\"/>\r\n      </g>\r\n     </g>\r\n     <g id=\"text_1\">\r\n      <!-- 0.0 -->\r\n      <g transform=\"translate(34.191619 239.238437)scale(0.1 -0.1)\">\r\n       <defs>\r\n        <path d=\"M 2034 4250 \r\nQ 1547 4250 1301 3770 \r\nQ 1056 3291 1056 2328 \r\nQ 1056 1369 1301 889 \r\nQ 1547 409 2034 409 \r\nQ 2525 409 2770 889 \r\nQ 3016 1369 3016 2328 \r\nQ 3016 3291 2770 3770 \r\nQ 2525 4250 2034 4250 \r\nz\r\nM 2034 4750 \r\nQ 2819 4750 3233 4129 \r\nQ 3647 3509 3647 2328 \r\nQ 3647 1150 3233 529 \r\nQ 2819 -91 2034 -91 \r\nQ 1250 -91 836 529 \r\nQ 422 1150 422 2328 \r\nQ 422 3509 836 4129 \r\nQ 1250 4750 2034 4750 \r\nz\r\n\" id=\"DejaVuSans-30\" transform=\"scale(0.015625)\"/>\r\n        <path d=\"M 684 794 \r\nL 1344 794 \r\nL 1344 0 \r\nL 684 0 \r\nL 684 794 \r\nz\r\n\" id=\"DejaVuSans-2e\" transform=\"scale(0.015625)\"/>\r\n       </defs>\r\n       <use xlink:href=\"#DejaVuSans-30\"/>\r\n       <use x=\"63.623047\" xlink:href=\"#DejaVuSans-2e\"/>\r\n       <use x=\"95.410156\" xlink:href=\"#DejaVuSans-30\"/>\r\n      </g>\r\n     </g>\r\n    </g>\r\n    <g id=\"xtick_2\">\r\n     <g id=\"line2d_2\">\r\n      <g>\r\n       <use style=\"stroke:#000000;stroke-width:0.8;\" x=\"103.015909\" xlink:href=\"#mb0a88bdb33\" y=\"224.64\"/>\r\n      </g>\r\n     </g>\r\n     <g id=\"text_2\">\r\n      <!-- 0.2 -->\r\n      <g transform=\"translate(95.064347 239.238437)scale(0.1 -0.1)\">\r\n       <defs>\r\n        <path d=\"M 1228 531 \r\nL 3431 531 \r\nL 3431 0 \r\nL 469 0 \r\nL 469 531 \r\nQ 828 903 1448 1529 \r\nQ 2069 2156 2228 2338 \r\nQ 2531 2678 2651 2914 \r\nQ 2772 3150 2772 3378 \r\nQ 2772 3750 2511 3984 \r\nQ 2250 4219 1831 4219 \r\nQ 1534 4219 1204 4116 \r\nQ 875 4013 500 3803 \r\nL 500 4441 \r\nQ 881 4594 1212 4672 \r\nQ 1544 4750 1819 4750 \r\nQ 2544 4750 2975 4387 \r\nQ 3406 4025 3406 3419 \r\nQ 3406 3131 3298 2873 \r\nQ 3191 2616 2906 2266 \r\nQ 2828 2175 2409 1742 \r\nQ 1991 1309 1228 531 \r\nz\r\n\" id=\"DejaVuSans-32\" transform=\"scale(0.015625)\"/>\r\n       </defs>\r\n       <use xlink:href=\"#DejaVuSans-30\"/>\r\n       <use x=\"63.623047\" xlink:href=\"#DejaVuSans-2e\"/>\r\n       <use x=\"95.410156\" xlink:href=\"#DejaVuSans-32\"/>\r\n      </g>\r\n     </g>\r\n    </g>\r\n    <g id=\"xtick_3\">\r\n     <g id=\"line2d_3\">\r\n      <g>\r\n       <use style=\"stroke:#000000;stroke-width:0.8;\" x=\"163.888636\" xlink:href=\"#mb0a88bdb33\" y=\"224.64\"/>\r\n      </g>\r\n     </g>\r\n     <g id=\"text_3\">\r\n      <!-- 0.4 -->\r\n      <g transform=\"translate(155.937074 239.238437)scale(0.1 -0.1)\">\r\n       <defs>\r\n        <path d=\"M 2419 4116 \r\nL 825 1625 \r\nL 2419 1625 \r\nL 2419 4116 \r\nz\r\nM 2253 4666 \r\nL 3047 4666 \r\nL 3047 1625 \r\nL 3713 1625 \r\nL 3713 1100 \r\nL 3047 1100 \r\nL 3047 0 \r\nL 2419 0 \r\nL 2419 1100 \r\nL 313 1100 \r\nL 313 1709 \r\nL 2253 4666 \r\nz\r\n\" id=\"DejaVuSans-34\" transform=\"scale(0.015625)\"/>\r\n       </defs>\r\n       <use xlink:href=\"#DejaVuSans-30\"/>\r\n       <use x=\"63.623047\" xlink:href=\"#DejaVuSans-2e\"/>\r\n       <use x=\"95.410156\" xlink:href=\"#DejaVuSans-34\"/>\r\n      </g>\r\n     </g>\r\n    </g>\r\n    <g id=\"xtick_4\">\r\n     <g id=\"line2d_4\">\r\n      <g>\r\n       <use style=\"stroke:#000000;stroke-width:0.8;\" x=\"224.761364\" xlink:href=\"#mb0a88bdb33\" y=\"224.64\"/>\r\n      </g>\r\n     </g>\r\n     <g id=\"text_4\">\r\n      <!-- 0.6 -->\r\n      <g transform=\"translate(216.809801 239.238437)scale(0.1 -0.1)\">\r\n       <defs>\r\n        <path d=\"M 2113 2584 \r\nQ 1688 2584 1439 2293 \r\nQ 1191 2003 1191 1497 \r\nQ 1191 994 1439 701 \r\nQ 1688 409 2113 409 \r\nQ 2538 409 2786 701 \r\nQ 3034 994 3034 1497 \r\nQ 3034 2003 2786 2293 \r\nQ 2538 2584 2113 2584 \r\nz\r\nM 3366 4563 \r\nL 3366 3988 \r\nQ 3128 4100 2886 4159 \r\nQ 2644 4219 2406 4219 \r\nQ 1781 4219 1451 3797 \r\nQ 1122 3375 1075 2522 \r\nQ 1259 2794 1537 2939 \r\nQ 1816 3084 2150 3084 \r\nQ 2853 3084 3261 2657 \r\nQ 3669 2231 3669 1497 \r\nQ 3669 778 3244 343 \r\nQ 2819 -91 2113 -91 \r\nQ 1303 -91 875 529 \r\nQ 447 1150 447 2328 \r\nQ 447 3434 972 4092 \r\nQ 1497 4750 2381 4750 \r\nQ 2619 4750 2861 4703 \r\nQ 3103 4656 3366 4563 \r\nz\r\n\" id=\"DejaVuSans-36\" transform=\"scale(0.015625)\"/>\r\n       </defs>\r\n       <use xlink:href=\"#DejaVuSans-30\"/>\r\n       <use x=\"63.623047\" xlink:href=\"#DejaVuSans-2e\"/>\r\n       <use x=\"95.410156\" xlink:href=\"#DejaVuSans-36\"/>\r\n      </g>\r\n     </g>\r\n    </g>\r\n    <g id=\"xtick_5\">\r\n     <g id=\"line2d_5\">\r\n      <g>\r\n       <use style=\"stroke:#000000;stroke-width:0.8;\" x=\"285.634091\" xlink:href=\"#mb0a88bdb33\" y=\"224.64\"/>\r\n      </g>\r\n     </g>\r\n     <g id=\"text_5\">\r\n      <!-- 0.8 -->\r\n      <g transform=\"translate(277.682528 239.238437)scale(0.1 -0.1)\">\r\n       <defs>\r\n        <path d=\"M 2034 2216 \r\nQ 1584 2216 1326 1975 \r\nQ 1069 1734 1069 1313 \r\nQ 1069 891 1326 650 \r\nQ 1584 409 2034 409 \r\nQ 2484 409 2743 651 \r\nQ 3003 894 3003 1313 \r\nQ 3003 1734 2745 1975 \r\nQ 2488 2216 2034 2216 \r\nz\r\nM 1403 2484 \r\nQ 997 2584 770 2862 \r\nQ 544 3141 544 3541 \r\nQ 544 4100 942 4425 \r\nQ 1341 4750 2034 4750 \r\nQ 2731 4750 3128 4425 \r\nQ 3525 4100 3525 3541 \r\nQ 3525 3141 3298 2862 \r\nQ 3072 2584 2669 2484 \r\nQ 3125 2378 3379 2068 \r\nQ 3634 1759 3634 1313 \r\nQ 3634 634 3220 271 \r\nQ 2806 -91 2034 -91 \r\nQ 1263 -91 848 271 \r\nQ 434 634 434 1313 \r\nQ 434 1759 690 2068 \r\nQ 947 2378 1403 2484 \r\nz\r\nM 1172 3481 \r\nQ 1172 3119 1398 2916 \r\nQ 1625 2713 2034 2713 \r\nQ 2441 2713 2670 2916 \r\nQ 2900 3119 2900 3481 \r\nQ 2900 3844 2670 4047 \r\nQ 2441 4250 2034 4250 \r\nQ 1625 4250 1398 4047 \r\nQ 1172 3844 1172 3481 \r\nz\r\n\" id=\"DejaVuSans-38\" transform=\"scale(0.015625)\"/>\r\n       </defs>\r\n       <use xlink:href=\"#DejaVuSans-30\"/>\r\n       <use x=\"63.623047\" xlink:href=\"#DejaVuSans-2e\"/>\r\n       <use x=\"95.410156\" xlink:href=\"#DejaVuSans-38\"/>\r\n      </g>\r\n     </g>\r\n    </g>\r\n    <g id=\"xtick_6\">\r\n     <g id=\"line2d_6\">\r\n      <g>\r\n       <use style=\"stroke:#000000;stroke-width:0.8;\" x=\"346.506818\" xlink:href=\"#mb0a88bdb33\" y=\"224.64\"/>\r\n      </g>\r\n     </g>\r\n     <g id=\"text_6\">\r\n      <!-- 1.0 -->\r\n      <g transform=\"translate(338.555256 239.238437)scale(0.1 -0.1)\">\r\n       <defs>\r\n        <path d=\"M 794 531 \r\nL 1825 531 \r\nL 1825 4091 \r\nL 703 3866 \r\nL 703 4441 \r\nL 1819 4666 \r\nL 2450 4666 \r\nL 2450 531 \r\nL 3481 531 \r\nL 3481 0 \r\nL 794 0 \r\nL 794 531 \r\nz\r\n\" id=\"DejaVuSans-31\" transform=\"scale(0.015625)\"/>\r\n       </defs>\r\n       <use xlink:href=\"#DejaVuSans-31\"/>\r\n       <use x=\"63.623047\" xlink:href=\"#DejaVuSans-2e\"/>\r\n       <use x=\"95.410156\" xlink:href=\"#DejaVuSans-30\"/>\r\n      </g>\r\n     </g>\r\n    </g>\r\n   </g>\r\n   <g id=\"matplotlib.axis_2\">\r\n    <g id=\"ytick_1\">\r\n     <g id=\"line2d_7\">\r\n      <defs>\r\n       <path d=\"M 0 0 \r\nL -3.5 0 \r\n\" id=\"m0c38e599d1\" style=\"stroke:#000000;stroke-width:0.8;\"/>\r\n      </defs>\r\n      <g>\r\n       <use style=\"stroke:#000000;stroke-width:0.8;\" x=\"26.925\" xlink:href=\"#m0c38e599d1\" y=\"224.64\"/>\r\n      </g>\r\n     </g>\r\n     <g id=\"text_7\">\r\n      <!-- 0 -->\r\n      <g transform=\"translate(13.5625 228.439219)scale(0.1 -0.1)\">\r\n       <use xlink:href=\"#DejaVuSans-30\"/>\r\n      </g>\r\n     </g>\r\n    </g>\r\n    <g id=\"ytick_2\">\r\n     <g id=\"line2d_8\">\r\n      <g>\r\n       <use style=\"stroke:#000000;stroke-width:0.8;\" x=\"26.925\" xlink:href=\"#m0c38e599d1\" y=\"193.263377\"/>\r\n      </g>\r\n     </g>\r\n     <g id=\"text_8\">\r\n      <!-- 5 -->\r\n      <g transform=\"translate(13.5625 197.062595)scale(0.1 -0.1)\">\r\n       <defs>\r\n        <path d=\"M 691 4666 \r\nL 3169 4666 \r\nL 3169 4134 \r\nL 1269 4134 \r\nL 1269 2991 \r\nQ 1406 3038 1543 3061 \r\nQ 1681 3084 1819 3084 \r\nQ 2600 3084 3056 2656 \r\nQ 3513 2228 3513 1497 \r\nQ 3513 744 3044 326 \r\nQ 2575 -91 1722 -91 \r\nQ 1428 -91 1123 -41 \r\nQ 819 9 494 109 \r\nL 494 744 \r\nQ 775 591 1075 516 \r\nQ 1375 441 1709 441 \r\nQ 2250 441 2565 725 \r\nQ 2881 1009 2881 1497 \r\nQ 2881 1984 2565 2268 \r\nQ 2250 2553 1709 2553 \r\nQ 1456 2553 1204 2497 \r\nQ 953 2441 691 2322 \r\nL 691 4666 \r\nz\r\n\" id=\"DejaVuSans-35\" transform=\"scale(0.015625)\"/>\r\n       </defs>\r\n       <use xlink:href=\"#DejaVuSans-35\"/>\r\n      </g>\r\n     </g>\r\n    </g>\r\n    <g id=\"ytick_3\">\r\n     <g id=\"line2d_9\">\r\n      <g>\r\n       <use style=\"stroke:#000000;stroke-width:0.8;\" x=\"26.925\" xlink:href=\"#m0c38e599d1\" y=\"161.886753\"/>\r\n      </g>\r\n     </g>\r\n     <g id=\"text_9\">\r\n      <!-- 10 -->\r\n      <g transform=\"translate(7.2 165.685972)scale(0.1 -0.1)\">\r\n       <use xlink:href=\"#DejaVuSans-31\"/>\r\n       <use x=\"63.623047\" xlink:href=\"#DejaVuSans-30\"/>\r\n      </g>\r\n     </g>\r\n    </g>\r\n    <g id=\"ytick_4\">\r\n     <g id=\"line2d_10\">\r\n      <g>\r\n       <use style=\"stroke:#000000;stroke-width:0.8;\" x=\"26.925\" xlink:href=\"#m0c38e599d1\" y=\"130.51013\"/>\r\n      </g>\r\n     </g>\r\n     <g id=\"text_10\">\r\n      <!-- 15 -->\r\n      <g transform=\"translate(7.2 134.309349)scale(0.1 -0.1)\">\r\n       <use xlink:href=\"#DejaVuSans-31\"/>\r\n       <use x=\"63.623047\" xlink:href=\"#DejaVuSans-35\"/>\r\n      </g>\r\n     </g>\r\n    </g>\r\n    <g id=\"ytick_5\">\r\n     <g id=\"line2d_11\">\r\n      <g>\r\n       <use style=\"stroke:#000000;stroke-width:0.8;\" x=\"26.925\" xlink:href=\"#m0c38e599d1\" y=\"99.133506\"/>\r\n      </g>\r\n     </g>\r\n     <g id=\"text_11\">\r\n      <!-- 20 -->\r\n      <g transform=\"translate(7.2 102.932725)scale(0.1 -0.1)\">\r\n       <use xlink:href=\"#DejaVuSans-32\"/>\r\n       <use x=\"63.623047\" xlink:href=\"#DejaVuSans-30\"/>\r\n      </g>\r\n     </g>\r\n    </g>\r\n    <g id=\"ytick_6\">\r\n     <g id=\"line2d_12\">\r\n      <g>\r\n       <use style=\"stroke:#000000;stroke-width:0.8;\" x=\"26.925\" xlink:href=\"#m0c38e599d1\" y=\"67.756883\"/>\r\n      </g>\r\n     </g>\r\n     <g id=\"text_12\">\r\n      <!-- 25 -->\r\n      <g transform=\"translate(7.2 71.556102)scale(0.1 -0.1)\">\r\n       <use xlink:href=\"#DejaVuSans-32\"/>\r\n       <use x=\"63.623047\" xlink:href=\"#DejaVuSans-35\"/>\r\n      </g>\r\n     </g>\r\n    </g>\r\n    <g id=\"ytick_7\">\r\n     <g id=\"line2d_13\">\r\n      <g>\r\n       <use style=\"stroke:#000000;stroke-width:0.8;\" x=\"26.925\" xlink:href=\"#m0c38e599d1\" y=\"36.38026\"/>\r\n      </g>\r\n     </g>\r\n     <g id=\"text_13\">\r\n      <!-- 30 -->\r\n      <g transform=\"translate(7.2 40.179478)scale(0.1 -0.1)\">\r\n       <defs>\r\n        <path d=\"M 2597 2516 \r\nQ 3050 2419 3304 2112 \r\nQ 3559 1806 3559 1356 \r\nQ 3559 666 3084 287 \r\nQ 2609 -91 1734 -91 \r\nQ 1441 -91 1130 -33 \r\nQ 819 25 488 141 \r\nL 488 750 \r\nQ 750 597 1062 519 \r\nQ 1375 441 1716 441 \r\nQ 2309 441 2620 675 \r\nQ 2931 909 2931 1356 \r\nQ 2931 1769 2642 2001 \r\nQ 2353 2234 1838 2234 \r\nL 1294 2234 \r\nL 1294 2753 \r\nL 1863 2753 \r\nQ 2328 2753 2575 2939 \r\nQ 2822 3125 2822 3475 \r\nQ 2822 3834 2567 4026 \r\nQ 2313 4219 1838 4219 \r\nQ 1578 4219 1281 4162 \r\nQ 984 4106 628 3988 \r\nL 628 4550 \r\nQ 988 4650 1302 4700 \r\nQ 1616 4750 1894 4750 \r\nQ 2613 4750 3031 4423 \r\nQ 3450 4097 3450 3541 \r\nQ 3450 3153 3228 2886 \r\nQ 3006 2619 2597 2516 \r\nz\r\n\" id=\"DejaVuSans-33\" transform=\"scale(0.015625)\"/>\r\n       </defs>\r\n       <use xlink:href=\"#DejaVuSans-33\"/>\r\n       <use x=\"63.623047\" xlink:href=\"#DejaVuSans-30\"/>\r\n      </g>\r\n     </g>\r\n    </g>\r\n   </g>\r\n   <g id=\"patch_103\">\r\n    <path d=\"M 26.925 224.64 \r\nL 26.925 7.2 \r\n\" style=\"fill:none;stroke:#000000;stroke-linecap:square;stroke-linejoin:miter;stroke-width:0.8;\"/>\r\n   </g>\r\n   <g id=\"patch_104\">\r\n    <path d=\"M 361.725 224.64 \r\nL 361.725 7.2 \r\n\" style=\"fill:none;stroke:#000000;stroke-linecap:square;stroke-linejoin:miter;stroke-width:0.8;\"/>\r\n   </g>\r\n   <g id=\"patch_105\">\r\n    <path d=\"M 26.925 224.64 \r\nL 361.725 224.64 \r\n\" style=\"fill:none;stroke:#000000;stroke-linecap:square;stroke-linejoin:miter;stroke-width:0.8;\"/>\r\n   </g>\r\n   <g id=\"patch_106\">\r\n    <path d=\"M 26.925 7.2 \r\nL 361.725 7.2 \r\n\" style=\"fill:none;stroke:#000000;stroke-linecap:square;stroke-linejoin:miter;stroke-width:0.8;\"/>\r\n   </g>\r\n  </g>\r\n </g>\r\n <defs>\r\n  <clipPath id=\"p28b45e5a93\">\r\n   <rect height=\"217.44\" width=\"334.8\" x=\"26.925\" y=\"7.2\"/>\r\n  </clipPath>\r\n </defs>\r\n</svg>\r\n",
      "image/png": "[encoded data removed]"
     },
     "metadata": {
      "needs_background": "light"
     }
    }
   ],
   "source": [
    "plt.hist(sc1_data, 100)\n",
    "plt.show()"
   ]
  },
  {
   "cell_type": "code",
   "execution_count": null,
   "metadata": {},
   "outputs": [],
   "source": []
  }
 ]
}